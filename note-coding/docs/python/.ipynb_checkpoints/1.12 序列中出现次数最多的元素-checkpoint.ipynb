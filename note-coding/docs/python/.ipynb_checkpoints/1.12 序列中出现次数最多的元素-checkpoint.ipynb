{
 "cells": [
  {
   "cell_type": "markdown",
   "id": "eeab6347",
   "metadata": {},
   "source": [
    "# [1.10 删除序列相同元素并保持顺序](https://python3-cookbook.readthedocs.io/zh_CN/latest/c01/p10_remove_duplicates_from_seq_order.html)\n",
    "## 问题\n",
    "怎样在一个序列上面保持元素顺序的同时消除重复的值？\n",
    "\n",
    "## 解决方案\n",
    "如果序列上的值都是 hashable 类型，那么可以很简单的利用集合或者生成器来解决这个问题。比如：\n",
    "\n",
    "**知识点：**\n",
    "\n",
    "1.[掌握hashtable，深度理解python字典的数据结构](https://zhuanlan.zhihu.com/p/379440639)"
   ]
  },
  {
   "cell_type": "code",
   "execution_count": null,
   "id": "1b1f2ca2",
   "metadata": {},
   "outputs": [],
   "source": []
  }
 ],
 "metadata": {
  "kernelspec": {
   "display_name": "Python 3 (ipykernel)",
   "language": "python",
   "name": "python3"
  },
  "language_info": {
   "codemirror_mode": {
    "name": "ipython",
    "version": 3
   },
   "file_extension": ".py",
   "mimetype": "text/x-python",
   "name": "python",
   "nbconvert_exporter": "python",
   "pygments_lexer": "ipython3",
   "version": "3.10.9"
  }
 },
 "nbformat": 4,
 "nbformat_minor": 5
}
