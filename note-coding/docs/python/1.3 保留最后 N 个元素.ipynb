{
 "cells": [
  {
   "cell_type": "markdown",
   "id": "8be8eb4d",
   "metadata": {},
   "source": [
    "# [1.3 保留最后 N 个元素](https://python3-cookbook.readthedocs.io/zh_CN/latest/c01/p03_keep_last_n_items.html)\n",
    "## 问题\n",
    "在迭代操作或者其他操作的时候，怎样只保留最后有限几个元素的历史记录？\n",
    "\n",
    "知识点：\n",
    "1. [Python collections模块之deque()详解](https://blog.csdn.net/chl183/article/details/106958004) \n",
    "2. [如何理解Python中的yield用法?](https://zhuanlan.zhihu.com/p/268605982) "
   ]
  },
  {
   "cell_type": "code",
   "execution_count": 19,
   "id": "5c079c00",
   "metadata": {},
   "outputs": [],
   "source": [
    "from collections import deque\n",
    "\n",
    "def search(lines,pattern,history =5):\n",
    "    previous_lines = deque(maxlen=history) # 指定队列的长度 \n",
    "    for line in lines:\n",
    "        if pattern in line:\n",
    "            yield line,previous_lines #生成迭代器\n",
    "        previous_lines.append(line)"
   ]
  },
  {
   "cell_type": "code",
   "execution_count": 20,
   "id": "d631948c",
   "metadata": {},
   "outputs": [
    {
     "name": "stdout",
     "output_type": "stream",
     "text": [
      "If\n",
      "--------------------\n",
      "If\n",
      "如果\n",
      "作者 约瑟夫·拉迪亚德·吉卜林 ║ 译者 李雪\n",
      "If you can keep your head when all about you\n",
      "--------------------\n",
      "If\n",
      "如果\n",
      "作者 约瑟夫·拉迪亚德·吉卜林 ║ 译者 李雪\n",
      "If you can keep your head when all about you\n",
      "Are losing theirs and blaming it on you;\n",
      "If you can trust yourself when all men doubt you,\n",
      "--------------------\n",
      "But make allowance for their doubting too;\n",
      "如果周围的人毫无理性地向你发难，\n",
      "你仍能镇定自若保持冷静；\n",
      "如果众人对你心存猜忌，\n",
      "你仍能自信如常并认为他们的猜忌情有可原；\n",
      "If you can wait and not be tired by waiting,\n",
      "--------------------\n",
      "And yet don't look too good, nor talk too wise;\n",
      "如果你肯耐心等待不急不躁，\n",
      "或遭人诽谤却不以牙还牙，\n",
      "或遭人憎恨却不以恶报恶；\n",
      "既不装腔作势，亦不气盛趾高；\n",
      "If you can dream - and not make dreams your master;\n",
      "--------------------\n",
      "如果你肯耐心等待不急不躁，\n",
      "或遭人诽谤却不以牙还牙，\n",
      "或遭人憎恨却不以恶报恶；\n",
      "既不装腔作势，亦不气盛趾高；\n",
      "If you can dream - and not make dreams your master;\n",
      "If you can think - and not make thoughts your aim;\n",
      "--------------------\n",
      "或遭人诽谤却不以牙还牙，\n",
      "或遭人憎恨却不以恶报恶；\n",
      "既不装腔作势，亦不气盛趾高；\n",
      "If you can dream - and not make dreams your master;\n",
      "If you can think - and not make thoughts your aim;\n",
      "If you can meet with Triumph and Disaster\n",
      "--------------------\n",
      "And treat those two impostors just the same；\n",
      "如果你有梦想，而又不为梦主宰；\n",
      "如果你有神思，而又不走火入魔；\n",
      "如果你坦然面对胜利和灾难，\n",
      "对虚渺的胜负荣辱胸怀旷荡；\n",
      "If you can bear to hear the truth you've spoken\n",
      "--------------------\n",
      "And stoop and build 'em up with worn-out tools;\n",
      "如果你能忍受有这样的无赖，\n",
      "歪曲你的口吐真言蒙骗笨汉，\n",
      "或看着心血铸就的事业崩溃，\n",
      "仍能忍辱负重脚踏实地重新攀登；\n",
      "If you can make one heap of all your winnings\n",
      "--------------------\n",
      "And never breathe a word about your loss;\n",
      "如果你敢把取得的一切胜利，\n",
      "为了更崇高的目标孤注一掷，\n",
      "面临失去，\n",
      "决心从头再来而绝口不提自己的损失；\n",
      "If you can force your heart and nerve and sinew\n",
      "--------------------\n",
      "Except the Will which says to them:\"Hold on\";\n",
      "如果人们早已离你而去，\n",
      "你仍能坚守阵地奋力前驱，\n",
      "身上已一无所有，\n",
      "唯存意志在高喊“顶住”；\n",
      "If you can talk with crowds and keep your virtue,\n",
      "--------------------\n",
      "你仍能坚守阵地奋力前驱，\n",
      "身上已一无所有，\n",
      "唯存意志在高喊“顶住”；\n",
      "If you can talk with crowds and keep your virtue,\n",
      "Or walk with kings - nor lose the common touch;\n",
      "If neither foes nor loving friends can hurt you;\n",
      "--------------------\n",
      "身上已一无所有，\n",
      "唯存意志在高喊“顶住”；\n",
      "If you can talk with crowds and keep your virtue,\n",
      "Or walk with kings - nor lose the common touch;\n",
      "If neither foes nor loving friends can hurt you;\n",
      "If all men count with you, but none too much;\n",
      "--------------------\n",
      "If all men count with you, but none too much;\n",
      "如果你跟平民交谈而不变谦虚之态，\n",
      "亦或与王侯散步而不露谄媚之颜；\n",
      "如果敌友都无法对你造成伤害；\n",
      "如果众人对你信赖有加却不过分依赖；\n",
      "If you can fill the unforgiving minute\n",
      "--------------------\n"
     ]
    }
   ],
   "source": [
    "with open('somefile.txt', encoding='utf-8') as f:\n",
    "    for line,prevlines in search(f,'If',5):\n",
    "        for pline in prevlines:\n",
    "            print(pline,end='')\n",
    "        print(line,end='')\n",
    "        print('-'*20)"
   ]
  },
  {
   "cell_type": "code",
   "execution_count": 2,
   "id": "7254c994",
   "metadata": {},
   "outputs": [
    {
     "name": "stdout",
     "output_type": "stream",
     "text": [
      "deque(['a', 'b', 'c', 'd', 4])\n",
      "deque([0, 1, 2, 3, 'k'])\n"
     ]
    }
   ],
   "source": [
    "from collections import deque\n",
    "st = \"abcd\"\n",
    "list1 = [0, 1, 2, 3]\n",
    "dst = deque(st)\n",
    "dlist1 = deque(list1)\n",
    "dst.append(4)\n",
    "dlist1.append(\"k\")\n",
    "print(dst)\n",
    "print(dlist1)\n",
    "#结果：\n",
    "#deque(['a', 'b', 'c', 'd', 4])\n",
    "#deque([0, 1, 2, 3, 'k'])\n"
   ]
  },
  {
   "cell_type": "code",
   "execution_count": 1,
   "id": "aecdbb16",
   "metadata": {},
   "outputs": [
    {
     "name": "stdout",
     "output_type": "stream",
     "text": [
      "deque([1, 2], maxlen=2)\n",
      "deque([2, 3], maxlen=2)\n",
      "2\n"
     ]
    }
   ],
   "source": [
    "from collections import deque\n",
    "\n",
    "dst = deque(maxlen=2)\n",
    "dst.append(1)\n",
    "dst.append(2)\n",
    "print(dst)\n",
    "dst.append(3)\n",
    "print(dst)\n",
    "print(dst.maxlen)\n",
    "#结果:\n",
    "#deque([1, 2], maxlen=2)\n",
    "#deque([2, 3], maxlen=2)\n",
    "#2\n"
   ]
  },
  {
   "cell_type": "code",
   "execution_count": 4,
   "id": "05804b98",
   "metadata": {},
   "outputs": [
    {
     "name": "stdout",
     "output_type": "stream",
     "text": [
      "1\n",
      "1\n",
      "2\n",
      "3\n",
      "5\n"
     ]
    }
   ],
   "source": [
    "def fab(max): \n",
    "    n, a, b = 0, 0, 1 \n",
    "    while n < max: \n",
    "        yield b      # 使用 yield\n",
    "        # print b \n",
    "        a, b = b, a + b \n",
    "        n = n + 1\n",
    " \n",
    "for n in fab(5): \n",
    "    print(n)"
   ]
  },
  {
   "cell_type": "code",
   "execution_count": null,
   "id": "6fa90304",
   "metadata": {},
   "outputs": [],
   "source": []
  }
 ],
 "metadata": {
  "kernelspec": {
   "display_name": "Python 3 (ipykernel)",
   "language": "python",
   "name": "python3"
  },
  "language_info": {
   "codemirror_mode": {
    "name": "ipython",
    "version": 3
   },
   "file_extension": ".py",
   "mimetype": "text/x-python",
   "name": "python",
   "nbconvert_exporter": "python",
   "pygments_lexer": "ipython3",
   "version": "3.10.9"
  }
 },
 "nbformat": 4,
 "nbformat_minor": 5
}
