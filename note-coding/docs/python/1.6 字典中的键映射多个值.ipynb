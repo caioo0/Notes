{
 "cells": [
  {
   "cell_type": "markdown",
   "id": "f681d358",
   "metadata": {},
   "source": [
    "# [1.6 字典中的键映射多个值](https://python3-cookbook.readthedocs.io/zh_CN/latest/c01/p06_map_keys_to_multiple_values_in_dict.html)\n",
    "## 问题\n",
    "怎样实现一个键对应多个值的字典（也叫 multidict）？\n",
    "\n",
    "## 解决方案\n",
    "一个字典就是一个键对应一个单值的映射。如果你想要一个键映射多个值，那么你就需要将这多个值放到另外的容器中， 比如列表或者集合里面。比如，你可以像下面这样构造这样的字典："
   ]
  },
  {
   "cell_type": "code",
   "execution_count": 6,
   "id": "76710c45",
   "metadata": {},
   "outputs": [],
   "source": [
    "d = {\n",
    "    'a' : [1, 2, 3],\n",
    "    'b' : [4, 5]\n",
    "}\n",
    "e = {\n",
    "    'a' : {1, 2, 3},\n",
    "    'b' : {4, 5}\n",
    "}"
   ]
  },
  {
   "cell_type": "code",
   "execution_count": 12,
   "id": "b97237f1",
   "metadata": {},
   "outputs": [
    {
     "data": {
      "text/plain": [
       "3"
      ]
     },
     "execution_count": 12,
     "metadata": {},
     "output_type": "execute_result"
    }
   ],
   "source": [
    " thisdict = {\n",
    "  \"brand\": \"Ford\",\n",
    "  \"model\": [1, 2, 3],\n",
    "  \"year\": 1964\n",
    "}\n",
    "len(thisdict)\n"
   ]
  },
  {
   "cell_type": "code",
   "execution_count": 15,
   "id": "5117742d",
   "metadata": {},
   "outputs": [
    {
     "data": {
      "text/plain": [
       "3"
      ]
     },
     "execution_count": 15,
     "metadata": {},
     "output_type": "execute_result"
    }
   ],
   "source": [
    "def searchnum(dict,p):\n",
    "    if not len(dict):\n",
    "        return\n",
    "    return len(dict.get(p))\n",
    "\n",
    "searchnum(thisdict,\"model\")"
   ]
  },
  {
   "cell_type": "markdown",
   "id": "cba05a08",
   "metadata": {},
   "source": [
    "你可以很方便的使用 collections 模块中的 defaultdict 来构造这样的字典。 defaultdict 的一个特征是它会自动初始化每个 key 刚开始对应的值，所以你只需要关注添加元素操作了。比如："
   ]
  },
  {
   "cell_type": "code",
   "execution_count": 23,
   "id": "c2df719c",
   "metadata": {},
   "outputs": [
    {
     "data": {
      "text/plain": [
       "defaultdict(list, {'a': [1, 2], 'b': [4]})"
      ]
     },
     "execution_count": 23,
     "metadata": {},
     "output_type": "execute_result"
    }
   ],
   "source": [
    "from collections import defaultdict\n",
    "\n",
    "d = defaultdict(list)\n",
    "d['a'].append(1)\n",
    "d['a'].append(2)\n",
    "d['b'].append(4)\n",
    "d"
   ]
  },
  {
   "cell_type": "code",
   "execution_count": 24,
   "id": "bb08bd56",
   "metadata": {},
   "outputs": [
    {
     "data": {
      "text/plain": [
       "defaultdict(set, {'a': {1, 2}, 'b': {4}})"
      ]
     },
     "execution_count": 24,
     "metadata": {},
     "output_type": "execute_result"
    }
   ],
   "source": [
    "d = defaultdict(set)\n",
    "d['a'].add(1)\n",
    "d['a'].add(2)\n",
    "d['b'].add(4)\n",
    "d\n"
   ]
  },
  {
   "cell_type": "markdown",
   "id": "4322be47",
   "metadata": {},
   "source": [
    "## 解决思路"
   ]
  },
  {
   "cell_type": "code",
   "execution_count": 45,
   "id": "270528d7",
   "metadata": {},
   "outputs": [
    {
     "data": {
      "text/plain": [
       "{'a': ['1', '2', '3']}"
      ]
     },
     "execution_count": 45,
     "metadata": {},
     "output_type": "execute_result"
    }
   ],
   "source": [
    "pairs= {\"a1\":\"s1\",\"a2\":\"s2\",\"a3\":\"s3\"}\n",
    "d = {}\n",
    "for key ,value in pairs:\n",
    "    if key not in d:\n",
    "        d[key] = []\n",
    "    d[key].append(value)\n",
    "\n",
    "d"
   ]
  },
  {
   "cell_type": "code",
   "execution_count": 46,
   "id": "224aac31",
   "metadata": {},
   "outputs": [
    {
     "data": {
      "text/plain": [
       "defaultdict(list, {'a': ['1', '2', '3']})"
      ]
     },
     "execution_count": 46,
     "metadata": {},
     "output_type": "execute_result"
    }
   ],
   "source": [
    "from collections import defaultdict\n",
    "\n",
    "d = defaultdict(list)\n",
    "\n",
    "for key, value in pairs:\n",
    "    d[key].append(value)\n",
    "    \n",
    "d"
   ]
  },
  {
   "cell_type": "code",
   "execution_count": 47,
   "id": "0d5b4130",
   "metadata": {},
   "outputs": [
    {
     "name": "stdout",
     "output_type": "stream",
     "text": [
      "a 1\n",
      "a 2\n",
      "a 3\n"
     ]
    }
   ],
   "source": [
    "pairs= {\"a1\":\"s1\",\"a2\":\"s2\",\"a3\":\"s3\"}\n",
    "for key ,value in pairs:\n",
    "    print(key,value)"
   ]
  },
  {
   "cell_type": "code",
   "execution_count": null,
   "id": "17f87722",
   "metadata": {},
   "outputs": [],
   "source": []
  }
 ],
 "metadata": {
  "kernelspec": {
   "display_name": "Python 3 (ipykernel)",
   "language": "python",
   "name": "python3"
  },
  "language_info": {
   "codemirror_mode": {
    "name": "ipython",
    "version": 3
   },
   "file_extension": ".py",
   "mimetype": "text/x-python",
   "name": "python",
   "nbconvert_exporter": "python",
   "pygments_lexer": "ipython3",
   "version": "3.10.9"
  }
 },
 "nbformat": 4,
 "nbformat_minor": 5
}
