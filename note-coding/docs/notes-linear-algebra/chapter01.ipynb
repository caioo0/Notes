{
 "cells": [
  {
   "cell_type": "markdown",
   "id": "e61e11a7",
   "metadata": {},
   "source": [
    "# 第一讲：线性方程组的几何解释\n",
    "\n",
    "\n",
    "\n",
    "n线性等式，n个未知数\n",
    "\n",
    "\n",
    "## 二元方程组\n",
    "\n",
    "线性方程组的表示形式\n",
    "\n",
    "$$\\begin{cases}2x-y=0\\\\-x+2y=3\\end{cases}$$\n",
    "\n",
    "可以表示成矩阵及向量形式： \n",
    "\n",
    "$$\\begin{bmatrix}2&-1\\\\-1&2\\end{bmatrix}\\begin{bmatrix}x\\\\y\\end{bmatrix}=\\begin{bmatrix}0\\\\3\\end{bmatrix}$$\n",
    "\n",
    "我们用矩阵$A$代表未知数的系数，用$x$代表未知数向量，用$b$代表等号右边的常数向量，则通式为：\n",
    "\n",
    "$$\n",
    "Ax=b\n",
    "$$\n",
    "\n",
    "### 行视角 Row picture\n",
    "\n",
    "即直角坐标系中的图像。\n",
    "\n",
    "[matplotlib用法](https://lmandsl.gitee.io/docs/datawhale/#/docs/fantastic-matplotlib_29)\n",
    "[seaborn 0.9 中文文档](https://seaborn.apachecn.org/#/)"
   ]
  },
  {
   "cell_type": "code",
   "execution_count": 23,
   "id": "8956df73",
   "metadata": {},
   "outputs": [
    {
     "data": {
      "image/png": "[encoded data removed]",
      "text/plain": [
       "<Figure size 576x360 with 1 Axes>"
      ]
     },
     "metadata": {
      "needs_background": "light"
     },
     "output_type": "display_data"
    }
   ],
   "source": [
    "%matplotlib inline\n",
    "import matplotlib.pyplot as plt\n",
    "import numpy as np\n",
    "\n",
    "\n",
    "plt.rcParams['font.sans-serif'] = ['SimHei']   #用来正常显示中文标签\n",
    "plt.rcParams['axes.unicode_minus'] = False   #用来正常显示负号\n",
    "x = np.linspace(-2, 2, 50)\n",
    "#\n",
    "y1 = 2*x\n",
    "y2 = 0.5*(3+x)\n",
    "\n",
    "\n",
    "\n",
    "fig=plt.figure(num=3, figsize=(8, 5))\n",
    "plt.axhline(y=0, c='black')\n",
    "plt.axvline(x=0, c='black')\n",
    "plt.xlabel('x label')\n",
    "plt.ylabel('y label')\n",
    "plt.title('exam1')\n",
    "plt.plot(x, y1)\n",
    "plt.plot(x, y2)\n",
    "plt.style.use('seaborn')\n",
    "plt.draw()\n"
   ]
  },
  {
   "cell_type": "code",
   "execution_count": 24,
   "id": "6254bd8d",
   "metadata": {},
   "outputs": [],
   "source": [
    "plt.close(fig)"
   ]
  },
  {
   "cell_type": "markdown",
   "id": "a96a9eb5",
   "metadata": {},
   "source": [
    "上图是我们都很熟悉的直角坐标系中的两直线相交的情况\n",
    "\n",
    "### 列视角 Column picture\n",
    "\n",
    "上面的方程组写成列向量的线性组合:\n",
    "\n",
    "$x\\begin{bmatrix}2\\\\-1\\end{bmatrix}+y\\begin{bmatrix}-1\\\\2\\end{bmatrix}=\\begin{bmatrix}0\\\\3\\end{bmatrix}$\n",
    "\n",
    "第一个列向量：$col_1$，第二个列向量：$col_2$\n",
    "\n",
    "要使得式子成立，需要第一个向量加上`两倍`的第二个向量，即\n",
    "\n",
    "$\n",
    "1\\begin{bmatrix}2\\\\-1\\end{bmatrix}+2\\begin{bmatrix}-1\\\\2\\end{bmatrix}=\\begin{bmatrix}0\\\\3\\end{bmatrix}\n",
    "$\n",
    "\n",
    "现在来看列图像，在二维平面上画出上面的列向量：\n",
    "\n",
    "偏函数：[`functools.partial`]((https://www.runoob.com/w3cnote/python-partial.html))\n",
    "\n",
    "向量箭头：[`pyplot.arrow`](https://matplotlib.org/stable/api/_as_gen/matplotlib.pyplot.arrow.html)"
   ]
  },
  {
   "cell_type": "code",
   "execution_count": 39,
   "id": "50d6357f",
   "metadata": {},
   "outputs": [
    {
     "data": {
      "image/png": "[encoded data removed]",
      "text/plain": [
       "<Figure size 576x396 with 1 Axes>"
      ]
     },
     "metadata": {},
     "output_type": "display_data"
    }
   ],
   "source": [
    "from functools import partial\n",
    "\n",
    "fig = plt.figure()\n",
    "plt.axhline(y=0,c='black')\n",
    "plt.axvline(x=0,c='black')\n",
    "ax = plt.gca()\n",
    "ax.set_xlim(-2.5, 2.5)\n",
    "ax.set_ylim(-3, 4)\n",
    "\n",
    "arrow_vector = partial(plt.arrow, width=0.01, head_width=0.1, head_length=0.2, length_includes_head=True)\n",
    "\n",
    "arrow_vector(0, 0, 2, -1,color='g')\n",
    "arrow_vector(0, 0, -1, 2,color='c')\n",
    "arrow_vector(2,-1,-2,4,color='b')\n",
    "arrow_vector(0,0,0,3,width=0.05,color='r')\n",
    "plt.draw()"
   ]
  },
  {
   "cell_type": "code",
   "execution_count": 37,
   "id": "60ef4542",
   "metadata": {},
   "outputs": [],
   "source": [
    "plt.close(fig)"
   ]
  },
  {
   "cell_type": "markdown",
   "id": "d64fcba2",
   "metadata": {},
   "source": [
    "上图蓝色箭向量是 $2 ×\\begin{bmatrix}-1\\\\2\\end{bmatrix}$（两倍的蓝绿向量$col_2$），  绿向量$col_1$与蓝向量的向量和就是红向量$b$。\n",
    "\n",
    "可以看出最后的结果为：\n",
    "\n",
    "$$\n",
    "1\\times\\begin{bmatrix}2\\\\-1\\end{bmatrix}+2\\times\\begin{bmatrix}-1\\\\2\\end{bmatrix}=\\begin{bmatrix}0\\\\3\\end{bmatrix}\n",
    "$$\n",
    "\n",
    "接着，我们继续观察$x\\begin{bmatrix}2\\\\-1\\end{bmatrix}+y\\begin{bmatrix}-1\\\\2\\end{bmatrix}=\\begin{bmatrix}0\\\\3\\end{bmatrix}$，\n",
    "$col_1,col_2$的某种线性组合得到了向量$b$，那么$col_1,col_2$的所有线性组合能够得到什么结果？它们将铺满整个平面。"
   ]
  },
  {
   "cell_type": "markdown",
   "id": "5e2edad1",
   "metadata": {},
   "source": [
    "python实现方程组解"
   ]
  },
  {
   "cell_type": "code",
   "execution_count": 41,
   "id": "085f55e0",
   "metadata": {},
   "outputs": [
    {
     "name": "stdout",
     "output_type": "stream",
     "text": [
      "[1. 2.]\n"
     ]
    }
   ],
   "source": [
    "from scipy import linalg\n",
    "import numpy as np\n",
    "a = np.array([[2,-1],[-1,2]])\n",
    "b = np.array([0,3])\n",
    "x = linalg.solve(a,b)\n",
    "print(x)"
   ]
  },
  {
   "cell_type": "markdown",
   "id": "236622f6",
   "metadata": {},
   "source": [
    "## 三元方程组\n",
    "\n",
    "考虑三个等式和三个未知数的情况，方程组如下：\n",
    "\n",
    "$$\\begin{cases}2x-y=0\\\\-x+2y-z=-1\\\\-3y+4z=4\\end{cases}$$\n",
    "\n",
    "可写矩阵形式：\n",
    "$$A = \\begin{bmatrix}2&-1&0\\\\-1&2&-1\\\\0&-3&4\\end{bmatrix},\\theta(避免跟系数x重名)=\\begin{bmatrix}x\\\\y\\\\z\\end{bmatrix},b=\\begin{bmatrix}0\\\\-1\\\\4\\end{bmatrix}$$\n",
    "\n",
    "\n",
    "**行视角**\n",
    "\n",
    "每个等式在三维坐标系中都组成一个二维平面，两个平面如果相交，会交汇于一条直线。三个平面如果不存在平行情况，会相交于一点，即是方程组的解。\n",
    "\n",
    "**列视角**\n",
    "\n",
    "方程组列向量的线性组合形式：\n",
    "$$\n",
    "x\\begin{bmatrix}2\\\\-1\\\\0\\end{bmatrix} + y\\begin{bmatrix}-1\\\\2\\\\-3\\end{bmatrix} + z\\begin{bmatrix}0\\\\-1\\\\4\\end{bmatrix} = \\begin{bmatrix}0\\\\-1\\\\4\\end{bmatrix}\n",
    "$$\n",
    "\n",
    "很容易看出当`$x=0, y=0, z=1$`时，上述的线性组合满足要求。"
   ]
  },
  {
   "cell_type": "code",
   "execution_count": 47,
   "id": "f2d7ffa1",
   "metadata": {},
   "outputs": [
    {
     "name": "stdout",
     "output_type": "stream",
     "text": [
      "[ 0. -0.  1.]\n"
     ]
    }
   ],
   "source": [
    "from scipy import linalg\n",
    "import numpy as np\n",
    "a = np.array([[2,-1,0],[-1,2,-1],[0,-3,4]])\n",
    "b = np.array([0,-1,4])\n",
    "x = linalg.solve(a,b)\n",
    "print(x)"
   ]
  },
  {
   "cell_type": "markdown",
   "id": "f3880d46",
   "metadata": {},
   "source": [
    "## 推广"
   ]
  },
  {
   "cell_type": "markdown",
   "id": "05212fbb",
   "metadata": {},
   "source": [
    "对于$Ax=b$，对于任意向量$b$是否存在向量$x$使等式成立？\n",
    "\n",
    "根据列视角，这个问题等于，A矩阵的列的线性组合能否覆盖整个三维向量空间？\n",
    "\n",
    "更普遍的对于$n$维空间内的实数矩阵$A$，我们可以记为$b \\in R^{n×n}$，是否可以对$A$的列进行任意的线性组合，使得结果填满整个n维空间？\n",
    "\n",
    "### 二维情况\n",
    "\n",
    "按照列视角来看，如果A的列向量都在同一条直线上，那么它们的线性组合也都会在这条直线上，永远无法填满整个二维平面。\n",
    "\n",
    "如果我们将二维情况的矩阵$A$计为$[v1,v2]$,例如当\n",
    "\n",
    "$$\n",
    "A = \\begin{bmatrix}1&3\\\\-2&-6\\end{bmatrix}\n",
    "$$\n",
    "\n",
    "时，我们有，\n",
    "\n",
    "$$\n",
    "v1 = \\begin{bmatrix}1\\\\-2\\end{bmatrix}, v2=\\begin{bmatrix}3\\\\-6\\end{bmatrix}\n",
    "$$\n",
    "\n",
    "那么，如果$v1 = k × v2,k \\in R$时，无法填满平面。\n",
    "\n",
    "### 高维情况\n",
    "\n",
    "推广到三维的情况，如果A的列向量都在同一个二维平面上，那么它们的线性组合也都会在这个平面上，永远无法填满整个三维空间。\n",
    "\n",
    "即如果$v1 = k1×v2 + k2 × v3 ,k1,k2 \\in R$时，无法满足。\n",
    "\n",
    "更一般的，如果$A$矩阵的列向量不是独立的，其中的某个列是其他列的线性组合的话，上述问题不成立。\n",
    "\n"
   ]
  },
  {
   "cell_type": "markdown",
   "id": "c0db67d8",
   "metadata": {},
   "source": [
    "### 矩阵与向量乘积的列视角\n",
    "\n",
    "使用列视角的方式来看矩阵与向量的乘积，即$Ax = b$中的$Ax:$\n",
    "\n",
    "$$\n",
    "\\begin{bmatrix}2&5\\\\1&3\\end{bmatrix}\\begin{bmatrix}1\\\\2\\end{bmatrix} = 1 × \\begin{bmatrix}2\\\\1\\end{bmatrix} + 2 × \\begin{bmatrix}5\\\\3\\end{bmatrix}\n",
    "= \\begin{bmatrix}12\\\\7\\end{bmatrix}\n",
    "$$\n",
    "\n",
    "如果按照行视角来考虑，那么将会是$A$矩阵的行与向量进行点积之后的结果：\n",
    "\n"
   ]
  },
  {
   "cell_type": "code",
   "execution_count": 54,
   "id": "c838242d",
   "metadata": {},
   "outputs": [
    {
     "data": {
      "text/plain": [
       "array([12,  7])"
      ]
     },
     "execution_count": 54,
     "metadata": {},
     "output_type": "execute_result"
    }
   ],
   "source": [
    "import numpy as np\n",
    "A = np.array([[2, 5], [1, 3]])\n",
    "x = np.array([1, 2])\n",
    "\n",
    "np.array([A[0].dot(x), A[1].dot(x)])"
   ]
  },
  {
   "cell_type": "markdown",
   "id": "07bc4dc2",
   "metadata": {},
   "source": [
    "### 方程组矩阵形式Ax=b（一种乘法运算）"
   ]
  },
  {
   "cell_type": "markdown",
   "id": "8932dafc",
   "metadata": {},
   "source": [
    "举个例子，如何计算矩阵乘以向量:\n",
    "\n",
    "$$A = \\begin{bmatrix}2&5\\\\1&3\\end{bmatrix},x=\\begin{bmatrix}1\\\\2\\end{bmatrix}$$\n",
    "\n",
    "列向量线性组合，一次计算一列\n",
    "$$\n",
    "\\begin{bmatrix}2&5\\\\1&3\\end{bmatrix}\\begin{bmatrix}1\\\\2\\end{bmatrix}=1\\begin{bmatrix}2\\\\1\\end{bmatrix}+2\\begin{bmatrix}5\\\\3\\end{bmatrix}=\\begin{bmatrix}12\\\\7\\end{bmatrix}\n",
    "$$\n",
    "\n",
    "向量内积，矩阵第一行向量点乘x向量\n",
    "$$\n",
    "\\begin{bmatrix}2&5\\end{bmatrix}\\cdot\\begin{bmatrix}1&2\\end{bmatrix}^T=12,\\ \\begin{bmatrix}1&3\\end{bmatrix}\\cdot\\begin{bmatrix}1&2\\end{bmatrix}^T=7\n",
    "$$\n",
    "\n",
    "\n",
    "课程建议使用第一种方法，将$Ax$看做$A$列向量的线性组合。"
   ]
  },
  {
   "cell_type": "markdown",
   "id": "b13ec7bf",
   "metadata": {},
   "source": [
    "## 其他资料\n",
    "\n",
    "1. [向量的线性表示、线性相关、线性无关](https://zhuanlan.zhihu.com/p/32986536)\n",
    "2. [线性代数笔记](https://github.com/wangyingsm/linear-algebra-notes/blob/master/lecture1.basic_concepts.ipynb)"
   ]
  },
  {
   "cell_type": "markdown",
   "id": "7b670dee",
   "metadata": {},
   "source": [
    "## 习题"
   ]
  },
  {
   "cell_type": "markdown",
   "id": "ebaf08c8",
   "metadata": {},
   "source": [
    "【题1】 找到一个x的组合(非0组合)，使 $x_1w_1 + x_2w_2 + x_3w_3$ 的结果为0向量\n",
    "\n",
    "$\n",
    "w_1 = \\begin{bmatrix}1\\\\2\\\\3\\end{bmatrix} \n",
    "w_2 = \\begin{bmatrix}4\\\\5\\\\6\\end{bmatrix} \n",
    "w_3 = \\begin{bmatrix}7\\\\8\\\\9\\end{bmatrix} \n",
    "$"
   ]
  },
  {
   "cell_type": "markdown",
   "id": "2bd74b71",
   "metadata": {},
   "source": [
    "【题2】求解矩阵乘法：$\\begin{bmatrix}1&2&0\\\\2&0&3\\\\4&1&1\\end{bmatrix}$"
   ]
  },
  {
   "cell_type": "markdown",
   "id": "1c129143",
   "metadata": {},
   "source": [
    "【题3】 判断：一个 3x2 矩阵 乘 3x2 矩阵 是一个 3x3矩阵，如果是假的话，写一个类似这个的正确表达"
   ]
  },
  {
   "cell_type": "code",
   "execution_count": null,
   "id": "fd7eda03",
   "metadata": {},
   "outputs": [],
   "source": []
  }
 ],
 "metadata": {
  "kernelspec": {
   "display_name": "Python 3 (ipykernel)",
   "language": "python",
   "name": "python3"
  },
  "language_info": {
   "codemirror_mode": {
    "name": "ipython",
    "version": 3
   },
   "file_extension": ".py",
   "mimetype": "text/x-python",
   "name": "python",
   "nbconvert_exporter": "python",
   "pygments_lexer": "ipython3",
   "version": "3.8.8"
  }
 },
 "nbformat": 4,
 "nbformat_minor": 5
}
