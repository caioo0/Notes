{
 "cells": [
  {
   "cell_type": "markdown",
   "id": "16dbfab5",
   "metadata": {},
   "source": [
    "# [1.5 实现一个优先级队列](https://python3-cookbook.readthedocs.io/zh_CN/latest/c01/p05_implement_a_priority_queue.html)\n",
    "\n",
    "## 问题\n",
    "怎样实现一个按优先级排序的队列？ 并且在这个队列上面每次 pop 操作总是返回优先级最高的那个元素\n",
    "\n",
    "## 解决方案\n",
    "下面的类利用 heapq 模块实现了一个简单的优先级队列：\n",
    "\n",
    "**知识点：**\n",
    "1. [heapq --- 堆队列算法](https://docs.python.org/zh-cn/3/library/heapq.html)"
   ]
  },
  {
   "cell_type": "code",
   "execution_count": 12,
   "id": "a5e010d5",
   "metadata": {},
   "outputs": [],
   "source": [
    "import heapq\n",
    "\n",
    "class PriorityQueue:\n",
    "    def __init__(self):\n",
    "        self._queue = []\n",
    "        self._index = 0\n",
    "    \n",
    "    def push(self,item,priority):\n",
    "        heapq.heappush(self._queue,(-priority,self._index,item))\n",
    "        self._index +=1\n",
    "        \n",
    "    def pop(self):\n",
    "        return heapq.heappop(self._queue)[-1]\n",
    "    "
   ]
  },
  {
   "cell_type": "code",
   "execution_count": 13,
   "id": "a43d5524",
   "metadata": {},
   "outputs": [],
   "source": [
    "class Item:\n",
    "    def __init__(self, name):\n",
    "         self.name = name\n",
    "    def __repr__(self):\n",
    "         return 'Item({!r})'.format(self.name)"
   ]
  },
  {
   "cell_type": "code",
   "execution_count": 14,
   "id": "9cd340f7",
   "metadata": {},
   "outputs": [],
   "source": [
    "q = PriorityQueue()"
   ]
  },
  {
   "cell_type": "code",
   "execution_count": 25,
   "id": "6526ebb5",
   "metadata": {},
   "outputs": [],
   "source": [
    "q.push(Item('foo'), 1)\n",
    "q.push(Item('bar'), 5)\n",
    "q.push(Item('spam'), 4)\n",
    "q.push(Item('grok'), 1)"
   ]
  },
  {
   "cell_type": "code",
   "execution_count": 26,
   "id": "81a1ffe1",
   "metadata": {},
   "outputs": [
    {
     "data": {
      "text/plain": [
       "Item('bar')"
      ]
     },
     "execution_count": 26,
     "metadata": {},
     "output_type": "execute_result"
    }
   ],
   "source": [
    "q.pop()"
   ]
  },
  {
   "cell_type": "code",
   "execution_count": 27,
   "id": "ba63115e",
   "metadata": {},
   "outputs": [
    {
     "data": {
      "text/plain": [
       "Item('spam')"
      ]
     },
     "execution_count": 27,
     "metadata": {},
     "output_type": "execute_result"
    }
   ],
   "source": [
    "q.pop()"
   ]
  },
  {
   "cell_type": "code",
   "execution_count": 28,
   "id": "4f8160c8",
   "metadata": {},
   "outputs": [
    {
     "data": {
      "text/plain": [
       "Item('foo')"
      ]
     },
     "execution_count": 28,
     "metadata": {},
     "output_type": "execute_result"
    }
   ],
   "source": [
    "q.pop()"
   ]
  },
  {
   "cell_type": "code",
   "execution_count": 29,
   "id": "4b646731",
   "metadata": {},
   "outputs": [
    {
     "data": {
      "text/plain": [
       "Item('grok')"
      ]
     },
     "execution_count": 29,
     "metadata": {},
     "output_type": "execute_result"
    }
   ],
   "source": [
    "q.pop()"
   ]
  },
  {
   "cell_type": "code",
   "execution_count": null,
   "id": "05cb2287",
   "metadata": {},
   "outputs": [],
   "source": []
  }
 ],
 "metadata": {
  "kernelspec": {
   "display_name": "Python 3 (ipykernel)",
   "language": "python",
   "name": "python3"
  },
  "language_info": {
   "codemirror_mode": {
    "name": "ipython",
    "version": 3
   },
   "file_extension": ".py",
   "mimetype": "text/x-python",
   "name": "python",
   "nbconvert_exporter": "python",
   "pygments_lexer": "ipython3",
   "version": "3.10.9"
  }
 },
 "nbformat": 4,
 "nbformat_minor": 5
}
