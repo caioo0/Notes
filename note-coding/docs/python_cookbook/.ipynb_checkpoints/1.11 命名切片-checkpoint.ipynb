{
 "cells": [
  {
   "cell_type": "markdown",
   "id": "f643133b",
   "metadata": {},
   "source": [
    "# 1.11 命名切片\n",
    "## 问题\n",
    "如果你的程序包含了大量无法直视的硬编码切片，并且你想清理一下代码。\n",
    "\n",
    "## 解决方案\n",
    "假定你要从一个记录（比如文件或其他类似格式）中的某些固定位置提取字段："
   ]
  },
  {
   "cell_type": "code",
   "execution_count": 1,
   "id": "2240dbd4",
   "metadata": {},
   "outputs": [],
   "source": [
    "######    0123456789012345678901234567890123456789012345678901234567890'\n",
    "record = '....................100 .......513.25 ..........'\n",
    "cost = int(record[20:23]) * float(record[31:37])"
   ]
  },
  {
   "cell_type": "code",
   "execution_count": 2,
   "id": "77e2ae5d",
   "metadata": {},
   "outputs": [
    {
     "data": {
      "text/plain": [
       "51325.0"
      ]
     },
     "execution_count": 2,
     "metadata": {},
     "output_type": "execute_result"
    }
   ],
   "source": [
    "cost"
   ]
  },
  {
   "cell_type": "markdown",
   "id": "a3c82632",
   "metadata": {},
   "source": [
    "与其那样写，为什么不像这样命名切片呢："
   ]
  },
  {
   "cell_type": "code",
   "execution_count": 3,
   "id": "a67a9a8f",
   "metadata": {},
   "outputs": [],
   "source": [
    "SHARES = slice(20, 23)\n",
    "PRICE = slice(31, 37)\n",
    "cost = int(record[SHARES]) * float(record[PRICE])"
   ]
  },
  {
   "cell_type": "code",
   "execution_count": 7,
   "id": "be40acca",
   "metadata": {},
   "outputs": [
    {
     "data": {
      "text/plain": [
       "(20, 23, None)"
      ]
     },
     "execution_count": 7,
     "metadata": {},
     "output_type": "execute_result"
    }
   ],
   "source": [
    "SHARES.start,SHARES.stop,SHARES.step"
   ]
  },
  {
   "cell_type": "code",
   "execution_count": 11,
   "id": "52fc3338",
   "metadata": {},
   "outputs": [],
   "source": [
    "a = slice(5, 50, 2)"
   ]
  },
  {
   "cell_type": "code",
   "execution_count": 13,
   "id": "b4cb7efd",
   "metadata": {},
   "outputs": [],
   "source": [
    "s = 'HelloWorld'"
   ]
  },
  {
   "cell_type": "code",
   "execution_count": 14,
   "id": "1777f90a",
   "metadata": {},
   "outputs": [
    {
     "data": {
      "text/plain": [
       "(5, 10, 2)"
      ]
     },
     "execution_count": 14,
     "metadata": {},
     "output_type": "execute_result"
    }
   ],
   "source": [
    "a.indices(len(s))"
   ]
  },
  {
   "cell_type": "code",
   "execution_count": 15,
   "id": "99d4151d",
   "metadata": {},
   "outputs": [
    {
     "name": "stdout",
     "output_type": "stream",
     "text": [
      "W\n",
      "r\n",
      "d\n"
     ]
    }
   ],
   "source": [
    "for i in range(*a.indices(len(s))):\n",
    "    print(s[i])"
   ]
  },
  {
   "cell_type": "code",
   "execution_count": null,
   "id": "92208333",
   "metadata": {},
   "outputs": [],
   "source": []
  }
 ],
 "metadata": {
  "kernelspec": {
   "display_name": "Python 3 (ipykernel)",
   "language": "python",
   "name": "python3"
  },
  "language_info": {
   "codemirror_mode": {
    "name": "ipython",
    "version": 3
   },
   "file_extension": ".py",
   "mimetype": "text/x-python",
   "name": "python",
   "nbconvert_exporter": "python",
   "pygments_lexer": "ipython3",
   "version": "3.10.9"
  }
 },
 "nbformat": 4,
 "nbformat_minor": 5
}
