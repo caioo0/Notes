{
 "cells": [
  {
   "cell_type": "markdown",
   "id": "8a4cb4b1",
   "metadata": {},
   "source": [
    "# [1.2 解压可迭代对象赋值给多个变量](https://python3-cookbook.readthedocs.io/zh_CN/latest/c01/p02_unpack_elements_from_iterables.html)\n",
    "\n",
    "## 问题\n",
    "\n",
    "如果一个可迭代对象的元素个数超过变量个数时，会抛出一个 `ValueError` 。 那么怎样才能从这个可迭代对象中解压出 N 个元素出来？\n"
   ]
  },
  {
   "cell_type": "code",
   "execution_count": 2,
   "id": "f6872114",
   "metadata": {},
   "outputs": [],
   "source": [
    "record = ('Dave', 'dave@example.com', '773-555-1212', '847-555-1212')\n",
    "\n",
    "name,email,*phone_numbers = record"
   ]
  },
  {
   "cell_type": "code",
   "execution_count": 3,
   "id": "777088bf",
   "metadata": {},
   "outputs": [
    {
     "data": {
      "text/plain": [
       "['773-555-1212', '847-555-1212']"
      ]
     },
     "execution_count": 3,
     "metadata": {},
     "output_type": "execute_result"
    }
   ],
   "source": [
    "phone_numbers"
   ]
  },
  {
   "cell_type": "code",
   "execution_count": 4,
   "id": "f9a6ffb0",
   "metadata": {},
   "outputs": [
    {
     "data": {
      "text/plain": [
       "'Dave'"
      ]
     },
     "execution_count": 4,
     "metadata": {},
     "output_type": "execute_result"
    }
   ],
   "source": [
    "name"
   ]
  },
  {
   "cell_type": "code",
   "execution_count": 5,
   "id": "35f59299",
   "metadata": {},
   "outputs": [
    {
     "data": {
      "text/plain": [
       "'dave@example.com'"
      ]
     },
     "execution_count": 5,
     "metadata": {},
     "output_type": "execute_result"
    }
   ],
   "source": [
    "email"
   ]
  },
  {
   "cell_type": "code",
   "execution_count": 9,
   "id": "28bb3fab",
   "metadata": {},
   "outputs": [],
   "source": [
    "*trailing, current = [10, 8, 7, 1, 9, 5, 10, 3]"
   ]
  },
  {
   "cell_type": "code",
   "execution_count": 10,
   "id": "cd037964",
   "metadata": {},
   "outputs": [
    {
     "data": {
      "text/plain": [
       "[10, 8, 7, 1, 9, 5, 10]"
      ]
     },
     "execution_count": 10,
     "metadata": {},
     "output_type": "execute_result"
    }
   ],
   "source": [
    "trailing"
   ]
  },
  {
   "cell_type": "code",
   "execution_count": 11,
   "id": "24e55a9b",
   "metadata": {},
   "outputs": [
    {
     "data": {
      "text/plain": [
       "3"
      ]
     },
     "execution_count": 11,
     "metadata": {},
     "output_type": "execute_result"
    }
   ],
   "source": [
    "current"
   ]
  },
  {
   "cell_type": "code",
   "execution_count": 12,
   "id": "70d510a3",
   "metadata": {},
   "outputs": [
    {
     "name": "stdout",
     "output_type": "stream",
     "text": [
      "foo 1 2\n",
      "bar hello\n",
      "foo 3 4\n"
     ]
    }
   ],
   "source": [
    "records = [\n",
    "    ('foo', 1, 2),\n",
    "    ('bar', 'hello'),\n",
    "    ('foo', 3, 4),\n",
    "]\n",
    "\n",
    "def do_foo(x,y):\n",
    "    print('foo',x,y)\n",
    "    \n",
    "def do_bar(s):\n",
    "    print('bar',s)\n",
    "    \n",
    "for tag,*args in records:\n",
    "    if tag == 'foo':\n",
    "        do_foo(*args)\n",
    "    elif tag == 'bar':\n",
    "        do_bar(*args)"
   ]
  },
  {
   "cell_type": "markdown",
   "id": "9e2fea63",
   "metadata": {},
   "source": [
    "星号解压语法在字符串操作的时候也会很有用，比如字符串的分割。"
   ]
  },
  {
   "cell_type": "code",
   "execution_count": 13,
   "id": "be13dfbc",
   "metadata": {},
   "outputs": [],
   "source": [
    "line = 'nobody:*:-2:-2:Unprivileged User:/var/empty:/usr/bin/false'\n",
    "uname, *fields, homedir, sh = line.split(':')"
   ]
  },
  {
   "cell_type": "code",
   "execution_count": 14,
   "id": "55ea8c48",
   "metadata": {},
   "outputs": [
    {
     "data": {
      "text/plain": [
       "'nobody'"
      ]
     },
     "execution_count": 14,
     "metadata": {},
     "output_type": "execute_result"
    }
   ],
   "source": [
    "uname"
   ]
  },
  {
   "cell_type": "code",
   "execution_count": 16,
   "id": "1c6d265e",
   "metadata": {},
   "outputs": [
    {
     "data": {
      "text/plain": [
       "['*', '-2', '-2', 'Unprivileged User']"
      ]
     },
     "execution_count": 16,
     "metadata": {},
     "output_type": "execute_result"
    }
   ],
   "source": [
    "fields"
   ]
  },
  {
   "cell_type": "code",
   "execution_count": 17,
   "id": "efae7e4b",
   "metadata": {},
   "outputs": [
    {
     "data": {
      "text/plain": [
       "'/var/empty'"
      ]
     },
     "execution_count": 17,
     "metadata": {},
     "output_type": "execute_result"
    }
   ],
   "source": [
    "homedir\n"
   ]
  },
  {
   "cell_type": "code",
   "execution_count": 18,
   "id": "bd817d9c",
   "metadata": {},
   "outputs": [
    {
     "data": {
      "text/plain": [
       "'/usr/bin/false'"
      ]
     },
     "execution_count": 18,
     "metadata": {},
     "output_type": "execute_result"
    }
   ],
   "source": [
    "sh"
   ]
  },
  {
   "cell_type": "markdown",
   "id": "070d1009",
   "metadata": {},
   "source": [
    "有时候，你想解压一些元素后丢弃它们，你不能简单就使用 * ， 但是你可以使用一个普通的废弃名称，比如 _ 或者 ign （ignore）\n"
   ]
  },
  {
   "cell_type": "code",
   "execution_count": 19,
   "id": "e6774ab5",
   "metadata": {},
   "outputs": [],
   "source": [
    "record = ('ACME', 50, 123.45, (12, 18, 2012))\n",
    "name, *_, (*_, year) = record"
   ]
  },
  {
   "cell_type": "code",
   "execution_count": 20,
   "id": "9830c85d",
   "metadata": {},
   "outputs": [
    {
     "data": {
      "text/plain": [
       "'ACME'"
      ]
     },
     "execution_count": 20,
     "metadata": {},
     "output_type": "execute_result"
    }
   ],
   "source": [
    "name\n"
   ]
  },
  {
   "cell_type": "code",
   "execution_count": 21,
   "id": "c1ef1579",
   "metadata": {},
   "outputs": [
    {
     "data": {
      "text/plain": [
       "2012"
      ]
     },
     "execution_count": 21,
     "metadata": {},
     "output_type": "execute_result"
    }
   ],
   "source": [
    "year"
   ]
  },
  {
   "cell_type": "code",
   "execution_count": 22,
   "id": "02d63344",
   "metadata": {},
   "outputs": [
    {
     "data": {
      "text/plain": [
       "[12, 18]"
      ]
     },
     "execution_count": 22,
     "metadata": {},
     "output_type": "execute_result"
    }
   ],
   "source": [
    "_"
   ]
  },
  {
   "cell_type": "code",
   "execution_count": 23,
   "id": "d2b191fd",
   "metadata": {},
   "outputs": [],
   "source": [
    "items = [1, 10, 7, 4, 5, 9]"
   ]
  },
  {
   "cell_type": "code",
   "execution_count": 24,
   "id": "b8cbe698",
   "metadata": {},
   "outputs": [],
   "source": [
    "head,*tail = items\n"
   ]
  },
  {
   "cell_type": "code",
   "execution_count": 25,
   "id": "c1202e23",
   "metadata": {},
   "outputs": [
    {
     "data": {
      "text/plain": [
       "1"
      ]
     },
     "execution_count": 25,
     "metadata": {},
     "output_type": "execute_result"
    }
   ],
   "source": [
    "head\n",
    "\n"
   ]
  },
  {
   "cell_type": "code",
   "execution_count": 26,
   "id": "d72fe92b",
   "metadata": {},
   "outputs": [
    {
     "data": {
      "text/plain": [
       "[10, 7, 4, 5, 9]"
      ]
     },
     "execution_count": 26,
     "metadata": {},
     "output_type": "execute_result"
    }
   ],
   "source": [
    "tail"
   ]
  },
  {
   "cell_type": "code",
   "execution_count": 27,
   "id": "aa6b6bf2",
   "metadata": {},
   "outputs": [],
   "source": [
    "def sum(items):\n",
    "    head,*tail = items\n",
    "    return head + sum(tail) if tail else head"
   ]
  },
  {
   "cell_type": "code",
   "execution_count": 28,
   "id": "743452ff",
   "metadata": {},
   "outputs": [
    {
     "data": {
      "text/plain": [
       "36"
      ]
     },
     "execution_count": 28,
     "metadata": {},
     "output_type": "execute_result"
    }
   ],
   "source": [
    "sum(items)"
   ]
  },
  {
   "cell_type": "markdown",
   "id": "ae12550e",
   "metadata": {},
   "source": [
    "递归并不是 Python 擅长的。 因此，最后那个递归演示仅仅是个好奇的探索罢了，对这个不要太认真了。"
   ]
  },
  {
   "cell_type": "code",
   "execution_count": null,
   "id": "c9e75c56",
   "metadata": {},
   "outputs": [],
   "source": []
  }
 ],
 "metadata": {
  "kernelspec": {
   "display_name": "Python 3 (ipykernel)",
   "language": "python",
   "name": "python3"
  },
  "language_info": {
   "codemirror_mode": {
    "name": "ipython",
    "version": 3
   },
   "file_extension": ".py",
   "mimetype": "text/x-python",
   "name": "python",
   "nbconvert_exporter": "python",
   "pygments_lexer": "ipython3",
   "version": "3.10.9"
  }
 },
 "nbformat": 4,
 "nbformat_minor": 5
}
