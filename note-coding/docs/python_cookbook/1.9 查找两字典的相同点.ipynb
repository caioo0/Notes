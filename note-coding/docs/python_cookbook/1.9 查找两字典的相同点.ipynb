{
 "cells": [
  {
   "cell_type": "markdown",
   "id": "90275143",
   "metadata": {},
   "source": [
    "# [1.9 查找两字典的相同点](https://python3-cookbook.readthedocs.io/zh_CN/latest/c01/p09_find_commonalities_in_dicts.html)\n",
    "\n",
    "## 问题\n",
    "怎样在两个字典中寻寻找相同点（比如相同的键、相同的值等等）？\n",
    "\n",
    "## 解决方案\n",
    "考虑下面两个字典："
   ]
  },
  {
   "cell_type": "code",
   "execution_count": 2,
   "id": "51c7348a",
   "metadata": {},
   "outputs": [],
   "source": [
    "a = {\n",
    "    'x' : 1,\n",
    "    'y' : 2,\n",
    "    'z' : 3\n",
    "}\n",
    "\n",
    "b = {\n",
    "    'w' : 10,\n",
    "    'x' : 11,\n",
    "    'y' : 2\n",
    "}"
   ]
  },
  {
   "cell_type": "markdown",
   "id": "0fa9df1f",
   "metadata": {},
   "source": [
    "为了寻找两个字典的相同点，可以简单的在两字典的 keys() 或者 items() 方法返回结果上执行集合操作。比如："
   ]
  },
  {
   "cell_type": "code",
   "execution_count": 3,
   "id": "844bea1b",
   "metadata": {},
   "outputs": [
    {
     "data": {
      "text/plain": [
       "{'x', 'y'}"
      ]
     },
     "execution_count": 3,
     "metadata": {},
     "output_type": "execute_result"
    }
   ],
   "source": [
    "a.keys() & b.keys()"
   ]
  },
  {
   "cell_type": "code",
   "execution_count": 4,
   "id": "6f321dfb",
   "metadata": {},
   "outputs": [
    {
     "data": {
      "text/plain": [
       "{'z'}"
      ]
     },
     "execution_count": 4,
     "metadata": {},
     "output_type": "execute_result"
    }
   ],
   "source": [
    "a.keys() - b.keys() "
   ]
  },
  {
   "cell_type": "code",
   "execution_count": 6,
   "id": "19ca3bc1",
   "metadata": {},
   "outputs": [
    {
     "data": {
      "text/plain": [
       "{'w', 'x', 'y', 'z'}"
      ]
     },
     "execution_count": 6,
     "metadata": {},
     "output_type": "execute_result"
    }
   ],
   "source": [
    "a.keys() | b.keys() "
   ]
  },
  {
   "cell_type": "code",
   "execution_count": 7,
   "id": "8403e82e",
   "metadata": {},
   "outputs": [
    {
     "data": {
      "text/plain": [
       "{('y', 2)}"
      ]
     },
     "execution_count": 7,
     "metadata": {},
     "output_type": "execute_result"
    }
   ],
   "source": [
    "a.items() & b.items()"
   ]
  },
  {
   "cell_type": "markdown",
   "id": "d80a5f32",
   "metadata": {},
   "source": [
    "这些操作也可以用于修改或者过滤字典元素。 比如，假如你想以现有字典构造一个排除几个指定键的新字典。 下面利用字典推导来实现这样的需求："
   ]
  },
  {
   "cell_type": "code",
   "execution_count": 8,
   "id": "866dc252",
   "metadata": {},
   "outputs": [],
   "source": [
    "c = {key:a[key] for key in a.keys() - {'z', 'w'}}"
   ]
  },
  {
   "cell_type": "code",
   "execution_count": 9,
   "id": "781b6e55",
   "metadata": {},
   "outputs": [
    {
     "data": {
      "text/plain": [
       "{'y': 2, 'x': 1}"
      ]
     },
     "execution_count": 9,
     "metadata": {},
     "output_type": "execute_result"
    }
   ],
   "source": [
    "c"
   ]
  },
  {
   "cell_type": "markdown",
   "id": "eeeaec38",
   "metadata": {},
   "source": []
  },
  {
   "cell_type": "code",
   "execution_count": null,
   "id": "05266324",
   "metadata": {},
   "outputs": [],
   "source": []
  }
 ],
 "metadata": {
  "kernelspec": {
   "display_name": "Python 3 (ipykernel)",
   "language": "python",
   "name": "python3"
  },
  "language_info": {
   "codemirror_mode": {
    "name": "ipython",
    "version": 3
   },
   "file_extension": ".py",
   "mimetype": "text/x-python",
   "name": "python",
   "nbconvert_exporter": "python",
   "pygments_lexer": "ipython3",
   "version": "3.10.9"
  }
 },
 "nbformat": 4,
 "nbformat_minor": 5
}
