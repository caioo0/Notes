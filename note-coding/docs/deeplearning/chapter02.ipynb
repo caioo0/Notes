{
 "cells": [
  {
   "cell_type": "markdown",
   "id": "111f8ab6",
   "metadata": {},
   "source": [
    "# 第二章 概率和信息论"
   ]
  },
  {
   "cell_type": "markdown",
   "id": "fbfe13dd",
   "metadata": {},
   "source": [
    "## 2.1 概率\n",
    "\n",
    "### 2.1.1 概率和随机变量\n",
    "\n",
    "- **频率派概率（Frequentist Probability）:** 认为概率和事件发生的频率相关。\n",
    "- **贝叶斯学派概率(Bayesian probability)：** 认为概率是对某件事发生的确定程度，可以理解是确信的程度。\n",
    "- **随机变量（Random Variable）:** 一个可能随机取不同值的变量。例如：抛掷一枚硬币，出现正面和反面的结果。\n",
    "\n",
    "### 2.1.2 概率分布\n",
    "\n",
    "#### 概率质量函数\n",
    "\n",
    "概率质量函数（Probability Mass Function）: 对于离散型变量，我们先定义一个随机变量，然后用$~$符号来说明它遵循的分布：$x~P(x)$，函数$P$是随机变量x的PMF。\n",
    "例如，考虑一个离散型x有k个不同的值，我们可以假设x是均匀分布的（也就是将它的每个值视为等可能的），通过它的PMF设为：\n",
    "$$\n",
    "   P(x=x_i) = \\frac{1}{k}   \\\\(2.1)\n",
    "$$\n",
    "对于所有的i都成立。\n",
    "\n",
    "#### 概率密度函数\n",
    "\n",
    "当研究的对象是连续型时，我们可以引入同样的概念。如果一个函数$p$是概率密度函数（Probability Density Function）：\n",
    "\n",
    "- 分布满足非负数条件：$\\forall{x}\\in{x},p(x)\\geq0$\n",
    "- 分布满足归一化条件：$\\int^\\infty_{-\\infty}p(x)dx = 1$\n",
    "\n",
    "例如在（a,b）上的均匀分布：\n",
    "\n",
    "$$\n",
    "U(x;a,b) = \\frac{1_{ab}(x)}{b-a}\n",
    "$$\n",
    "\n",
    "这里$1_{ab}(x)$表示在$(a,b)$内为1，否则为0。\n",
    "\n",
    "#### 累积分布函数\n",
    "\n",
    "累积分布函数（Cummulative Distribution Function）表示对小于x的概率的积分：\n",
    "\n",
    "$$\n",
    "  CDF(x) = \\int^{x}_{-\\infty}p(t)dt \\\\(2.2)\n",
    "$$\n",
    "\n"
   ]
  },
  {
   "cell_type": "code",
   "execution_count": 1,
   "id": "39d86050",
   "metadata": {},
   "outputs": [],
   "source": [
    "import numpy as np\n",
    "import matplotlib.pyplot as plt\n",
    "from scipy.stats import uniform\n",
    "%matplotlib inline"
   ]
  },
  {
   "cell_type": "code",
   "execution_count": 5,
   "id": "a0a9198a",
   "metadata": {},
   "outputs": [
    {
     "data": {
      "text/plain": [
       "[<matplotlib.lines.Line2D at 0x1627db74130>]"
      ]
     },
     "execution_count": 5,
     "metadata": {},
     "output_type": "execute_result"
    },
    {
     "data": {
      "image/png": "[encoded data removed]",
      "text/plain": [
       "<Figure size 432x288 with 1 Axes>"
      ]
     },
     "metadata": {
      "needs_background": "light"
     },
     "output_type": "display_data"
    }
   ],
   "source": [
    "# 生成样本\n",
    "fig,ax = plt.subplots(1,1)\n",
    "r = uniform.rvs(loc=0,scale=1,size=1000)\n",
    "ax.hist(r,density=True,histtype='stepfilled',alpha=0.5)\n",
    "# 均匀分布 pdf\n",
    "x = np.linspace(uniform.ppf(0.01),uniform.ppf(0.99),100)\n",
    "ax.plot(x,uniform.pdf(x),'r-',lw=5,alpha=0.8,label='uniform pdf')"
   ]
  },
  {
   "cell_type": "markdown",
   "id": "0ef53d21",
   "metadata": {},
   "source": [
    "### 2.1.3 条件概率和条件独立\n",
    "\n",
    "**边缘概率（Marginal Probability）:** 如果我们知道了一组变量的联合概率分布，但想要了解其中一个子集的概率分布。这种定义在子集上的概率分布被称为边缘概率分布。\n",
    "$$\n",
    "\\forall{x}\\in{x},P(X=x)=\\sum_{y}P(x=x,y=y) \\\\(2.3)\n",
    "$$"
   ]
  },
  {
   "cell_type": "code",
   "execution_count": null,
   "id": "cd5a1b14",
   "metadata": {},
   "outputs": [],
   "source": []
  }
 ],
 "metadata": {
  "kernelspec": {
   "display_name": "Python 3 (ipykernel)",
   "language": "python",
   "name": "python3"
  },
  "language_info": {
   "codemirror_mode": {
    "name": "ipython",
    "version": 3
   },
   "file_extension": ".py",
   "mimetype": "text/x-python",
   "name": "python",
   "nbconvert_exporter": "python",
   "pygments_lexer": "ipython3",
   "version": "3.9.12"
  }
 },
 "nbformat": 4,
 "nbformat_minor": 5
}
