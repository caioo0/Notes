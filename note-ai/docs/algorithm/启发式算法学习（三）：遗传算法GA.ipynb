{
 "cells": [
  {
   "cell_type": "markdown",
   "id": "4cb396da",
   "metadata": {},
   "source": [
    "# 启发式算法学习（三）：遗传算法GA\n",
    "\n",
    "\n",
    "## 1. 算法介绍\n",
    "\n",
    "遗传算法(Genetic Alogrithm,GA)最早是由美国 Holland 教授提出的一种基于自然界的\"适者生存，优胜劣汰\"基本法则的智能搜索算法。\n",
    "\n",
    "该法则很好地诠释了生物进化的自然选择过程。遗传算法也是借鉴该基本法则，通过基于**种群的思想**，将问题的解通过编码的方式转化为种群中的个体，并让这些个体不断地通过选择、交叉和变异算子模拟生物的进化过程，然后利用“优胜劣汰”法则选择种群中适应性较强的个体构成子种群，然后让子种群重复类似的进化过程，直到找到问题的最优解或者到达一定的进化（运算）时间。\n",
    "\n",
    "\n",
    "## 参考资料\n",
    "\n",
    "1. https://imonce.github.io/2019/11/07/%E5%90%AF%E5%8F%91%E5%BC%8F%E7%AE%97%E6%B3%95%E5%AD%A6%E4%B9%A0%EF%BC%88%E4%B8%89%EF%BC%89%EF%BC%9A%E9%81%97%E4%BC%A0%E7%AE%97%E6%B3%95/\n"
   ]
  }
 ],
 "metadata": {
  "kernelspec": {
   "display_name": "Python 3 (ipykernel)",
   "language": "python",
   "name": "python3"
  },
  "language_info": {
   "codemirror_mode": {
    "name": "ipython",
    "version": 3
   },
   "file_extension": ".py",
   "mimetype": "text/x-python",
   "name": "python",
   "nbconvert_exporter": "python",
   "pygments_lexer": "ipython3",
   "version": "3.8.8"
  }
 },
 "nbformat": 4,
 "nbformat_minor": 5
}
