{
 "cells": [
  {
   "cell_type": "markdown",
   "id": "ce5d4770",
   "metadata": {},
   "source": [
    "# numpy教程\n",
    "\n",
    "python 扩展程序库，支持大量维度数据和矩阵运算\n",
    "\n",
    "numpy 开发作者：Jim Hugunin \n",
    "\n",
    "**特点：**\n",
    "\n",
    "- 一个强大的N维数组对象narray\n",
    "- 广播功能函数\n",
    "- 整合C/C++//Fortran代码的工具\n",
    "- 线性代数、傅里叶变换、随机数生成等功能\n",
    "\n",
    "> Numpy 通常与Scipy和Matplotlib一起使用\n",
    "\n",
    "\n",
    "## numpy 安装\n",
    "安装 NumPy 最简单的方法就是使用 pip 工具："
   ]
  },
  {
   "cell_type": "code",
   "execution_count": 3,
   "id": "500ac775",
   "metadata": {},
   "outputs": [
    {
     "name": "stdout",
     "output_type": "stream",
     "text": [
      "Looking in indexes: https://pypi.tuna.tsinghua.edu.cn/simple\n",
      "Requirement already satisfied: numpy in d:\\programdata\\anaconda3\\lib\\site-packages (1.23.5)\n",
      "Requirement already satisfied: scipy in d:\\programdata\\anaconda3\\lib\\site-packages (1.10.0)\n",
      "Requirement already satisfied: matplotlib in d:\\programdata\\anaconda3\\lib\\site-packages (3.7.0)\n",
      "Requirement already satisfied: pyparsing>=2.3.1 in d:\\programdata\\anaconda3\\lib\\site-packages (from matplotlib) (3.0.9)\n",
      "Requirement already satisfied: python-dateutil>=2.7 in d:\\programdata\\anaconda3\\lib\\site-packages (from matplotlib) (2.8.2)\n",
      "Requirement already satisfied: contourpy>=1.0.1 in d:\\programdata\\anaconda3\\lib\\site-packages (from matplotlib) (1.0.5)\n",
      "Requirement already satisfied: packaging>=20.0 in d:\\programdata\\anaconda3\\lib\\site-packages (from matplotlib) (22.0)\n",
      "Requirement already satisfied: cycler>=0.10 in d:\\programdata\\anaconda3\\lib\\site-packages (from matplotlib) (0.11.0)\n",
      "Requirement already satisfied: fonttools>=4.22.0 in d:\\programdata\\anaconda3\\lib\\site-packages (from matplotlib) (4.25.0)\n",
      "Requirement already satisfied: kiwisolver>=1.0.1 in d:\\programdata\\anaconda3\\lib\\site-packages (from matplotlib) (1.4.4)\n",
      "Requirement already satisfied: pillow>=6.2.0 in d:\\programdata\\anaconda3\\lib\\site-packages (from matplotlib) (9.4.0)\n",
      "Requirement already satisfied: six>=1.5 in d:\\programdata\\anaconda3\\lib\\site-packages (from python-dateutil>=2.7->matplotlib) (1.16.0)\n",
      "Note: you may need to restart the kernel to use updated packages.\n"
     ]
    }
   ],
   "source": [
    "pip install --user numpy scipy matplotlib -i https://pypi.tuna.tsinghua.edu.cn/simple"
   ]
  },
  {
   "cell_type": "markdown",
   "id": "78e8d930",
   "metadata": {},
   "source": [
    "**安装验证**\n",
    "\n",
    "测试是否安装成功："
   ]
  },
  {
   "cell_type": "code",
   "execution_count": 4,
   "id": "27d59209",
   "metadata": {},
   "outputs": [
    {
     "data": {
      "text/plain": [
       "array([[1., 0., 0., 0.],\n",
       "       [0., 1., 0., 0.],\n",
       "       [0., 0., 1., 0.],\n",
       "       [0., 0., 0., 1.]])"
      ]
     },
     "execution_count": 4,
     "metadata": {},
     "output_type": "execute_result"
    }
   ],
   "source": [
    "from numpy import * \n",
    "eye(4)          # eye(4) 生成对角矩阵。"
   ]
  },
  {
   "cell_type": "code",
   "execution_count": null,
   "id": "e88b47c8",
   "metadata": {},
   "outputs": [],
   "source": []
  },
  {
   "cell_type": "code",
   "execution_count": null,
   "id": "9b41dd93",
   "metadata": {},
   "outputs": [],
   "source": []
  },
  {
   "cell_type": "code",
   "execution_count": null,
   "id": "d68e1635",
   "metadata": {},
   "outputs": [],
   "source": []
  },
  {
   "cell_type": "markdown",
   "id": "6b2e9c99",
   "metadata": {},
   "source": [
    "## 相关链接\n",
    "- NumPy 官网 http://www.numpy.org/\n",
    "- NumPy 源代码：https://github.com/numpy/numpy\n",
    "- SciPy 官网：https://www.scipy.org/\n",
    "- SciPy 源代码：https://github.com/scipy/scipy\n",
    "- Matplotlib 教程：Matplotlib 教程\n",
    "- Matplotlib 官网：https://matplotlib.org/\n",
    "- Matplotlib 源代码：https://github.com/matplotlib/matplotlib"
   ]
  }
 ],
 "metadata": {
  "kernelspec": {
   "display_name": "Python 3 (ipykernel)",
   "language": "python",
   "name": "python3"
  },
  "language_info": {
   "codemirror_mode": {
    "name": "ipython",
    "version": 3
   },
   "file_extension": ".py",
   "mimetype": "text/x-python",
   "name": "python",
   "nbconvert_exporter": "python",
   "pygments_lexer": "ipython3",
   "version": "3.10.9"
  }
 },
 "nbformat": 4,
 "nbformat_minor": 5
}
