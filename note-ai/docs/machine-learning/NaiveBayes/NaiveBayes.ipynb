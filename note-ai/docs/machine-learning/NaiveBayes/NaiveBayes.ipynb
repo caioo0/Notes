{
 "cells": [
  {
   "cell_type": "markdown",
   "id": "19daeb09",
   "metadata": {},
   "source": [
    "# 朴素贝叶斯\n",
    "\n"
   ]
  },
  {
   "cell_type": "markdown",
   "id": "b5d2975c",
   "metadata": {},
   "source": [
    "$$\n",
    "P(θ∣x) = \\frac{P(x∣θ)∗P(θ)}{P(x)}\n",
    "$$\n",
    "$$\n",
    "后验概率 =\\frac{似然估计 *先验概率}{evidence}\n",
    "$$\n",
    "\n",
    "公式中的 “|”读作 given，即给定的意思。如P ( A ∣ B )  即A given B 的概率）\n",
    "\n",
    "- 似然估计（由因求果)\n",
    "- 后验概率（知果求因）\n",
    "\n",
    "> [解释]：看到这里估计大家很奇怪为什么要用 x、 θ  这样的字母表示，而不是熟悉的 x 、 y  。这样表示自然是有原因的。在这里大家只需要先暂时记住 θ 代表因、 x  代表果，后面的贝叶斯我们将会具体介绍这些字母的含义。\n"
   ]
  },
  {
   "cell_type": "code",
   "execution_count": 3,
   "id": "1ada18c0",
   "metadata": {},
   "outputs": [],
   "source": [
    "def trainNB0(trainMatrix,trainCategory):\n",
    "    numTrainDocs = len(trainMatrix)                            #计算训练的文档数目\n",
    "    numWords = len(trainMatrix[0])                            #计算每篇文档的词条数\n",
    "    pAbusive = sum(trainCategory)/float(numTrainDocs)        #文档属于侮辱类的概率\n",
    "    p0Num = np.zeros(numWords); p1Num = np.zeros(numWords)    #创建numpy.zeros数组,词条出现数初始化为0\n",
    "    p0Denom = 0.0; p1Denom = 0.0                            #分母初始化为0\n",
    "    for i in range(numTrainDocs):\n",
    "        if trainCategory[i] == 1:                            #统计属于侮辱类的条件概率所需的数据，即P(w0|1),P(w1|1),P(w2|1)···\n",
    "            p1Num += trainMatrix[i]\n",
    "            p1Denom += sum(trainMatrix[i])\n",
    "        else:                                                #统计属于非侮辱类的条件概率所需的数据，即P(w0|0),P(w1|0),P(w2|0)···\n",
    "            p0Num += trainMatrix[i]\n",
    "            p0Denom += sum(trainMatrix[i])\n",
    "    p1Vect = p1Num/p1Denom                                      \n",
    "    p0Vect = p0Num/p0Denom         \n",
    "    return p0Vect,p1Vect,pAbusive                            #返回属于侮辱类的条件概率数组，属于非侮辱类的条件概率数组，文档属于侮辱类的概率\n",
    " "
   ]
  },
  {
   "cell_type": "code",
   "execution_count": 2,
   "id": "b9a3c614",
   "metadata": {},
   "outputs": [
    {
     "name": "stdout",
     "output_type": "stream",
     "text": [
      "['my', 'dog', 'has', 'flea', 'problems', 'help', 'please']\n",
      "['maybe', 'not', 'take', 'him', 'to', 'dog', 'park', 'stupid']\n",
      "['my', 'dalmation', 'is', 'so', 'cute', 'I', 'love', 'him']\n",
      "['stop', 'posting', 'stupid', 'worthless', 'garbage']\n",
      "['mr', 'licks', 'ate', 'my', 'steak', 'how', 'to', 'stop', 'him']\n",
      "['quit', 'buying', 'worthless', 'dog', 'food', 'stupid']\n",
      "[0, 1, 0, 1, 0, 1]\n"
     ]
    }
   ],
   "source": [
    "\"\"\"\n",
    "函数说明：创建实验样本\n",
    "\n",
    "Parmeters:\n",
    "    无\n",
    "Returns:\n",
    "    postingList - 实验样本切分的词条\n",
    "    classVec - 类别标签向量\n",
    "\"\"\"\n",
    "\n",
    "def loadDataSet():\n",
    "    postingList=[['my', 'dog', 'has', 'flea', 'problems', 'help', 'please'],                #切分的词条\n",
    "                 ['maybe', 'not', 'take', 'him', 'to', 'dog', 'park', 'stupid'],\n",
    "                 ['my', 'dalmation', 'is', 'so', 'cute', 'I', 'love', 'him'],\n",
    "                 ['stop', 'posting', 'stupid', 'worthless', 'garbage'],\n",
    "                 ['mr', 'licks', 'ate', 'my', 'steak', 'how', 'to', 'stop', 'him'],\n",
    "                 ['quit', 'buying', 'worthless', 'dog', 'food', 'stupid']]\n",
    "    classVec = [0,1,0,1,0,1]                                                                   #类别标签向量，1代表侮辱性词汇，0代表不是\n",
    "    return postingList,classVec\n",
    "\n",
    "\n",
    "if __name__ == '__main__':\n",
    "    postingLIst, classVec = loadDataSet()\n",
    "    for each in postingLIst:\n",
    "        print(each)\n",
    "    print(classVec)"
   ]
  },
  {
   "cell_type": "code",
   "execution_count": null,
   "id": "3e20f95a",
   "metadata": {},
   "outputs": [],
   "source": []
  }
 ],
 "metadata": {
  "kernelspec": {
   "display_name": "Python 3 (ipykernel)",
   "language": "python",
   "name": "python3"
  },
  "language_info": {
   "codemirror_mode": {
    "name": "ipython",
    "version": 3
   },
   "file_extension": ".py",
   "mimetype": "text/x-python",
   "name": "python",
   "nbconvert_exporter": "python",
   "pygments_lexer": "ipython3",
   "version": "3.10.9"
  }
 },
 "nbformat": 4,
 "nbformat_minor": 5
}
