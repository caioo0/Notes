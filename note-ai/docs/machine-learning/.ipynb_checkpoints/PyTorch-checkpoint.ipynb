{
 "cells": [
  {
   "cell_type": "markdown",
   "id": "46d89136",
   "metadata": {},
   "source": [
    "# PyTorch\n",
    "\n",
    "> 来源于电子书《PyTorch深度学习》龙龙老师"
   ]
  },
  {
   "cell_type": "code",
   "execution_count": 2,
   "id": "afbf394d",
   "metadata": {},
   "outputs": [],
   "source": [
    "import torch\n",
    "a = 1.2\n",
    "aa=torch.tensor(1.2) # PyTorch 方式创建标量(张量)"
   ]
  },
  {
   "cell_type": "code",
   "execution_count": 3,
   "id": "d9367968",
   "metadata": {},
   "outputs": [
    {
     "data": {
      "text/plain": [
       "tensor(1.2000)"
      ]
     },
     "execution_count": 3,
     "metadata": {},
     "output_type": "execute_result"
    }
   ],
   "source": [
    "aa\n"
   ]
  },
  {
   "cell_type": "code",
   "execution_count": 4,
   "id": "6302b614",
   "metadata": {},
   "outputs": [
    {
     "data": {
      "text/plain": [
       "1.2"
      ]
     },
     "execution_count": 4,
     "metadata": {},
     "output_type": "execute_result"
    }
   ],
   "source": [
    "a"
   ]
  },
  {
   "cell_type": "code",
   "execution_count": 7,
   "id": "683c6547",
   "metadata": {},
   "outputs": [
    {
     "data": {
      "text/plain": [
       "(float, torch.Tensor, True)"
      ]
     },
     "execution_count": 7,
     "metadata": {},
     "output_type": "execute_result"
    }
   ],
   "source": [
    "type(a),type(aa),torch.is_tensor(aa)"
   ]
  },
  {
   "cell_type": "code",
   "execution_count": 8,
   "id": "822f70f0",
   "metadata": {},
   "outputs": [],
   "source": [
    "x = torch.tensor([1,2.,3.3]) # 创建向量"
   ]
  },
  {
   "cell_type": "code",
   "execution_count": 9,
   "id": "1dc8950d",
   "metadata": {},
   "outputs": [
    {
     "data": {
      "text/plain": [
       "tensor([1.0000, 2.0000, 3.3000])"
      ]
     },
     "execution_count": 9,
     "metadata": {},
     "output_type": "execute_result"
    }
   ],
   "source": [
    "x"
   ]
  },
  {
   "cell_type": "code",
   "execution_count": 11,
   "id": "b8376592",
   "metadata": {},
   "outputs": [
    {
     "data": {
      "text/plain": [
       "(torch.Size([3]), device(type='cpu'), torch.float32, torch.Tensor)"
      ]
     },
     "execution_count": 11,
     "metadata": {},
     "output_type": "execute_result"
    }
   ],
   "source": [
    "x.shape,x.device,x.dtype,type(x)"
   ]
  },
  {
   "cell_type": "code",
   "execution_count": 12,
   "id": "7ba378aa",
   "metadata": {},
   "outputs": [
    {
     "data": {
      "text/plain": [
       "array([1. , 2. , 3.3], dtype=float32)"
      ]
     },
     "execution_count": 12,
     "metadata": {},
     "output_type": "execute_result"
    }
   ],
   "source": [
    "x.numpy()  # 导出为numpy 数组格式"
   ]
  },
  {
   "cell_type": "code",
   "execution_count": 14,
   "id": "9c9d3980",
   "metadata": {},
   "outputs": [
    {
     "data": {
      "text/plain": [
       "tensor([[[1, 2],\n",
       "         [3, 4],\n",
       "         [5, 6],\n",
       "         [7, 8]]])"
      ]
     },
     "execution_count": 14,
     "metadata": {},
     "output_type": "execute_result"
    }
   ],
   "source": [
    "a=  torch.tensor([[[1,2],[3,4],[5,6],[7,8]]])\n",
    "a"
   ]
  },
  {
   "cell_type": "code",
   "execution_count": 15,
   "id": "e77e2e19",
   "metadata": {},
   "outputs": [],
   "source": [
    "a = torch.tensor(True)"
   ]
  },
  {
   "cell_type": "code",
   "execution_count": 16,
   "id": "cdc9ce8f",
   "metadata": {},
   "outputs": [
    {
     "data": {
      "text/plain": [
       "tensor(True)"
      ]
     },
     "execution_count": 16,
     "metadata": {},
     "output_type": "execute_result"
    }
   ],
   "source": [
    "a\n"
   ]
  },
  {
   "cell_type": "code",
   "execution_count": 17,
   "id": "1cac4597",
   "metadata": {},
   "outputs": [
    {
     "data": {
      "text/plain": [
       "65536"
      ]
     },
     "execution_count": 17,
     "metadata": {},
     "output_type": "execute_result"
    }
   ],
   "source": [
    "2**16"
   ]
  },
  {
   "cell_type": "code",
   "execution_count": 18,
   "id": "9f80b4fe",
   "metadata": {},
   "outputs": [
    {
     "data": {
      "text/plain": [
       "4294967296"
      ]
     },
     "execution_count": 18,
     "metadata": {},
     "output_type": "execute_result"
    }
   ],
   "source": [
    "2**32"
   ]
  },
  {
   "cell_type": "code",
   "execution_count": 19,
   "id": "e772a0a4",
   "metadata": {},
   "outputs": [
    {
     "data": {
      "text/plain": [
       "tensor(-13035, dtype=torch.int16)"
      ]
     },
     "execution_count": 19,
     "metadata": {},
     "output_type": "execute_result"
    }
   ],
   "source": [
    "torch.tensor(123456789, dtype=torch.int16)"
   ]
  },
  {
   "cell_type": "code",
   "execution_count": 20,
   "id": "72930782",
   "metadata": {},
   "outputs": [
    {
     "data": {
      "text/plain": [
       "tensor(123456789, dtype=torch.int32)"
      ]
     },
     "execution_count": 20,
     "metadata": {},
     "output_type": "execute_result"
    }
   ],
   "source": [
    "torch.tensor(123456789, dtype=torch.int32)"
   ]
  },
  {
   "cell_type": "code",
   "execution_count": null,
   "id": "ef264c3d",
   "metadata": {},
   "outputs": [],
   "source": [
    "import numpy as np "
   ]
  }
 ],
 "metadata": {
  "kernelspec": {
   "display_name": "Python 3 (ipykernel)",
   "language": "python",
   "name": "python3"
  },
  "language_info": {
   "codemirror_mode": {
    "name": "ipython",
    "version": 3
   },
   "file_extension": ".py",
   "mimetype": "text/x-python",
   "name": "python",
   "nbconvert_exporter": "python",
   "pygments_lexer": "ipython3",
   "version": "3.10.9"
  }
 },
 "nbformat": 4,
 "nbformat_minor": 5
}
