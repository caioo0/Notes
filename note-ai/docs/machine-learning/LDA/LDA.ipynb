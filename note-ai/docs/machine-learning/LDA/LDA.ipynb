{
 "cells": [
  {
   "cell_type": "markdown",
   "id": "9ab71b15",
   "metadata": {},
   "source": [
    "# LDA \n",
    "---\n"
   ]
  },
  {
   "cell_type": "code",
   "execution_count": null,
   "id": "113beb01",
   "metadata": {},
   "outputs": [],
   "source": [
    "import numpy as np\n",
    "\n",
    "class LDA():\n",
    "    def __init__(self):\n",
    "        # 初始化权重矩阵\n",
    "        self.w = None\n",
    "        \n",
    "    # 计算协方差矩阵\n",
    "    def calc_cov(self,X,Y=None):\n",
    "        m = X.shape[0] \n",
    "        # 数据标准化\n",
    "        X = (X - np.mean(X,axis = 0)) /np.std(X,axis = 0,, ddof=1)"
   ]
  }
 ],
 "metadata": {
  "kernelspec": {
   "display_name": "Python 3 (ipykernel)",
   "language": "python",
   "name": "python3"
  },
  "language_info": {
   "codemirror_mode": {
    "name": "ipython",
    "version": 3
   },
   "file_extension": ".py",
   "mimetype": "text/x-python",
   "name": "python",
   "nbconvert_exporter": "python",
   "pygments_lexer": "ipython3",
   "version": "3.10.13"
  }
 },
 "nbformat": 4,
 "nbformat_minor": 5
}
