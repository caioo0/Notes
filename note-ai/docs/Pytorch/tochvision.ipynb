{
 "cells": [
  {
   "cell_type": "markdown",
   "id": "97a413de",
   "metadata": {},
   "source": [
    "# tochvision\n",
    "\n",
    "## **一、简介**\n",
    "\n",
    "tochvision主要处理图像数据，包含一些常用的数据集、模型、转换函数等。torchvision独立于PyTorch，需要专门安装。\n",
    "torchvision主要包含以下四部分：\n",
    "\n",
    "- torchvision.models: 提供深度学习中各种经典的网络结构、预训练好的模型，如：Alex-Net、VGG、ResNet、Inception等。\n",
    "- torchvision.datasets：提供常用的数据集，设计上继承 torch.utils.data.Dataset，主要包括：MNIST、CIFAR10/100、ImageNet、COCO等。\n",
    "- torchvision.transforms：提供常用的数据预处理操作，主要包括对Tensor及PIL Image对象的操作。\n",
    "- torchvision.utils：工具类，如保存张量作为图像到磁盘，给一个小批量创建一个图像网格。\n",
    "\n",
    "## 二、安装\n",
    "\n",
    "```\n",
    "pip install torchvision\n",
    "```\n",
    "\n",
    "torchvision要注意与pytorch版本和Cuda相匹配。\n",
    "要查询pytorch和torchvision的版本，可以使用下面语句 ：\n",
    "\n",
    "```\n",
    "import torch\n",
    "import torchvision\n",
    "print(torch.__version__)\n",
    "print(torchvision.__version__)\n",
    "```\n",
    "\n"
   ]
  },
  {
   "cell_type": "code",
   "execution_count": 5,
   "id": "4045bf0a",
   "metadata": {},
   "outputs": [
    {
     "name": "stdout",
     "output_type": "stream",
     "text": [
      "2.1.0+cpu\n",
      "0.16.0+cpu\n"
     ]
    }
   ],
   "source": [
    "import torch\n",
    "import torchvision\n",
    "print(torch.__version__)\n",
    "print(torchvision.__version__)"
   ]
  },
  {
   "cell_type": "code",
   "execution_count": null,
   "id": "eb8d4266",
   "metadata": {},
   "outputs": [],
   "source": []
  }
 ],
 "metadata": {
  "kernelspec": {
   "display_name": "pytorch38",
   "language": "python",
   "name": "pytorch38"
  },
  "language_info": {
   "codemirror_mode": {
    "name": "ipython",
    "version": 3
   },
   "file_extension": ".py",
   "mimetype": "text/x-python",
   "name": "python",
   "nbconvert_exporter": "python",
   "pygments_lexer": "ipython3",
   "version": "3.8.18"
  }
 },
 "nbformat": 4,
 "nbformat_minor": 5
}
