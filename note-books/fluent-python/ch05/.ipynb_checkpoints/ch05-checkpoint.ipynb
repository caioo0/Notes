{
 "cells": [
  {
   "cell_type": "markdown",
   "id": "632d0387-b1d9-4039-88e6-3f22ab4bc98c",
   "metadata": {},
   "source": [
    "# 第5章 数据类构建器\n",
    "\n",
    "- collections.namedtuple\n",
    "- typing.NamedTuple\n",
    "- @dataclasses.dataclass"
   ]
  },
  {
   "cell_type": "markdown",
   "id": "f15838ec-565a-490e-b71c-feda6f38c31e",
   "metadata": {},
   "source": [
    "\n",
    "## 数据类构建器概述\n",
    "\n",
    "举一个简单的类示例\n",
    "\n",
    "直接通过类构建"
   ]
  },
  {
   "cell_type": "code",
   "execution_count": 3,
   "id": "6b0aa9fd-53d6-48ea-af83-d240caf105e3",
   "metadata": {},
   "outputs": [
    {
     "data": {
      "text/plain": [
       "(<__main__.Coordinate at 0x17d00dc7e80>,\n",
       " <__main__.Coordinate at 0x17d00dc7b20>)"
      ]
     },
     "execution_count": 3,
     "metadata": {},
     "output_type": "execute_result"
    }
   ],
   "source": [
    "class Coordinate: \n",
    "    def __init__(self, lat, lon): \n",
    "        self.lat = lat \n",
    "        self.lon = lon\n",
    "\n",
    "moscow = Coordinate(55.76, 37.62)\n",
    "location = Coordinate(55.76, 37.62)\n",
    "moscow,location\n"
   ]
  },
  {
   "cell_type": "code",
   "execution_count": 4,
   "id": "67c0a599-15a1-4980-83a4-84c2c7ea8069",
   "metadata": {},
   "outputs": [
    {
     "data": {
      "text/plain": [
       "False"
      ]
     },
     "execution_count": 4,
     "metadata": {},
     "output_type": "execute_result"
    }
   ],
   "source": [
    "location == moscow"
   ]
  },
  {
   "cell_type": "code",
   "execution_count": 5,
   "id": "db634ead-d91d-4298-ad13-fe47c0317f8d",
   "metadata": {},
   "outputs": [
    {
     "data": {
      "text/plain": [
       "True"
      ]
     },
     "execution_count": 5,
     "metadata": {},
     "output_type": "execute_result"
    }
   ],
   "source": [
    "(location.lat, location.lon) == (moscow.lat, moscow.lon)"
   ]
  },
  {
   "cell_type": "code",
   "execution_count": 6,
   "id": "ded77c04-048d-4834-bfb7-0d8728eb2fcf",
   "metadata": {},
   "outputs": [
    {
     "data": {
      "text/plain": [
       "True"
      ]
     },
     "execution_count": 6,
     "metadata": {},
     "output_type": "execute_result"
    }
   ],
   "source": [
    "from collections import namedtuple\n",
    "Coordinate = namedtuple('Coordinate', 'lat lon')\n",
    "issubclass(Coordinate, tuple)"
   ]
  },
  {
   "cell_type": "code",
   "execution_count": 7,
   "id": "946db71c-6c2d-4e75-8d5c-e89943181d70",
   "metadata": {},
   "outputs": [
    {
     "data": {
      "text/plain": [
       "Coordinate(lat=55.756, lon=37.617)"
      ]
     },
     "execution_count": 7,
     "metadata": {},
     "output_type": "execute_result"
    }
   ],
   "source": [
    "moscow = Coordinate(55.756, 37.617)\n",
    "moscow"
   ]
  },
  {
   "cell_type": "code",
   "execution_count": 8,
   "id": "84961ac0-7e9e-4ea6-a3b7-c6d02ff25120",
   "metadata": {},
   "outputs": [
    {
     "data": {
      "text/plain": [
       "True"
      ]
     },
     "execution_count": 8,
     "metadata": {},
     "output_type": "execute_result"
    }
   ],
   "source": [
    "moscow == Coordinate(lat=55.756, lon=37.617)"
   ]
  },
  {
   "cell_type": "code",
   "execution_count": 9,
   "id": "9708d929-a376-4593-9da8-53a631261969",
   "metadata": {},
   "outputs": [
    {
     "data": {
      "text/plain": [
       "True"
      ]
     },
     "execution_count": 9,
     "metadata": {},
     "output_type": "execute_result"
    }
   ],
   "source": [
    "import typing\n",
    "Coordinate = typing.NamedTuple('Coordinate',\n",
    "                               [('lat', float), ('lon', float)])\n",
    "\n",
    "issubclass(Coordinate, tuple)"
   ]
  },
  {
   "cell_type": "code",
   "execution_count": 10,
   "id": "f1a08c6e-8dda-4c41-8625-62565e35e5ea",
   "metadata": {},
   "outputs": [
    {
     "data": {
      "text/plain": [
       "{'lat': float, 'lon': float}"
      ]
     },
     "execution_count": 10,
     "metadata": {},
     "output_type": "execute_result"
    }
   ],
   "source": [
    "typing.get_type_hints(Coordinate)"
   ]
  },
  {
   "cell_type": "code",
   "execution_count": 11,
   "id": "1dac1eae-9428-434a-9b2c-661418105c66",
   "metadata": {},
   "outputs": [],
   "source": [
    "Coordinate = typing.NamedTuple('Coordinate', lat=float, lon=float)"
   ]
  },
  {
   "cell_type": "code",
   "execution_count": 12,
   "id": "a368ba44-7a5f-47e6-a7f0-471f586a37be",
   "metadata": {},
   "outputs": [],
   "source": [
    "moscow = Coordinate(55.756, 37.617)"
   ]
  },
  {
   "cell_type": "code",
   "execution_count": 13,
   "id": "f83386b7-f9f3-48a4-bea4-22a3da383c1b",
   "metadata": {},
   "outputs": [
    {
     "data": {
      "text/plain": [
       "True"
      ]
     },
     "execution_count": 13,
     "metadata": {},
     "output_type": "execute_result"
    }
   ],
   "source": [
    "moscow == Coordinate(lat=55.756, lon=37.617)"
   ]
  },
  {
   "cell_type": "markdown",
   "id": "2e556032-c0aa-43ad-b0bd-0483b9c14ae1",
   "metadata": {},
   "source": [
    "使用typing.NamedTuple构建"
   ]
  },
  {
   "cell_type": "code",
   "execution_count": 14,
   "id": "95d3be65-5284-4541-aa3d-751063a3b607",
   "metadata": {},
   "outputs": [],
   "source": [
    "from typing import NamedTuple\n",
    "\n",
    "class Coordinate(NamedTuple):\n",
    "    lat: float\n",
    "    lon: float\n",
    "\n",
    "    def __str__(self):\n",
    "        ns = 'N' if self.lat >= 0 else 'S'\n",
    "        we = 'E' if self.lon >= 0 else 'W'\n",
    "        return f'{abs(self.lat):.1f}°{ns}, {abs(self.lon):.1f}°{we}'\n"
   ]
  },
  {
   "cell_type": "markdown",
   "id": "385a80d7-d679-49b2-9b1c-17f69b9d9300",
   "metadata": {},
   "source": [
    "使用dataclass装饰器声明实例属性"
   ]
  },
  {
   "cell_type": "code",
   "execution_count": 15,
   "id": "4984925a-1a51-4824-8d61-6b74a89c4440",
   "metadata": {},
   "outputs": [],
   "source": [
    "from dataclasses import dataclass\n",
    "\n",
    "@dataclass(frozen=True)\n",
    "class Coordinate:\n",
    "    lat: float\n",
    "    lon: float\n",
    "\n",
    "    def __str__(self):\n",
    "        ns = 'N' if self.lat >= 0 else 'S'\n",
    "        we = 'E' if self.lon >= 0 else 'W'\n",
    "        return f'{abs(self.lat):.1f}°{ns}, {abs(self.lon):.1f}°{we}'\n"
   ]
  },
  {
   "cell_type": "markdown",
   "id": "3de1df80-55c1-4fb0-9925-3033c7470427",
   "metadata": {},
   "source": [
    "## 典型的具名元组\n",
    "\n",
    "定义并使用一个具名元组类型"
   ]
  },
  {
   "cell_type": "code",
   "execution_count": 16,
   "id": "b1cf9d4b-bb1d-4492-9f40-206844a82ab8",
   "metadata": {},
   "outputs": [
    {
     "data": {
      "text/plain": [
       "City(name='Tokyo', country='JP', population=36.933, coordinates=(35.689722, 139.691667))"
      ]
     },
     "execution_count": 16,
     "metadata": {},
     "output_type": "execute_result"
    }
   ],
   "source": [
    "from collections import namedtuple\n",
    "\n",
    "City = namedtuple('City', 'name country population coordinates')\n",
    "tokyo = City('Tokyo', 'JP', 36.933, (35.689722, 139.691667))\n",
    "tokyo\n"
   ]
  },
  {
   "cell_type": "code",
   "execution_count": 17,
   "id": "33f02abf-1c0d-48fd-a247-09d88336b3f2",
   "metadata": {},
   "outputs": [
    {
     "data": {
      "text/plain": [
       "(36.933, (35.689722, 139.691667), 'JP')"
      ]
     },
     "execution_count": 17,
     "metadata": {},
     "output_type": "execute_result"
    }
   ],
   "source": [
    "tokyo.population, tokyo.coordinates, tokyo[1]"
   ]
  },
  {
   "cell_type": "markdown",
   "id": "7bd0e7ff-f5eb-4a7f-9ada-16e709cd8f41",
   "metadata": {},
   "source": [
    "具名元组的属性和方法"
   ]
  },
  {
   "cell_type": "code",
   "execution_count": 19,
   "id": "8d12a434-ab94-4be2-aca1-da3d4268ce8e",
   "metadata": {},
   "outputs": [
    {
     "data": {
      "text/plain": [
       "('name', 'country', 'population', 'coordinates')"
      ]
     },
     "execution_count": 19,
     "metadata": {},
     "output_type": "execute_result"
    }
   ],
   "source": [
    "City._fields\n"
   ]
  },
  {
   "cell_type": "code",
   "execution_count": 20,
   "id": "4d90a201-cfe7-4595-a70e-5cacf61b6ad2",
   "metadata": {},
   "outputs": [
    {
     "data": {
      "text/plain": [
       "{'name': 'Delhi NCR',\n",
       " 'country': 'IN',\n",
       " 'population': 21.935,\n",
       " 'coordinates': Coordinate(lat=28.613889, lon=77.208889)}"
      ]
     },
     "execution_count": 20,
     "metadata": {},
     "output_type": "execute_result"
    }
   ],
   "source": [
    "# 复杂一点的例子\n",
    "Coordinate = namedtuple('Coordinate', 'lat lon')\n",
    "delhi_data = ('Delhi NCR', 'IN', 21.935, Coordinate(28.613889, 77.208889))\n",
    "delhi = City._make(delhi_data)\n",
    "delhi._asdict()\n"
   ]
  },
  {
   "cell_type": "code",
   "execution_count": 21,
   "id": "fe31b597-a698-4953-8d3c-cb19c6032ea1",
   "metadata": {},
   "outputs": [
    {
     "data": {
      "text/plain": [
       "City(name='Delhi NCR', country='IN', population=21.935, coordinates=Coordinate(lat=28.613889, lon=77.208889))"
      ]
     },
     "execution_count": 21,
     "metadata": {},
     "output_type": "execute_result"
    }
   ],
   "source": [
    "delhi"
   ]
  },
  {
   "cell_type": "code",
   "execution_count": 22,
   "id": "2b1aada5-9c83-457c-8ec5-b647908e5385",
   "metadata": {},
   "outputs": [
    {
     "data": {
      "text/plain": [
       "'{\"name\": \"Delhi NCR\", \"country\": \"IN\", \"population\": 21.935, \"coordinates\": [28.613889, 77.208889]}'"
      ]
     },
     "execution_count": 22,
     "metadata": {},
     "output_type": "execute_result"
    }
   ],
   "source": [
    "import json\n",
    "\n",
    "json.dumps(delhi._asdict())\n"
   ]
  },
  {
   "cell_type": "markdown",
   "id": "7c6fc541-cdc3-4a3c-97a1-3005c7a2217b",
   "metadata": {},
   "source": [
    "构建一个具名元组，为字段指定默认值"
   ]
  },
  {
   "cell_type": "code",
   "execution_count": 23,
   "id": "189a13c2-22bb-4bb6-8940-ae24d0ce5641",
   "metadata": {},
   "outputs": [
    {
     "data": {
      "text/plain": [
       "Coordinate(lat=0, lon=0, reference='WSG84')"
      ]
     },
     "execution_count": 23,
     "metadata": {},
     "output_type": "execute_result"
    }
   ],
   "source": [
    "Coordinate = namedtuple('Coordinate', 'lat lon reference', defaults=['WSG84']) \n",
    "Coordinate(0, 0)\n"
   ]
  },
  {
   "cell_type": "code",
   "execution_count": 24,
   "id": "3cb65bae-ea22-48a9-a254-e050ce386d65",
   "metadata": {},
   "outputs": [
    {
     "data": {
      "text/plain": [
       "{'reference': 'WSG84'}"
      ]
     },
     "execution_count": 24,
     "metadata": {},
     "output_type": "execute_result"
    }
   ],
   "source": [
    "Coordinate._field_defaults"
   ]
  },
  {
   "cell_type": "markdown",
   "id": "1cd9855e-b032-4f72-9033-c23c2cdb2719",
   "metadata": {},
   "source": [
    "## @dataclass 详解\n",
    "\n",
    "定义：\n",
    "\n",
    "```\n",
    "@dataclass(*, init=True, repr=True, eq=True, order=False, unsafe_hash=False, frozen=False)\n",
    "```\n",
    "- init：默认值是True，生成__init__，如果用户自己实现了__init__，则忽略该参数。\r",
    "- \n",
    "repr：默认值是True，生成__repr__，如果用户自己实现了__repr__，则忽略该参数。- \r\n",
    "eq：默认值是True，生成__eq__，如果用户自己实现了__eq__，则忽略该参数- 。\r\n",
    "order：默认值是False，生成__lt__、__le__、__gt__、__ge__、如果eq=False，或者执行定义或继承其他用于比较的方法，则抛出异- 常。\r\n",
    "unsafe_hase：默认值是False，生成__hash- __。\r\n",
    "frozen：默认值是False，让实例不可变。"
   ]
  },
  {
   "cell_type": "code",
   "execution_count": 27,
   "id": "f74ab2c2-4f2c-415d-bb1c-8b3b5c3469f3",
   "metadata": {},
   "outputs": [],
   "source": [
    "# 定义ClubMember\n",
    "from dataclasses import dataclass, field\n",
    "\n",
    "@dataclass\n",
    "class ClubMember:\n",
    "    name: str\n",
    "    guests: list = field(default_factory=list)    \n"
   ]
  },
  {
   "cell_type": "markdown",
   "id": "f5b3f291-bac6-4833-9e2e-5160c579e5fc",
   "metadata": {},
   "source": [
    "都柏林核心模式\n",
    "\n",
    "都柏林核心模式是一小组术语，可用于描述数字资源（视频、图像、网页等），也可用于描述物理资源，例如图书、CD和艺术品等对象。"
   ]
  },
  {
   "cell_type": "code",
   "execution_count": 28,
   "id": "332fb235-73f0-47ee-abd2-063de533c6d2",
   "metadata": {},
   "outputs": [],
   "source": [
    "from dataclasses import dataclass, field, fields\n",
    "from typing import Optional\n",
    "from enum import Enum, auto\n",
    "from datetime import date\n",
    "\n",
    "\n",
    "class ResourceType(Enum):  # <1>\n",
    "    BOOK = auto()\n",
    "    EBOOK = auto()\n",
    "    VIDEO = auto()\n",
    "\n",
    "\n",
    "@dataclass\n",
    "class Resource:\n",
    "    \"\"\"描述媒体资源\"\"\"\n",
    "    identifier: str                                   \n",
    "    title: str = '<untitled>'                          \n",
    "    creators: list[str] = field(default_factory=list)\n",
    "    date: Optional[date] = None                        \n",
    "    type: ResourceType = ResourceType.BOOK             \n",
    "    description: str = ''\n",
    "    language: str = ''\n",
    "    subjects: list[str] = field(default_factory=list)\n",
    "        \n",
    "    def __repr__(self):\n",
    "        cls = self.__class__\n",
    "        cls_name = cls.__name__\n",
    "        indent = ' ' * 4\n",
    "        res = [f'{cls_name}(']                            \n",
    "        for f in fields(cls):                             \n",
    "            value = getattr(self, f.name)                 \n",
    "            res.append(f'{indent}{f.name} = {value!r},')  \n",
    "\n",
    "        res.append(')')                                   \n",
    "        return '\\n'.join(res)                             \n"
   ]
  },
  {
   "cell_type": "code",
   "execution_count": 29,
   "id": "ca1a83ff-233c-4195-9620-1400f1b8cae3",
   "metadata": {},
   "outputs": [],
   "source": [
    "description = 'Improving the design of existing code'\n",
    "book = Resource('978-0-13-475759-9', 'Refactoring, 2nd Edition', \n",
    "                ['Martin Fowler', 'Kent Beck'], date(2018, 11, 19),\n",
    "                ResourceType.BOOK, description, 'EN',\n",
    "                ['computer programming', 'OOP'])\n"
   ]
  },
  {
   "cell_type": "code",
   "execution_count": 30,
   "id": "cdd9859a-909d-4ee5-9bde-25a899910aa6",
   "metadata": {},
   "outputs": [
    {
     "data": {
      "text/plain": [
       "Resource(\n",
       "    identifier = '978-0-13-475759-9',\n",
       "    title = 'Refactoring, 2nd Edition',\n",
       "    creators = ['Martin Fowler', 'Kent Beck'],\n",
       "    date = datetime.date(2018, 11, 19),\n",
       "    type = <ResourceType.BOOK: 1>,\n",
       "    description = 'Improving the design of existing code',\n",
       "    language = 'EN',\n",
       "    subjects = ['computer programming', 'OOP'],\n",
       ")"
      ]
     },
     "execution_count": 30,
     "metadata": {},
     "output_type": "execute_result"
    }
   ],
   "source": [
    "book\n"
   ]
  },
  {
   "cell_type": "markdown",
   "id": "5fbcabd5-0602-41f2-b50a-fa79ad0d8984",
   "metadata": {},
   "source": [
    "- Python一直都有声明类属性的简便方式，实例属性更常用，直接在__init__方法中创建实例属性。\n",
    "- @dataclass解决了上述问题，类型提示始终是可选的。\n"
   ]
  },
  {
   "cell_type": "markdown",
   "id": "867700ac-6a7f-43ae-8623-c016627661c1",
   "metadata": {},
   "source": [
    "## 模式匹配类实例\n",
    "\n",
    "类模式有 3 种变体：简单类模式、关键字类模式和位置类模式。下面按 顺序依次研究。\n",
    "\n",
    "1. 简单类模式\n",
    "\n",
    "```\n",
    " case [str(name), _, _, (float(lat), float(lon))]:\n",
    "```\n",
    "\n",
    "- 第一项必须时str实例\n",
    "- 最后一项必须时二元组，两项均为float实例\n",
    "  "
   ]
  },
  {
   "cell_type": "markdown",
   "id": "98ffebb4-3702-4581-a529-7c5910bff23a",
   "metadata": {},
   "source": [
    "2. 关键字类模式"
   ]
  },
  {
   "cell_type": "code",
   "execution_count": null,
   "id": "f9546859-8171-4bfa-96d0-eab1be55cb3f",
   "metadata": {},
   "outputs": [],
   "source": [
    "import typing \n",
    "class City(typing.NamedTuple): \n",
    "    continent: str \n",
    "    name: str \n",
    "    country: str\n",
    "\n",
    "cities = [ \n",
    "    City('Asia', 'Tokyo', 'JP'), \n",
    "    City('Asia', 'Delhi', 'IN'), \n",
    "    City('North America', 'Mexico City', 'MX'),\n",
    "    City('North America', 'New York', 'US'), \n",
    "    City('South America', 'São Paulo', 'BR'),\n",
    "]\n",
    "\n",
    "def match_asian_cities(): \n",
    "    results = [] \n",
    "    for city in cities: \n",
    "        match city: \n",
    "            case City(continent='Asia'): \n",
    "                results.append(city) \n",
    "        return results"
   ]
  },
  {
   "cell_type": "markdown",
   "id": "6bdd7085-ace8-4557-9bde-c54bd4b10e34",
   "metadata": {},
   "source": [
    "3. 位置类模式"
   ]
  },
  {
   "cell_type": "code",
   "execution_count": null,
   "id": "84faf58f-219e-4119-b389-6854cf05a4f8",
   "metadata": {},
   "outputs": [],
   "source": []
  },
  {
   "cell_type": "code",
   "execution_count": null,
   "id": "65a1f678-9220-4b92-b933-c8cc4eda9407",
   "metadata": {},
   "outputs": [],
   "source": []
  }
 ],
 "metadata": {
  "kernelspec": {
   "display_name": "Python 3 (ipykernel)",
   "language": "python",
   "name": "python3"
  },
  "language_info": {
   "codemirror_mode": {
    "name": "ipython",
    "version": 3
   },
   "file_extension": ".py",
   "mimetype": "text/x-python",
   "name": "python",
   "nbconvert_exporter": "python",
   "pygments_lexer": "ipython3",
   "version": "3.10.13"
  }
 },
 "nbformat": 4,
 "nbformat_minor": 5
}
