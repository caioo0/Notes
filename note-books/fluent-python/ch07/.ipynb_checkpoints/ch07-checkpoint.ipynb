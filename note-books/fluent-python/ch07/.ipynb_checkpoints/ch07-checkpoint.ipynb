{
 "cells": [
  {
   "cell_type": "markdown",
   "id": "b33f3c3f-d8ec-4aa2-b557-fa2abb8cd497",
   "metadata": {},
   "source": [
    "# 函数是一等对象\n",
    "\n",
    "## 函数视为对象"
   ]
  },
  {
   "cell_type": "code",
   "execution_count": 4,
   "id": "d1be6b9a-1785-452d-b6da-f36a630a9913",
   "metadata": {},
   "outputs": [
    {
     "data": {
      "text/plain": [
       "1405006117752879898543142606244511569936384000000000"
      ]
     },
     "execution_count": 4,
     "metadata": {},
     "output_type": "execute_result"
    }
   ],
   "source": [
    "def factorial(n):\n",
    "    return 1 if n < 2 else n * factorial(n-1)\n",
    "\n",
    "factorial(42)\n",
    "\n"
   ]
  },
  {
   "cell_type": "code",
   "execution_count": 5,
   "id": "f18cbe8c-f008-4be8-b9a1-ba90007cddc8",
   "metadata": {},
   "outputs": [],
   "source": [
    "factorial.__doc__"
   ]
  },
  {
   "cell_type": "code",
   "execution_count": 6,
   "id": "8eb55950-e618-4a65-9b3d-cdd652da3d19",
   "metadata": {},
   "outputs": [
    {
     "data": {
      "text/plain": [
       "function"
      ]
     },
     "execution_count": 6,
     "metadata": {},
     "output_type": "execute_result"
    }
   ],
   "source": [
    "type(factorial)"
   ]
  },
  {
   "cell_type": "code",
   "execution_count": 7,
   "id": "9871970b-bf0d-44b6-9d2b-5e37cba8e3ac",
   "metadata": {},
   "outputs": [
    {
     "data": {
      "text/plain": [
       "<function __main__.factorial(n)>"
      ]
     },
     "execution_count": 7,
     "metadata": {},
     "output_type": "execute_result"
    }
   ],
   "source": [
    "fact = factorial\n",
    "fact"
   ]
  },
  {
   "cell_type": "code",
   "execution_count": 8,
   "id": "1f58d246-69f6-4bcb-a0a9-b25cce3edc3d",
   "metadata": {},
   "outputs": [
    {
     "data": {
      "text/plain": [
       "120"
      ]
     },
     "execution_count": 8,
     "metadata": {},
     "output_type": "execute_result"
    }
   ],
   "source": [
    "fact(5)"
   ]
  },
  {
   "cell_type": "code",
   "execution_count": 9,
   "id": "73bf090d-f904-488b-b1c9-5aeef0f8f3db",
   "metadata": {},
   "outputs": [
    {
     "data": {
      "text/plain": [
       "<map at 0x2191695ce50>"
      ]
     },
     "execution_count": 9,
     "metadata": {},
     "output_type": "execute_result"
    }
   ],
   "source": [
    "map(factorial,range(11)) # 高阶函数"
   ]
  },
  {
   "cell_type": "code",
   "execution_count": 10,
   "id": "72eb162e-94fa-46a7-b0ee-b72354987f81",
   "metadata": {},
   "outputs": [
    {
     "data": {
      "text/plain": [
       "[1, 1, 2, 6, 24, 120, 720, 5040, 40320, 362880, 3628800]"
      ]
     },
     "execution_count": 10,
     "metadata": {},
     "output_type": "execute_result"
    }
   ],
   "source": [
    "list(map(factorial,range(11)))"
   ]
  },
  {
   "cell_type": "markdown",
   "id": "43495d7c-2811-4641-a112-b602f139dcd1",
   "metadata": {},
   "source": [
    "## 高阶函数"
   ]
  },
  {
   "cell_type": "code",
   "execution_count": 11,
   "id": "ec099501-c894-4cd6-895d-bac5cb7dd0dc",
   "metadata": {},
   "outputs": [
    {
     "data": {
      "text/plain": [
       "['fig', 'apple', 'cherry', 'banana', 'raspberry', 'strawberry']"
      ]
     },
     "execution_count": 11,
     "metadata": {},
     "output_type": "execute_result"
    }
   ],
   "source": [
    "fruits = ['strawberry', 'fig', 'apple', 'cherry', 'raspberry', 'banana']\n",
    "sorted(fruits,key=len)#根据长度排序"
   ]
  },
  {
   "cell_type": "code",
   "execution_count": 13,
   "id": "82e80692-e9e3-42e2-878f-91add853ef34",
   "metadata": {},
   "outputs": [
    {
     "data": {
      "text/plain": [
       "'gnitset'"
      ]
     },
     "execution_count": 13,
     "metadata": {},
     "output_type": "execute_result"
    }
   ],
   "source": [
    "def reverse(word):\n",
    "    return word[::-1]\n",
    "\n",
    "reverse('testing')"
   ]
  },
  {
   "cell_type": "code",
   "execution_count": 14,
   "id": "1da3b85b-482a-4b2f-8613-e406f9dd73fb",
   "metadata": {},
   "outputs": [
    {
     "data": {
      "text/plain": [
       "['banana', 'apple', 'fig', 'raspberry', 'strawberry', 'cherry']"
      ]
     },
     "execution_count": 14,
     "metadata": {},
     "output_type": "execute_result"
    }
   ],
   "source": [
    "sorted(fruits,key=reverse)"
   ]
  },
  {
   "cell_type": "markdown",
   "id": "65ef4359-9fda-439f-a74e-bd88df143ae8",
   "metadata": {},
   "source": [
    "### map、filter 和 reduce 的现代替代品\n",
    "\n",
    "- map的替代：使用列表推导式。\n",
    "- \n",
    "filter的替代：在列表推导式中使用if过滤\n",
    "- \r\n",
    "reduce的替代：使用内置函数，比如sum、all、any等。"
   ]
  },
  {
   "cell_type": "code",
   "execution_count": 15,
   "id": "67f4eb24-b140-49db-b7e5-e1d7011d7258",
   "metadata": {},
   "outputs": [
    {
     "data": {
      "text/plain": [
       "[1, 1, 2, 6, 24, 120]"
      ]
     },
     "execution_count": 15,
     "metadata": {},
     "output_type": "execute_result"
    }
   ],
   "source": [
    "list(map(factorial,range(6)))"
   ]
  },
  {
   "cell_type": "code",
   "execution_count": 16,
   "id": "185bf80d-1d5a-4958-98cb-1c29ce1add7b",
   "metadata": {},
   "outputs": [
    {
     "data": {
      "text/plain": [
       "[1, 1, 2, 6, 24, 120]"
      ]
     },
     "execution_count": 16,
     "metadata": {},
     "output_type": "execute_result"
    }
   ],
   "source": [
    "[factorial(n) for n in range(6)]"
   ]
  },
  {
   "cell_type": "code",
   "execution_count": 17,
   "id": "92e1c380-3882-4f59-9893-94c1ec5d7923",
   "metadata": {},
   "outputs": [
    {
     "data": {
      "text/plain": [
       "[1, 6, 120]"
      ]
     },
     "execution_count": 17,
     "metadata": {},
     "output_type": "execute_result"
    }
   ],
   "source": [
    "list(map(factorial,filter(lambda n:n %2,range(6))))"
   ]
  },
  {
   "cell_type": "code",
   "execution_count": 19,
   "id": "c70ef855-38d8-4e7a-ba5b-aaf2a4c07859",
   "metadata": {},
   "outputs": [
    {
     "data": {
      "text/plain": [
       "[1, 6, 120]"
      ]
     },
     "execution_count": 19,
     "metadata": {},
     "output_type": "execute_result"
    }
   ],
   "source": [
    "[factorial(n)  for n in range(6) if  n %2]"
   ]
  },
  {
   "cell_type": "code",
   "execution_count": 20,
   "id": "5dc5f6b7-b873-406c-9631-eb478e879fc6",
   "metadata": {},
   "outputs": [
    {
     "data": {
      "text/plain": [
       "4950"
      ]
     },
     "execution_count": 20,
     "metadata": {},
     "output_type": "execute_result"
    }
   ],
   "source": [
    "from functools import reduce\n",
    "from operator import add \n",
    "reduce(add,range(100))"
   ]
  },
  {
   "cell_type": "code",
   "execution_count": 21,
   "id": "855faedb-d5ee-419e-93cf-535b00df861e",
   "metadata": {},
   "outputs": [
    {
     "data": {
      "text/plain": [
       "4950"
      ]
     },
     "execution_count": 21,
     "metadata": {},
     "output_type": "execute_result"
    }
   ],
   "source": [
    "sum(range(100))"
   ]
  },
  {
   "cell_type": "code",
   "execution_count": 24,
   "id": "e1fd1299-5b59-4475-9814-bd26288a01b2",
   "metadata": {},
   "outputs": [
    {
     "data": {
      "text/plain": [
       "['banana', 'applb', 'apple', 'fig', 'raspberry', 'strawberry', 'cherry']"
      ]
     },
     "execution_count": 24,
     "metadata": {},
     "output_type": "execute_result"
    }
   ],
   "source": [
    "# lambda 表达式反转拼写,然后依次给单词列表排序\n",
    "fruits = ['strawberry', 'fig', 'apple','applb', 'cherry', 'raspberry', 'banana']\n",
    "sorted(fruits,key= lambda word:word[::-1])"
   ]
  },
  {
   "cell_type": "markdown",
   "id": "6f1fc283-7b50-4083-a51e-8513f70226d1",
   "metadata": {},
   "source": [
    "## 9种可调用对象\n",
    "\n",
    "\n",
    "- 用户定义的函数：使用def语句或lambda表达式创建的函数。\n",
    "- \n",
    "内置函数：例如len或time.strftime\n",
    "- \r\n",
    "内置方法：例如dict.ge\n",
    "- 。\r\n",
    "方法：在类主体中定义的\n",
    "- 数。\r\n",
    "类：调用类时运行类的__new__方法创建一个实例，然后运行__init__方法，初始化实例，最后把实例返回给\n",
    "- 用方。\r\n",
    "类的实例：如果定义了__call__方法，实例可以作为\n",
    "- 数调用。\r\n",
    "生成器函数：主体中有yield关键字的函数或方法，返回一个\n",
    "- 成器对象。\r\n",
    "原生协程函数：使用async def定义的函数或方法，返回\n",
    "- 个协程对象。\r\n",
    "异步生成器函数：使用async def定义，而且主体中有yield关键字的函数或方法，返回一个异步生成器，供async for使用。"
   ]
  },
  {
   "cell_type": "code",
   "execution_count": 27,
   "id": "3f2816f4-79d9-453e-b823-358c862b0283",
   "metadata": {},
   "outputs": [
    {
     "data": {
      "text/plain": [
       "(<function abs(x, /)>, str, 'Ni!')"
      ]
     },
     "execution_count": 27,
     "metadata": {},
     "output_type": "execute_result"
    }
   ],
   "source": [
    "abs,str,'Ni!'"
   ]
  },
  {
   "cell_type": "code",
   "execution_count": 28,
   "id": "0e0a7d5f-c942-4480-a7e1-b74bb6e74c22",
   "metadata": {},
   "outputs": [
    {
     "data": {
      "text/plain": [
       "[True, True, False]"
      ]
     },
     "execution_count": 28,
     "metadata": {},
     "output_type": "execute_result"
    }
   ],
   "source": [
    "[callable(obj) for obj in (abs,str,'Ni!')]"
   ]
  },
  {
   "cell_type": "code",
   "execution_count": 35,
   "id": "5945ecba-2881-41e6-94a5-9608e442d833",
   "metadata": {},
   "outputs": [],
   "source": [
    "# 从打乱顺序的列表种取出一个元素\n",
    "import random\n",
    "\n",
    "class BingoCage:\n",
    "    def __init__(self,items):\n",
    "        self._items = list(items)\n",
    "        random.shuffle(self._items)\n",
    "\n",
    "    def pick(self):\n",
    "        try:\n",
    "            return self._items.pop()\n",
    "        except IndexError:\n",
    "            raise LookupError('pick from empty BingoCage')\n",
    "\n",
    "    def __call__(self):\n",
    "        return self.pick() \n",
    "            "
   ]
  },
  {
   "cell_type": "code",
   "execution_count": 36,
   "id": "09b853b0-d7be-4e89-b4e0-443206207628",
   "metadata": {},
   "outputs": [
    {
     "data": {
      "text/plain": [
       "1"
      ]
     },
     "execution_count": 36,
     "metadata": {},
     "output_type": "execute_result"
    }
   ],
   "source": [
    "bingo = BingoCage(range(3))\n",
    "bingo.pick()"
   ]
  },
  {
   "cell_type": "code",
   "execution_count": 37,
   "id": "c62968fb-9cb8-40af-af84-97435a12f6c3",
   "metadata": {},
   "outputs": [
    {
     "data": {
      "text/plain": [
       "2"
      ]
     },
     "execution_count": 37,
     "metadata": {},
     "output_type": "execute_result"
    }
   ],
   "source": [
    "bingo()"
   ]
  },
  {
   "cell_type": "code",
   "execution_count": 38,
   "id": "d7f646c1-c60e-45dd-9415-b459326ed4eb",
   "metadata": {},
   "outputs": [
    {
     "data": {
      "text/plain": [
       "True"
      ]
     },
     "execution_count": 38,
     "metadata": {},
     "output_type": "execute_result"
    }
   ],
   "source": [
    "callable(bingo)"
   ]
  },
  {
   "cell_type": "code",
   "execution_count": 33,
   "id": "45cd4466-d001-42e8-80eb-b576c096b726",
   "metadata": {},
   "outputs": [
    {
     "name": "stdout",
     "output_type": "stream",
     "text": [
      "My name is Bob...\n",
      "My friend is Tim...\n"
     ]
    }
   ],
   "source": [
    "class Person(object):\n",
    "    def __init__(self, name, gender):\n",
    "        self.name = name\n",
    "        self.gender = gender\n",
    "\n",
    "    def __call__(self, friend):\n",
    "        print('My name is %s...' % self.name)\n",
    "        print('My friend is %s...' % friend)\n",
    "\n",
    "p = Person('Bob', 'male')\n",
    "p('Tim')"
   ]
  },
  {
   "cell_type": "code",
   "execution_count": 39,
   "id": "4fb934d5-a951-4bc5-930a-8d579f1463dc",
   "metadata": {},
   "outputs": [],
   "source": [
    "def tag(name, *content, class_=None, **attrs):\n",
    "    \"\"\"生成一个或多个HTML标签\"\"\"\n",
    "    if class_ is not None:\n",
    "        attrs['class'] = class_\n",
    "    attr_pairs = (f' {attr}=\"{value}\"' for attr, value\n",
    "                    in sorted(attrs.items()))\n",
    "    attr_str = ''.join(attr_pairs)\n",
    "    if content:\n",
    "        elements = (f'<{name}{attr_str}>{c}</{name}>'\n",
    "                    for c in content)\n",
    "        return '\\n'.join(elements)\n",
    "    else:\n",
    "        return f'<{name}{attr_str} />'\n"
   ]
  },
  {
   "cell_type": "code",
   "execution_count": 40,
   "id": "6aae4669-a9db-47f7-b7c7-c370f5275c85",
   "metadata": {},
   "outputs": [
    {
     "data": {
      "text/plain": [
       "'<br />'"
      ]
     },
     "execution_count": 40,
     "metadata": {},
     "output_type": "execute_result"
    }
   ],
   "source": [
    "# 传入单个位置参数\n",
    "tag('br')\n"
   ]
  },
  {
   "cell_type": "code",
   "execution_count": 41,
   "id": "5f8902b1-8cfe-4304-a96c-2c5ce09d8755",
   "metadata": {},
   "outputs": [
    {
     "data": {
      "text/plain": [
       "'<p>hello</p>'"
      ]
     },
     "execution_count": 41,
     "metadata": {},
     "output_type": "execute_result"
    }
   ],
   "source": [
    "# 第一个参数后面的任意数量的参数被*content捕获，存入一个元组\n",
    "tag('p', 'hello')\n"
   ]
  },
  {
   "cell_type": "code",
   "execution_count": 42,
   "id": "b14370c0-4cce-4c2b-b9b2-f23ae762c092",
   "metadata": {},
   "outputs": [
    {
     "data": {
      "text/plain": [
       "'<p id=\"3\">hello</p>'"
      ]
     },
     "execution_count": 42,
     "metadata": {},
     "output_type": "execute_result"
    }
   ],
   "source": [
    "# tag函数签名中没有明确指定名称的关键字参数被**attrs捕获，存入一个字典\n",
    "tag('p', 'hello', id=3)\n"
   ]
  },
  {
   "cell_type": "code",
   "execution_count": 43,
   "id": "a782b122-c8b6-403d-a5a5-03789531e2bf",
   "metadata": {},
   "outputs": [
    {
     "name": "stdout",
     "output_type": "stream",
     "text": [
      "<p class=\"sidebar\">hello</p>\n",
      "<p class=\"sidebar\">world</p>\n"
     ]
    }
   ],
   "source": [
    "# class_参数智能作为关键字参数传入\n",
    "print(tag('p', 'hello', 'world', class_='sidebar'))\n"
   ]
  },
  {
   "cell_type": "code",
   "execution_count": 44,
   "id": "3eaf0f02-cd15-468f-9cd1-64b9614e45ec",
   "metadata": {},
   "outputs": [
    {
     "data": {
      "text/plain": [
       "'<img content=\"testing\" />'"
      ]
     },
     "execution_count": 44,
     "metadata": {},
     "output_type": "execute_result"
    }
   ],
   "source": [
    "# 第一个位置参数也能作为关键字参数传入\n",
    "tag(content='testing', name='img')\n"
   ]
  },
  {
   "cell_type": "code",
   "execution_count": 45,
   "id": "47167a51-408c-4993-bac5-9ccc6c567a7f",
   "metadata": {},
   "outputs": [
    {
     "data": {
      "text/plain": [
       "'<img class=\"framed\" src=\"sunset.jpg\" title=\"Sunset Boulevard\" />'"
      ]
     },
     "execution_count": 45,
     "metadata": {},
     "output_type": "execute_result"
    }
   ],
   "source": [
    "# 加上**之后，字典中的所有项作为参数依次传入\n",
    "my_tag = {'name': 'img', 'title': 'Sunset Boulevard',\n",
    "           'src': 'sunset.jpg', 'class': 'framed'}\n",
    "tag(**my_tag)\n"
   ]
  },
  {
   "cell_type": "markdown",
   "id": "eef7d50a-8ed3-4b5c-9a62-7edc9c2f964c",
   "metadata": {},
   "source": [
    "## 仅限位置参数"
   ]
  },
  {
   "cell_type": "code",
   "execution_count": 53,
   "id": "ee6f1732-98d3-42ed-8556-1a7be934424e",
   "metadata": {},
   "outputs": [
    {
     "data": {
      "text/plain": [
       "(1, 2)"
      ]
     },
     "execution_count": 53,
     "metadata": {},
     "output_type": "execute_result"
    }
   ],
   "source": [
    "def divmod(a,b,/):\n",
    "    return (a//b,a % b)  # 往下取整\n",
    "\n",
    "divmod(10,8)"
   ]
  },
  {
   "cell_type": "markdown",
   "id": "754b891f-5f12-48cc-a1e7-52c915a91005",
   "metadata": {},
   "source": [
    "##  支持函数式编程的包"
   ]
  },
  {
   "cell_type": "code",
   "execution_count": 57,
   "id": "7d18889a-af4d-4d72-95cb-cb8dea4616a1",
   "metadata": {},
   "outputs": [],
   "source": [
    "# 使用reduce函数和operator.mul函数计算阶乘\n",
    "from functools import reduce\n",
    "from operator import mul  # 提供多种运算公式\n",
    "\n",
    "def factorial1(n):\n",
    "    return reduce(mul, range(1, n + 1))\n",
    "\n",
    "def factorial2(n): \n",
    "    return reduce(lambda a, b: a*b, range(1, n+1))"
   ]
  },
  {
   "cell_type": "code",
   "execution_count": 56,
   "id": "e286c3c0-0b48-4875-b0ac-d55d6b8f96d9",
   "metadata": {},
   "outputs": [
    {
     "data": {
      "text/plain": [
       "(120, 120)"
      ]
     },
     "execution_count": 56,
     "metadata": {},
     "output_type": "execute_result"
    }
   ],
   "source": [
    "factorial1(5),factorial2(5)"
   ]
  },
  {
   "cell_type": "code",
   "execution_count": 61,
   "id": "414511ff-a614-4b44-91c4-a6835ff4d788",
   "metadata": {},
   "outputs": [
    {
     "name": "stdout",
     "output_type": "stream",
     "text": [
      "('São Paulo', 'BR', 19.649, (-23.547778, -46.635833))\n",
      "('New York-Newark', 'US', 20.104, (40.808611, -74.020386))\n",
      "('Mexico City', 'MX', 20.142, (19.433333, -99.133333))\n",
      "('Delhi NCR', 'IN', 21.935, (28.613889, 77.208889))\n",
      "('Tokyo', 'JP', 36.933, (35.689722, 139.691667))\n"
     ]
    }
   ],
   "source": [
    "# 使用itemgetter排序一个元组列表\n",
    "metro_data = [\n",
    "    ('Tokyo', 'JP', 36.933, (35.689722, 139.691667)),  \n",
    "    ('Delhi NCR', 'IN', 21.935, (28.613889, 77.208889)),\n",
    "    ('Mexico City', 'MX', 20.142, (19.433333, -99.133333)),\n",
    "    ('New York-Newark', 'US', 20.104, (40.808611, -74.020386)),\n",
    "    ('São Paulo', 'BR', 19.649, (-23.547778, -46.635833)),\n",
    "]\n",
    "\n",
    "from operator import itemgetter  # 多元素排序\n",
    "\n",
    "for city in sorted(metro_data, key=itemgetter(2)):\n",
    "    print(city)\n"
   ]
  },
  {
   "cell_type": "markdown",
   "id": "524bfa83-fb63-4585-896f-1553eb0c4c83",
   "metadata": {},
   "source": [
    "operator参考：https://www.runoob.com/python3/python-operator.html"
   ]
  },
  {
   "cell_type": "code",
   "execution_count": 62,
   "id": "53feef54-e52c-4859-935e-1f040be79204",
   "metadata": {},
   "outputs": [
    {
     "name": "stdout",
     "output_type": "stream",
     "text": [
      "('JP', 'Tokyo')\n",
      "('IN', 'Delhi NCR')\n",
      "('MX', 'Mexico City')\n",
      "('US', 'New York-Newark')\n",
      "('BR', 'São Paulo')\n"
     ]
    }
   ],
   "source": [
    "cc_name = itemgetter(1, 0)\n",
    "for city in metro_data:\n",
    "    print(cc_name(city))\n"
   ]
  },
  {
   "cell_type": "code",
   "execution_count": 65,
   "id": "2870e6c3-be33-46a8-a5db-3ecb041b6966",
   "metadata": {},
   "outputs": [
    {
     "data": {
      "text/plain": [
       "Metropolis(name='Delhi NCR', cc='IN', pop=21.935, coord=LatLon(lat=28.613889, lon=77.208889))"
      ]
     },
     "execution_count": 65,
     "metadata": {},
     "output_type": "execute_result"
    }
   ],
   "source": [
    "# 使用attrgetter处理定义的具名元组metro_data\n",
    "from collections import namedtuple\n",
    "\n",
    "LatLon = namedtuple('LatLon', 'lat lon')\n",
    "Metropolis = namedtuple('Metropolis', 'name cc pop coord')\n",
    "metro_areas = [Metropolis(name, cc, pop, LatLon(lat, lon)) \n",
    "               for name, cc, pop, (lat, lon) in metro_data]\n",
    "\n",
    "metro_areas[1]\n",
    "\n"
   ]
  },
  {
   "cell_type": "code",
   "execution_count": 66,
   "id": "2f4ad08c-467d-46e3-ab10-3d94d01dee8a",
   "metadata": {},
   "outputs": [
    {
     "data": {
      "text/plain": [
       "28.613889"
      ]
     },
     "execution_count": 66,
     "metadata": {},
     "output_type": "execute_result"
    }
   ],
   "source": [
    "metro_areas[1].coord.lat \n"
   ]
  },
  {
   "cell_type": "code",
   "execution_count": 67,
   "id": "c5adea56-7749-4ec3-a15a-a6f16118c744",
   "metadata": {},
   "outputs": [
    {
     "name": "stdout",
     "output_type": "stream",
     "text": [
      "('São Paulo', -23.547778)\n",
      "('Mexico City', 19.433333)\n",
      "('Delhi NCR', 28.613889)\n",
      "('Tokyo', 35.689722)\n",
      "('New York-Newark', 40.808611)\n"
     ]
    }
   ],
   "source": [
    "# 更加简洁的方法\n",
    "from operator import attrgetter\n",
    "\n",
    "name_lat = attrgetter('name', 'coord.lat')\n",
    "\n",
    "for city in sorted(metro_areas, key=attrgetter('coord.lat')):\n",
    "    print(name_lat(city))\n"
   ]
  },
  {
   "cell_type": "code",
   "execution_count": 68,
   "id": "61f0d121-8a72-422f-8ddf-a780f1a15f90",
   "metadata": {},
   "outputs": [
    {
     "data": {
      "text/plain": [
       "'THE TIME HAS COME'"
      ]
     },
     "execution_count": 68,
     "metadata": {},
     "output_type": "execute_result"
    }
   ],
   "source": [
    "# 使用methodcaller\n",
    "from operator import methodcaller\n",
    "\n",
    "s = 'The time has come'\n",
    "upcase = methodcaller('upper')\n",
    "upcase(s)\n"
   ]
  },
  {
   "cell_type": "code",
   "execution_count": 69,
   "id": "f116d503-267a-4c6f-866a-5a70c9097870",
   "metadata": {},
   "outputs": [
    {
     "data": {
      "text/plain": [
       "'The-time-has-come'"
      ]
     },
     "execution_count": 69,
     "metadata": {},
     "output_type": "execute_result"
    }
   ],
   "source": [
    "hyphenate = methodcaller('replace', ' ', '-')\n",
    "hyphenate(s)\n"
   ]
  },
  {
   "cell_type": "code",
   "execution_count": 70,
   "id": "01f3bdec-98eb-4493-8277-f2cece8a7939",
   "metadata": {},
   "outputs": [
    {
     "data": {
      "text/plain": [
       "21"
      ]
     },
     "execution_count": 70,
     "metadata": {},
     "output_type": "execute_result"
    }
   ],
   "source": [
    "# 使用partial把一个双参数函数改造成只需要一个参数的可调用对象\n",
    "from operator import mul\n",
    "from functools import partial\n",
    "\n",
    "triple = partial(mul, 3)\n",
    "triple(7)\n"
   ]
  },
  {
   "cell_type": "code",
   "execution_count": 71,
   "id": "cc7a56e6-d496-4918-87ea-8383d9f3a9f4",
   "metadata": {},
   "outputs": [
    {
     "data": {
      "text/plain": [
       "[3, 6, 9, 12, 15, 18, 21, 24, 27]"
      ]
     },
     "execution_count": 71,
     "metadata": {},
     "output_type": "execute_result"
    }
   ],
   "source": [
    "list(map(triple, range(1, 10)))\n"
   ]
  },
  {
   "cell_type": "markdown",
   "id": "56cc6101-e818-4e34-8195-9065c6bce2d7",
   "metadata": {},
   "source": [
    "> operator 真的很好用"
   ]
  },
  {
   "cell_type": "code",
   "execution_count": null,
   "id": "9cb21f2f-fe32-47f4-a1a7-5db551103866",
   "metadata": {},
   "outputs": [],
   "source": []
  }
 ],
 "metadata": {
  "kernelspec": {
   "display_name": "Python 3 (ipykernel)",
   "language": "python",
   "name": "python3"
  },
  "language_info": {
   "codemirror_mode": {
    "name": "ipython",
    "version": 3
   },
   "file_extension": ".py",
   "mimetype": "text/x-python",
   "name": "python",
   "nbconvert_exporter": "python",
   "pygments_lexer": "ipython3",
   "version": "3.10.13"
  }
 },
 "nbformat": 4,
 "nbformat_minor": 5
}
