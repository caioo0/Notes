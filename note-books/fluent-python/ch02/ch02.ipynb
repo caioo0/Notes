{
 "cells": [
  {
   "cell_type": "markdown",
   "id": "70205776-f8cb-4341-b7d4-fe4370d2b5bb",
   "metadata": {},
   "source": [
    "# 第 2 章 丰富的序列\n"
   ]
  },
  {
   "cell_type": "code",
   "execution_count": 1,
   "id": "746c418e-cb17-45fa-aad7-f2cf7595bc1c",
   "metadata": {},
   "outputs": [
    {
     "name": "stdout",
     "output_type": "stream",
     "text": [
      "3.10.13 | packaged by Anaconda, Inc. | (main, Sep 11 2023, 13:24:38) [MSC v.1916 64 bit (AMD64)]\n",
      "D:\\ProgramData\\anaconda3\\python.exe\n"
     ]
    }
   ],
   "source": [
    "import sys\n",
    "print(sys.version)\n",
    "print(sys.executable)"
   ]
  },
  {
   "cell_type": "code",
   "execution_count": 4,
   "id": "35b8a5c1-1f34-42e7-ab5d-dd1660c2e2a0",
   "metadata": {},
   "outputs": [
    {
     "data": {
      "text/plain": [
       "97"
      ]
     },
     "execution_count": 4,
     "metadata": {},
     "output_type": "execute_result"
    }
   ],
   "source": [
    "a ='a'\n",
    "ord(a) # ord() 函数是 chr() 函数（对于8位的ASCII字符串）或 unichr() 函数（对于Unicode对象）的配对函数"
   ]
  },
  {
   "cell_type": "code",
   "execution_count": 6,
   "id": "82755019-96b4-4c39-b693-6f70230255da",
   "metadata": {},
   "outputs": [
    {
     "data": {
      "text/plain": [
       "True"
      ]
     },
     "execution_count": 6,
     "metadata": {},
     "output_type": "execute_result"
    }
   ],
   "source": [
    "from collections import abc \n",
    "issubclass(tuple,abc.Sequence)"
   ]
  },
  {
   "cell_type": "code",
   "execution_count": 7,
   "id": "f1968a47-9d9b-4657-a446-d16f5946f5c3",
   "metadata": {},
   "outputs": [
    {
     "data": {
      "text/plain": [
       "True"
      ]
     },
     "execution_count": 7,
     "metadata": {},
     "output_type": "execute_result"
    }
   ],
   "source": [
    "issubclass(list, abc.MutableSequence)"
   ]
  },
  {
   "cell_type": "markdown",
   "id": "555811fb-2322-4901-8aa6-702797080380",
   "metadata": {},
   "source": [
    "## 列表推导式和生成器表达式\n",
    "> 很多 Python 程序员把列表推导式简称为 listcomps，把生成 器表达式简称为 genexp。\n",
    "\n",
    "### 列表推导式"
   ]
  },
  {
   "cell_type": "code",
   "execution_count": 12,
   "id": "09193139-9c1a-4c58-b046-0c7b6362b99c",
   "metadata": {},
   "outputs": [
    {
     "data": {
      "text/plain": [
       "[36, 162, 163, 165, 8364, 164]"
      ]
     },
     "execution_count": 12,
     "metadata": {},
     "output_type": "execute_result"
    }
   ],
   "source": [
    "# 方法一：\n",
    "symbols = '$¢£¥€¤'   # 定义 Unicode 码点列表\n",
    "codes = []\n",
    "for symbol in symbols:  # 迭代\n",
    "    codes.append(ord(symbol))\n",
    "codes"
   ]
  },
  {
   "cell_type": "code",
   "execution_count": 13,
   "id": "c985f5d4-b3eb-4609-acfd-7cad1a00ef7a",
   "metadata": {},
   "outputs": [
    {
     "data": {
      "text/plain": [
       "[36, 162, 163, 165, 8364, 164]"
      ]
     },
     "execution_count": 13,
     "metadata": {},
     "output_type": "execute_result"
    }
   ],
   "source": [
    "# 方法二：\n",
    "symbols =  '$¢£¥€¤'   # 定义 Unicode 码点列表\n",
    "codes = [ord(symbol) for symbol in symbols]\n",
    "codes"
   ]
  },
  {
   "cell_type": "markdown",
   "id": "1766247e-08e4-452f-8283-28706d1e3d8a",
   "metadata": {},
   "source": [
    "句法提示：Python 会忽略 []、{} 和 () 内部的换行。因此，列表、列表推 导式、元组、字典等结构完全可以分成几行来写，无须使用续行转 义符 \\。"
   ]
  },
  {
   "cell_type": "markdown",
   "id": "12bbec7a-1a0f-4868-a62b-54c433014e6a",
   "metadata": {},
   "source": [
    "海象运算符：即一个变量名后跟一个表达式或者一个值，这个和赋值运算符 = 类似，可以看作是一种新的赋值运算符。\n",
    "\n",
    "参考：https://zhuanlan.zhihu.com/p/351140647"
   ]
  },
  {
   "cell_type": "code",
   "execution_count": 17,
   "id": "d17b788c-4f73-41df-91e6-3370d2b6cbd3",
   "metadata": {},
   "outputs": [
    {
     "data": {
      "text/plain": [
       "'ABC'"
      ]
     },
     "execution_count": 17,
     "metadata": {},
     "output_type": "execute_result"
    }
   ],
   "source": [
    "x = 'ABC'\n",
    "codes = [ord(x) for x in x]\n",
    "x"
   ]
  },
  {
   "cell_type": "code",
   "execution_count": 18,
   "id": "b4ac04d7-c463-46e7-b20f-e4b002513597",
   "metadata": {},
   "outputs": [
    {
     "data": {
      "text/plain": [
       "[65, 66, 67]"
      ]
     },
     "execution_count": 18,
     "metadata": {},
     "output_type": "execute_result"
    }
   ],
   "source": [
    "codes"
   ]
  },
  {
   "cell_type": "code",
   "execution_count": 19,
   "id": "b394cea6-61c4-43ab-9e93-5412ad34de9f",
   "metadata": {},
   "outputs": [],
   "source": [
    "codes = [last := ord(c) for c in x]"
   ]
  },
  {
   "cell_type": "code",
   "execution_count": 20,
   "id": "41224d06-5825-4b5b-befa-a302dc417dc8",
   "metadata": {},
   "outputs": [
    {
     "data": {
      "text/plain": [
       "67"
      ]
     },
     "execution_count": 20,
     "metadata": {},
     "output_type": "execute_result"
    }
   ],
   "source": [
    "last"
   ]
  },
  {
   "cell_type": "code",
   "execution_count": 24,
   "id": "799f2334-d9e2-4219-9185-10a4ae01eb6e",
   "metadata": {},
   "outputs": [
    {
     "data": {
      "text/plain": [
       "[162, 163, 165, 8364, 164]"
      ]
     },
     "execution_count": 24,
     "metadata": {},
     "output_type": "execute_result"
    }
   ],
   "source": [
    "# 加上条件\n",
    "# 方法1\n",
    "symbols =  '$¢£¥€¤'   # 定义 Unicode 码点列表\n",
    "beyond_ascii = [ord(s) for s in symbols if ord(s) > 127]\n",
    "beyond_ascii\n"
   ]
  },
  {
   "cell_type": "code",
   "execution_count": 25,
   "id": "42484bed-e874-4732-b0c5-230d8b927feb",
   "metadata": {},
   "outputs": [
    {
     "data": {
      "text/plain": [
       "[162, 163, 165, 8364, 164]"
      ]
     },
     "execution_count": 25,
     "metadata": {},
     "output_type": "execute_result"
    }
   ],
   "source": [
    "# 方法2\n",
    "beyond_ascii = list(filter(lambda c: c>127,map(ord,symbols)))\n",
    "beyond_ascii"
   ]
  },
  {
   "cell_type": "code",
   "execution_count": 27,
   "id": "65c0e10f-c2aa-4995-acb2-497b4f8df9e2",
   "metadata": {},
   "outputs": [
    {
     "data": {
      "text/plain": [
       "[36, 162, 163, 165, 8364, 164]"
      ]
     },
     "execution_count": 27,
     "metadata": {},
     "output_type": "execute_result"
    }
   ],
   "source": [
    "list(map(ord,symbols))  # map(function, iterable, ...)会根据提供的函数对指定序列做映射 "
   ]
  },
  {
   "cell_type": "markdown",
   "id": "292cb7c3-c116-4615-99ca-ea0615ac33cc",
   "metadata": {},
   "source": [
    "笛卡尔积："
   ]
  },
  {
   "cell_type": "code",
   "execution_count": 28,
   "id": "0cf5c24d-309b-4570-9eda-312d78bddfdf",
   "metadata": {},
   "outputs": [
    {
     "data": {
      "text/plain": [
       "[('black', 'S'),\n",
       " ('black', 'M'),\n",
       " ('black', 'L'),\n",
       " ('white', 'S'),\n",
       " ('white', 'M'),\n",
       " ('white', 'L')]"
      ]
     },
     "execution_count": 28,
     "metadata": {},
     "output_type": "execute_result"
    }
   ],
   "source": [
    "colors = ['black','white']\n",
    "sizes = ['S','M','L']\n",
    "tshirts = [(color,size) for color in colors\n",
    "                        for size in sizes]\n",
    "tshirts"
   ]
  },
  {
   "cell_type": "code",
   "execution_count": 30,
   "id": "399cff5a-f8e1-4d07-a4c8-90e75f2fb1d7",
   "metadata": {},
   "outputs": [
    {
     "name": "stdout",
     "output_type": "stream",
     "text": [
      "('black', 'S')\n",
      "('black', 'M')\n",
      "('black', 'L')\n",
      "('white', 'S')\n",
      "('white', 'M')\n",
      "('white', 'L')\n"
     ]
    }
   ],
   "source": [
    "for color in colors:\n",
    "    for size in sizes:\n",
    "        print((color,size))"
   ]
  },
  {
   "cell_type": "markdown",
   "id": "935d1b8a-261d-4b25-a981-291f94339ac4",
   "metadata": {},
   "source": [
    "### 生成器表达式"
   ]
  },
  {
   "cell_type": "code",
   "execution_count": 31,
   "id": "5d8450f0-4391-4ba0-91b9-758414c5fe1d",
   "metadata": {},
   "outputs": [
    {
     "data": {
      "text/plain": [
       "(162, 163, 165, 8364, 164)"
      ]
     },
     "execution_count": 31,
     "metadata": {},
     "output_type": "execute_result"
    }
   ],
   "source": [
    "symbols =  '$¢£¥€¤'   # 定义 Unicode 码点列表\n",
    "tuple(ord(s) for s in symbols if ord(s) > 127)\n"
   ]
  },
  {
   "cell_type": "code",
   "execution_count": 34,
   "id": "c7a080c1-b3fc-46b8-a67f-8952c92ce604",
   "metadata": {},
   "outputs": [
    {
     "data": {
      "text/plain": [
       "array('i', [162, 163, 165, 8364, 164])"
      ]
     },
     "execution_count": 34,
     "metadata": {},
     "output_type": "execute_result"
    }
   ],
   "source": [
    "import array\n",
    "symbols =  '$¢£¥€¤'   # 定义 Unicode 码点列表\n",
    "array.array('i',(ord(s) for s in symbols if ord(s) > 127))"
   ]
  },
  {
   "cell_type": "code",
   "execution_count": 79,
   "id": "08853dc9-b489-45d3-8287-cfbc7827a7cc",
   "metadata": {},
   "outputs": [
    {
     "name": "stdout",
     "output_type": "stream",
     "text": [
      "black,s\n",
      "black,m\n",
      "black,l\n",
      "white,s\n",
      "white,m\n",
      "white,l\n"
     ]
    }
   ],
   "source": [
    "# 使用生成器表达式计算笛卡尔积\n",
    "\n",
    "colors = ['black','white']\n",
    "sizes = ['s','m','l']\n",
    "\n",
    "for tshirt in (f'{c},{s}' for c in colors for s in sizes):\n",
    "    print(tshirt)\n"
   ]
  },
  {
   "cell_type": "code",
   "execution_count": 40,
   "id": "580a45a7-db82-44b2-a3fe-6d745c23ca0b",
   "metadata": {},
   "outputs": [
    {
     "name": "stdout",
     "output_type": "stream",
     "text": [
      "('white', 'L')\n",
      "('white', 'L')\n",
      "('white', 'L')\n",
      "('white', 'L')\n",
      "('white', 'L')\n",
      "('white', 'L')\n"
     ]
    }
   ],
   "source": [
    "for tshirt in ((color,size) for c in colors for s in sizes):\n",
    "    print(tshirt)"
   ]
  },
  {
   "cell_type": "markdown",
   "id": "5a30d336-5090-4808-896c-78fec5f72a92",
   "metadata": {},
   "source": [
    "### 元组"
   ]
  },
  {
   "cell_type": "code",
   "execution_count": 44,
   "id": "54c0a076-5fdc-4d79-9a1b-4601e7e60e37",
   "metadata": {},
   "outputs": [],
   "source": [
    "lax_coordinates = (33.9425,-118.408056)\n",
    "city,year,pop,chg,area = ('Tokyo',2003,32_450,_,_)"
   ]
  },
  {
   "cell_type": "code",
   "execution_count": 48,
   "id": "a5818770-dd54-4545-ac2a-606aefd88fc9",
   "metadata": {},
   "outputs": [
    {
     "name": "stdout",
     "output_type": "stream",
     "text": [
      "BRA/CE342567\n",
      "ESP/XDA205856\n",
      "USA/31195855\n"
     ]
    }
   ],
   "source": [
    "traveler_ids = [('USA', '31195855'), ('BRA', 'CE342567'),('ESP', 'XDA205856')]\n",
    "\n",
    "for passport in sorted(traveler_ids):\n",
    "    print('%s/%s' % passport)"
   ]
  },
  {
   "cell_type": "code",
   "execution_count": 80,
   "id": "b8a411e0-a443-44e3-a438-f8ce1e0013e1",
   "metadata": {},
   "outputs": [],
   "source": [
    "latitude ,longitude = lax_coordinates  # 拆包"
   ]
  },
  {
   "cell_type": "code",
   "execution_count": 81,
   "id": "2c443146-2a77-4ce6-a2ec-5e237517865d",
   "metadata": {},
   "outputs": [
    {
     "data": {
      "text/plain": [
       "33.9425"
      ]
     },
     "execution_count": 81,
     "metadata": {},
     "output_type": "execute_result"
    }
   ],
   "source": [
    "latitude"
   ]
  },
  {
   "cell_type": "code",
   "execution_count": 82,
   "id": "b919cc5f-cb07-4d6b-b9c9-d9532ebd48ec",
   "metadata": {},
   "outputs": [
    {
     "data": {
      "text/plain": [
       "-118.408056"
      ]
     },
     "execution_count": 82,
     "metadata": {},
     "output_type": "execute_result"
    }
   ],
   "source": [
    "longitude"
   ]
  },
  {
   "cell_type": "code",
   "execution_count": 94,
   "id": "4019f8d5-cd6d-4721-bdec-0e26abab2709",
   "metadata": {},
   "outputs": [
    {
     "name": "stdout",
     "output_type": "stream",
     "text": [
      "USA\n",
      "BRA\n",
      "ESP\n"
     ]
    }
   ],
   "source": [
    "for c ,_ in traveler_ids:\n",
    "    print(c)"
   ]
  },
  {
   "cell_type": "code",
   "execution_count": null,
   "id": "c16cc6d9-869e-4bfd-9286-f95f68728797",
   "metadata": {},
   "outputs": [],
   "source": []
  },
  {
   "cell_type": "code",
   "execution_count": 83,
   "id": "c83392f2-8e3f-429f-9494-99d16b0c34c7",
   "metadata": {},
   "outputs": [
    {
     "data": {
      "text/plain": [
       "(10, 'alpha', [1, 2])"
      ]
     },
     "execution_count": 83,
     "metadata": {},
     "output_type": "execute_result"
    }
   ],
   "source": [
    "a = (10, 'alpha', [1, 2]) \n",
    "b = (10, 'alpha', [1, 2])\n",
    "a"
   ]
  },
  {
   "cell_type": "code",
   "execution_count": 84,
   "id": "323ad695-8423-48ae-a2b5-f2dda82a9149",
   "metadata": {},
   "outputs": [
    {
     "data": {
      "text/plain": [
       "(10, 'alpha', [1, 2])"
      ]
     },
     "execution_count": 84,
     "metadata": {},
     "output_type": "execute_result"
    }
   ],
   "source": [
    "b"
   ]
  },
  {
   "cell_type": "code",
   "execution_count": 54,
   "id": "c6daa461-845b-4469-aed4-16432b799137",
   "metadata": {},
   "outputs": [
    {
     "data": {
      "text/plain": [
       "True"
      ]
     },
     "execution_count": 54,
     "metadata": {},
     "output_type": "execute_result"
    }
   ],
   "source": [
    "a==b"
   ]
  },
  {
   "cell_type": "code",
   "execution_count": 85,
   "id": "43d1f92b-4761-4ee9-9f7f-e534443e29d6",
   "metadata": {},
   "outputs": [],
   "source": [
    "b[-1].append(3)"
   ]
  },
  {
   "cell_type": "code",
   "execution_count": 86,
   "id": "acde777c-a946-4b27-9bc1-a33c58d80f05",
   "metadata": {},
   "outputs": [
    {
     "data": {
      "text/plain": [
       "(10, 'alpha', [1, 2, 3])"
      ]
     },
     "execution_count": 86,
     "metadata": {},
     "output_type": "execute_result"
    }
   ],
   "source": [
    "b"
   ]
  },
  {
   "cell_type": "code",
   "execution_count": null,
   "id": "38c42eb6-3910-4a3e-b044-4945fb0f0b4e",
   "metadata": {},
   "outputs": [],
   "source": []
  },
  {
   "cell_type": "code",
   "execution_count": 87,
   "id": "1503ea87-1d83-4781-8d85-3f16fea517c2",
   "metadata": {},
   "outputs": [],
   "source": [
    "d =(10, 'alpha', [1, 2,3])"
   ]
  },
  {
   "cell_type": "code",
   "execution_count": 88,
   "id": "9c098313-dea8-4635-8363-dd722a5924c0",
   "metadata": {},
   "outputs": [
    {
     "data": {
      "text/plain": [
       "True"
      ]
     },
     "execution_count": 88,
     "metadata": {},
     "output_type": "execute_result"
    }
   ],
   "source": [
    "b==d"
   ]
  },
  {
   "cell_type": "code",
   "execution_count": 89,
   "id": "adf226aa-8d8d-4e83-b4a3-588854d8077e",
   "metadata": {},
   "outputs": [],
   "source": [
    "b,a = a,b     # 并行赋值"
   ]
  },
  {
   "cell_type": "code",
   "execution_count": 90,
   "id": "f4af1e81-31fa-4dd0-822a-843bc1e99946",
   "metadata": {},
   "outputs": [
    {
     "data": {
      "text/plain": [
       "(10, 'alpha', [1, 2])"
      ]
     },
     "execution_count": 90,
     "metadata": {},
     "output_type": "execute_result"
    }
   ],
   "source": [
    "b"
   ]
  },
  {
   "cell_type": "code",
   "execution_count": 91,
   "id": "d30cd182-b39a-4e77-b08a-eb8dd0a98e98",
   "metadata": {},
   "outputs": [
    {
     "data": {
      "text/plain": [
       "(10, 'alpha', [1, 2, 3])"
      ]
     },
     "execution_count": 91,
     "metadata": {},
     "output_type": "execute_result"
    }
   ],
   "source": [
    "a"
   ]
  },
  {
   "cell_type": "code",
   "execution_count": 100,
   "id": "f00cdbc8-7270-46d9-8ee2-78798e2c799a",
   "metadata": {},
   "outputs": [
    {
     "data": {
      "text/plain": [
       "(2, 4)"
      ]
     },
     "execution_count": 100,
     "metadata": {},
     "output_type": "execute_result"
    }
   ],
   "source": [
    "## 调用函数时在参数前面加一个*, 利用的也是拆包\n",
    "\n",
    "divmod(20,8)  # Python divmod() 函数接收两个数字类型（非复数）参数，返回一个包含商和余数的元组(a // b, a % b)。\n"
   ]
  },
  {
   "cell_type": "code",
   "execution_count": 102,
   "id": "87aec3f1-b9a0-4c00-a327-311dcd80c4ce",
   "metadata": {},
   "outputs": [
    {
     "data": {
      "text/plain": [
       "(2, 4)"
      ]
     },
     "execution_count": 102,
     "metadata": {},
     "output_type": "execute_result"
    }
   ],
   "source": [
    "t = (20,8)\n",
    "\n",
    "divmod(*t)"
   ]
  },
  {
   "cell_type": "code",
   "execution_count": 104,
   "id": "8bef7739-d8a6-4faf-98de-80e9ad1461d2",
   "metadata": {},
   "outputs": [
    {
     "data": {
      "text/plain": [
       "(2, 4)"
      ]
     },
     "execution_count": 104,
     "metadata": {},
     "output_type": "execute_result"
    }
   ],
   "source": [
    "quotient, remainder = divmod(*t)\n",
    "quotient, remainder"
   ]
  },
  {
   "cell_type": "code",
   "execution_count": 105,
   "id": "0b885b1d-5ffe-4480-bfec-186bf8704325",
   "metadata": {},
   "outputs": [
    {
     "data": {
      "text/plain": [
       "2"
      ]
     },
     "execution_count": 105,
     "metadata": {},
     "output_type": "execute_result"
    }
   ],
   "source": [
    "quotient"
   ]
  },
  {
   "cell_type": "code",
   "execution_count": 76,
   "id": "05605f52-1f28-4385-b5a4-05b071fb3cfb",
   "metadata": {},
   "outputs": [],
   "source": [
    "def fixed(o):\n",
    "    try:\n",
    "        hash(o)\n",
    "    except TypeError:\n",
    "        return False\n",
    "    return True"
   ]
  },
  {
   "cell_type": "code",
   "execution_count": 77,
   "id": "182a4309-d30b-46c8-b7d8-d326729ad90e",
   "metadata": {},
   "outputs": [
    {
     "data": {
      "text/plain": [
       "True"
      ]
     },
     "execution_count": 77,
     "metadata": {},
     "output_type": "execute_result"
    }
   ],
   "source": [
    "tf = (10,'alpha',(1,2))\n",
    "fixed(tf)"
   ]
  },
  {
   "cell_type": "code",
   "execution_count": 78,
   "id": "11697679-58c2-4dd2-82c7-aee5255721a9",
   "metadata": {},
   "outputs": [
    {
     "data": {
      "text/plain": [
       "False"
      ]
     },
     "execution_count": 78,
     "metadata": {},
     "output_type": "execute_result"
    }
   ],
   "source": [
    "tm = (10,'alpha',[1,2])\n",
    "fixed(tm)"
   ]
  },
  {
   "cell_type": "code",
   "execution_count": 106,
   "id": "27df35dd-d10a-4f9b-82db-2472b626073d",
   "metadata": {},
   "outputs": [
    {
     "data": {
      "text/plain": [
       "'id_rsa.pub'"
      ]
     },
     "execution_count": 106,
     "metadata": {},
     "output_type": "execute_result"
    }
   ],
   "source": [
    "import os \n",
    "_,filename = os.path.split('/home/luciano/.ssh/id_rsa.pub')\n",
    "filename"
   ]
  },
  {
   "cell_type": "code",
   "execution_count": 107,
   "id": "d0ad8b16-2785-417e-95ac-851f1ebeabed",
   "metadata": {},
   "outputs": [
    {
     "data": {
      "text/plain": [
       "(0, 1, [2, 3, 4])"
      ]
     },
     "execution_count": 107,
     "metadata": {},
     "output_type": "execute_result"
    }
   ],
   "source": [
    "# 并行赋值时，*前缀只能应用到一个变量上，可以是任何位置上的变量。\n",
    "a,b,*rest = range(5)\n",
    "a,b,rest"
   ]
  },
  {
   "cell_type": "code",
   "execution_count": 108,
   "id": "ae9f21d8-7574-43e0-a565-0e8e7bc005a5",
   "metadata": {},
   "outputs": [
    {
     "data": {
      "text/plain": [
       "(0, [1, 2], 3, 4)"
      ]
     },
     "execution_count": 108,
     "metadata": {},
     "output_type": "execute_result"
    }
   ],
   "source": [
    "a, *body, c, d = range(5)\n",
    "a, body, c, d"
   ]
  },
  {
   "cell_type": "code",
   "execution_count": 109,
   "id": "06672154-0152-4da3-b894-efa7a05ee0ec",
   "metadata": {},
   "outputs": [
    {
     "data": {
      "text/plain": [
       "(1, 2, 3, 4, (5, 6))"
      ]
     },
     "execution_count": 109,
     "metadata": {},
     "output_type": "execute_result"
    }
   ],
   "source": [
    "# 函数中多次使用\n",
    "def fun(a,b,c,d,*rest):\n",
    "    return a,b,c,d,rest\n",
    "\n",
    "fun(*[1,2],3,*range(4,7))"
   ]
  },
  {
   "cell_type": "code",
   "execution_count": 110,
   "id": "defc7f96-149e-4399-9b97-92ceb5e62e58",
   "metadata": {},
   "outputs": [
    {
     "data": {
      "text/plain": [
       "(0, 1, 2, 3, 4)"
      ]
     },
     "execution_count": 110,
     "metadata": {},
     "output_type": "execute_result"
    }
   ],
   "source": [
    "# 定义元组和列表,集合字面量\n",
    "\n",
    "*range(4),4"
   ]
  },
  {
   "cell_type": "code",
   "execution_count": 113,
   "id": "7f5588a9-27e8-49a4-b73b-6c2614bbc8c7",
   "metadata": {},
   "outputs": [
    {
     "data": {
      "text/plain": [
       "[0, 1, 2, 3, 4]"
      ]
     },
     "execution_count": 113,
     "metadata": {},
     "output_type": "execute_result"
    }
   ],
   "source": [
    "[*range(4),4]  # 列表"
   ]
  },
  {
   "cell_type": "code",
   "execution_count": 112,
   "id": "976e2fa6-cf3d-4312-a34c-e2b7cd8c58b8",
   "metadata": {},
   "outputs": [
    {
     "data": {
      "text/plain": [
       "{0, 1, 2, 3, 4, 5, 6, 7}"
      ]
     },
     "execution_count": 112,
     "metadata": {},
     "output_type": "execute_result"
    }
   ],
   "source": [
    "{*range(4), 4, *(5, 6, 7)} # 集合字面量"
   ]
  },
  {
   "cell_type": "markdown",
   "id": "4d241017-b28c-44bd-a50c-50aee65e437a",
   "metadata": {},
   "source": [
    "### 嵌套拆包"
   ]
  },
  {
   "cell_type": "code",
   "execution_count": 120,
   "id": "7581f5cd-32f6-49b2-ac25-a4819daa9003",
   "metadata": {},
   "outputs": [
    {
     "name": "stdout",
     "output_type": "stream",
     "text": [
      "                |  latitude | longitude\n",
      "Mexico City     |   19.4333 |  -99.1333\n",
      "New York-Newark |   40.8086 |  -74.0204\n",
      "São Paulo       |  -23.5478 |  -46.6358\n"
     ]
    }
   ],
   "source": [
    "# 嵌套拆包\n",
    "metro_areas = [\n",
    "    ('Tokyo', 'JP', 36.933, (35.689722, 139.691667)), \n",
    "    ('Delhi NCR', 'IN', 21.935, (28.613889, 77.208889)), \n",
    "    ('Mexico City', 'MX', 20.142, (19.433333, -99.133333)), \n",
    "    ('New York-Newark', 'US', 20.104, (40.808611, -74.020386)),\n",
    "    ('São Paulo', 'BR', 19.649, (-23.547778, -46.635833)), \n",
    "]\n",
    "\n",
    "def main():\n",
    "    print(f'{\"\":15} | {\"latitude\":>9} | {\"longitude\":9}')  #f'{}'中的{}是一个占位符，表示要插入的位置\n",
    "    for name,_,_, (lat,lon) in metro_areas:\n",
    "        if lon<=0:\n",
    "            print(f'{name:15} | {lat:9.4f} | {lon:9.4f}')\n",
    "\n",
    "if __name__ == '__main__':\n",
    "    main()\n",
    "    "
   ]
  },
  {
   "cell_type": "markdown",
   "id": "ad86dd61-b880-4d45-90a5-0cab17fc44cc",
   "metadata": {},
   "source": [
    "### 序列模式匹配\n",
    "\n",
    "模式匹配的用法很简单，和C语言的switch/case语句很像，但是其实更贴近Rust和Scala中的模式匹配。（这里往深了去似乎是函数式编程语言的内容）\r\n",
    "\r\n",
    "match/case语句的语法很简\n",
    "\n",
    "```\n",
    "match 匹配对象（subject）:\n",
    "    case 模式（pattern）:\n",
    "        # 执行的过程\n",
    "    case _: # 通配符，一般作为默认的模式\n",
    "        # 执行的过程\n",
    "```\n",
    "单："
   ]
  },
  {
   "cell_type": "markdown",
   "id": "39fada93-4517-462d-8039-aa6713e6a612",
   "metadata": {},
   "source": [
    "但是和拆包不同的是，match/case的析构不能匹配迭代器。"
   ]
  },
  {
   "cell_type": "code",
   "execution_count": 2,
   "id": "e2261ba9-933b-4dc6-b743-63094bb3ba88",
   "metadata": {},
   "outputs": [
    {
     "name": "stdout",
     "output_type": "stream",
     "text": [
      "                |  latitude | longitude\n",
      "Mexico City     |   19.4333 |  -99.1333\n",
      "New York-Newark |   40.8086 |  -74.0204\n",
      "Sao Paulo       |  -23.5478 |  -46.6358\n"
     ]
    }
   ],
   "source": [
    "metro_areas = [\n",
    "    ('Tokyo', 'JP', 36.933, (35.689722, 139.691667)),\n",
    "    ('Delhi NCR', 'IN', 21.935, (28.613889, 77.208889)),\n",
    "    ('Mexico City', 'MX', 20.142, (19.433333, -99.133333)),\n",
    "    ('New York-Newark', 'US', 20.104, (40.808611, -74.020386)),\n",
    "    ('Sao Paulo', 'BR', 19.649, (-23.547778, -46.635833)),\n",
    "]\n",
    "\n",
    "def main():\n",
    "    print(f'{\"\":15} | {\"latitude\":>9} | {\"longitude\":>9}') #f'{}'中的{}是一个占位符，表示要插入的位置\n",
    "    for record in metro_areas:\n",
    "        match record:  # python>=3.10 \n",
    "            case [name, _, _, (lat, lon)] if lon <= 0:\n",
    "                 print(f'{name:15} | {lat:9.4f} | {lon:9.4f}')\n",
    "\n",
    "if __name__ == '__main__':\n",
    "    main()\n"
   ]
  },
  {
   "cell_type": "code",
   "execution_count": 4,
   "id": "521bd779-63fb-417d-aabb-98b23a4d9188",
   "metadata": {},
   "outputs": [
    {
     "data": {
      "text/plain": [
       "['qcd', 18, 45]"
      ]
     },
     "execution_count": 4,
     "metadata": {},
     "output_type": "execute_result"
    }
   ],
   "source": [
    "# 详细见lis.py \n",
    "from lis import parse  \n",
    "parse('(qcd 18 45)')"
   ]
  },
  {
   "cell_type": "markdown",
   "id": "d6d3f195-cb63-405b-84c6-86512b81482b",
   "metadata": {},
   "source": [
    "### 切片"
   ]
  },
  {
   "cell_type": "code",
   "execution_count": 5,
   "id": "5c4dd210-2d4a-4a8b-ac41-32df9323874c",
   "metadata": {},
   "outputs": [
    {
     "data": {
      "text/plain": [
       "[10, 20]"
      ]
     },
     "execution_count": 5,
     "metadata": {},
     "output_type": "execute_result"
    }
   ],
   "source": [
    "l = [10,20,30,40,50,60]\n",
    "l[:2]"
   ]
  },
  {
   "cell_type": "code",
   "execution_count": 6,
   "id": "e3944a33-1091-4622-ab48-a724eaf42838",
   "metadata": {},
   "outputs": [
    {
     "data": {
      "text/plain": [
       "[30, 40, 50, 60]"
      ]
     },
     "execution_count": 6,
     "metadata": {},
     "output_type": "execute_result"
    }
   ],
   "source": [
    "l[2:]"
   ]
  },
  {
   "cell_type": "code",
   "execution_count": 7,
   "id": "dec76495-cec0-48d4-b2fb-a6044b96926d",
   "metadata": {},
   "outputs": [
    {
     "data": {
      "text/plain": [
       "[40, 50, 60]"
      ]
     },
     "execution_count": 7,
     "metadata": {},
     "output_type": "execute_result"
    }
   ],
   "source": [
    "l[3:]"
   ]
  },
  {
   "cell_type": "code",
   "execution_count": 8,
   "id": "2d2595a5-67e1-4958-9a60-b4ed1153fede",
   "metadata": {},
   "outputs": [
    {
     "data": {
      "text/plain": [
       "'bye'"
      ]
     },
     "execution_count": 8,
     "metadata": {},
     "output_type": "execute_result"
    }
   ],
   "source": [
    "s = 'bicycle'\n",
    "s[::3]"
   ]
  },
  {
   "cell_type": "code",
   "execution_count": 9,
   "id": "4ec95288-3af2-470f-9842-fe423f474023",
   "metadata": {},
   "outputs": [
    {
     "data": {
      "text/plain": [
       "'elcycib'"
      ]
     },
     "execution_count": 9,
     "metadata": {},
     "output_type": "execute_result"
    }
   ],
   "source": [
    "s[::-1]  # 倒叙"
   ]
  },
  {
   "cell_type": "code",
   "execution_count": 10,
   "id": "c4dcb03a-e55d-4923-9a9b-ae2dea702d84",
   "metadata": {},
   "outputs": [
    {
     "data": {
      "text/plain": [
       "'eccb'"
      ]
     },
     "execution_count": 10,
     "metadata": {},
     "output_type": "execute_result"
    }
   ],
   "source": [
    "s[::-2] "
   ]
  },
  {
   "cell_type": "code",
   "execution_count": 11,
   "id": "71563eaa-1896-4d5c-a30d-f2d8c6eb3fec",
   "metadata": {},
   "outputs": [
    {
     "data": {
      "text/plain": [
       "'bicycle'"
      ]
     },
     "execution_count": 11,
     "metadata": {},
     "output_type": "execute_result"
    }
   ],
   "source": [
    "s[::1]"
   ]
  },
  {
   "cell_type": "code",
   "execution_count": 14,
   "id": "571df650-66cf-45b2-b202-fc6056b7b31e",
   "metadata": {},
   "outputs": [
    {
     "data": {
      "text/plain": [
       "'bicycle'"
      ]
     },
     "execution_count": 14,
     "metadata": {},
     "output_type": "execute_result"
    }
   ],
   "source": [
    "s[:]"
   ]
  },
  {
   "cell_type": "code",
   "execution_count": 15,
   "id": "e16ee6d0-3036-4cb7-841e-005e8965c4c6",
   "metadata": {},
   "outputs": [
    {
     "data": {
      "text/plain": [
       "'bcce'"
      ]
     },
     "execution_count": 15,
     "metadata": {},
     "output_type": "execute_result"
    }
   ],
   "source": [
    "s[::2]"
   ]
  },
  {
   "cell_type": "markdown",
   "id": "78c8ab13-33f1-46e0-9a7c-711900a54308",
   "metadata": {},
   "source": [
    "### 切片"
   ]
  },
  {
   "cell_type": "code",
   "execution_count": 23,
   "id": "07dc3945-a529-4e45-b6ce-e17cd4bffb03",
   "metadata": {},
   "outputs": [
    {
     "name": "stdout",
     "output_type": "stream",
     "text": [
      "    $17.50   Pimoroni PiBrella                 \n",
      "     $4.95   6mm Tactile Switch x20            \n",
      "    $28.00   Panavise Jr. - PV-201             \n",
      "    $34.95   PiTFT Mini Kit 320x240            \n",
      " \n"
     ]
    }
   ],
   "source": [
    "# 从纯文本形式的发票中提取商品信息\n",
    "invoice = \"\"\"\n",
    "0.....6.................................40........52...55........\n",
    "1909  Pimoroni PiBrella                     $17.50    3    $52.50\n",
    "1489  6mm Tactile Switch x20                 $4.95    2     $9.90\n",
    "1510  Panavise Jr. - PV-201                 $28.00    1    $28.00\n",
    "1601  PiTFT Mini Kit 320x240                $34.95    1    $34.95\n",
    "\"\"\"\n",
    "SKU = slice(0, 6)\n",
    "DESCRIPTION = slice(6, 40)\n",
    "UNIT_PRICE = slice(40, 52)\n",
    "QUANTITY = slice(52, 55)\n",
    "ITEM_TOTAL = slice(55, None)\n",
    "line_items = invoice.split('\\n')[2:]\n",
    "\n",
    "for item in line_items:\n",
    "    print(item[UNIT_PRICE],item[DESCRIPTION])"
   ]
  },
  {
   "cell_type": "markdown",
   "id": "59d0cdf0-d81a-4e49-b5f9-7220ed449e03",
   "metadata": {},
   "source": [
    "### 多维切片和省略号"
   ]
  },
  {
   "cell_type": "code",
   "execution_count": 25,
   "id": "de0ed522-73c7-4ceb-a579-53cbc91d8fcb",
   "metadata": {},
   "outputs": [
    {
     "data": {
      "text/plain": [
       "[0, 1, 2, 3, 4, 5, 6, 7, 8, 9]"
      ]
     },
     "execution_count": 25,
     "metadata": {},
     "output_type": "execute_result"
    }
   ],
   "source": [
    "l = list(range(10))\n",
    "l"
   ]
  },
  {
   "cell_type": "code",
   "execution_count": 26,
   "id": "1d93aef3-8acb-4908-9dde-3ca0361ea7fe",
   "metadata": {},
   "outputs": [],
   "source": [
    "l[2:5] = [20,30]"
   ]
  },
  {
   "cell_type": "code",
   "execution_count": 27,
   "id": "40f04f38-6ffc-473d-a7d3-6f5a62842931",
   "metadata": {},
   "outputs": [
    {
     "data": {
      "text/plain": [
       "[0, 1, 20, 30, 5, 6, 7, 8, 9]"
      ]
     },
     "execution_count": 27,
     "metadata": {},
     "output_type": "execute_result"
    }
   ],
   "source": [
    "l"
   ]
  },
  {
   "cell_type": "code",
   "execution_count": 28,
   "id": "0371da65-82c5-4c12-a9aa-15822d51a885",
   "metadata": {},
   "outputs": [],
   "source": [
    "del l[5:7]"
   ]
  },
  {
   "cell_type": "code",
   "execution_count": 29,
   "id": "fd964c2f-fef2-487a-8e9b-ca251a058d58",
   "metadata": {},
   "outputs": [
    {
     "data": {
      "text/plain": [
       "[0, 1, 20, 30, 5, 8, 9]"
      ]
     },
     "execution_count": 29,
     "metadata": {},
     "output_type": "execute_result"
    }
   ],
   "source": [
    "l"
   ]
  },
  {
   "cell_type": "code",
   "execution_count": 30,
   "id": "9afabaab-9244-4653-b71c-5cdb57bcab10",
   "metadata": {},
   "outputs": [],
   "source": [
    "l[3::2] = [11, 22]"
   ]
  },
  {
   "cell_type": "code",
   "execution_count": 31,
   "id": "ba732679-9e97-4078-820e-0bcdba9304fe",
   "metadata": {},
   "outputs": [
    {
     "data": {
      "text/plain": [
       "[0, 1, 20, 11, 5, 22, 9]"
      ]
     },
     "execution_count": 31,
     "metadata": {},
     "output_type": "execute_result"
    }
   ],
   "source": [
    "l"
   ]
  },
  {
   "cell_type": "code",
   "execution_count": 32,
   "id": "80801a24-3c92-46a1-a345-d559af567831",
   "metadata": {},
   "outputs": [
    {
     "ename": "TypeError",
     "evalue": "can only assign an iterable",
     "output_type": "error",
     "traceback": [
      "\u001b[1;31m---------------------------------------------------------------------------\u001b[0m",
      "\u001b[1;31mTypeError\u001b[0m                                 Traceback (most recent call last)",
      "Cell \u001b[1;32mIn[32], line 1\u001b[0m\n\u001b[1;32m----> 1\u001b[0m \u001b[43ml\u001b[49m\u001b[43m[\u001b[49m\u001b[38;5;241;43m2\u001b[39;49m\u001b[43m:\u001b[49m\u001b[38;5;241;43m5\u001b[39;49m\u001b[43m]\u001b[49m \u001b[38;5;241m=\u001b[39m \u001b[38;5;241m100\u001b[39m\n",
      "\u001b[1;31mTypeError\u001b[0m: can only assign an iterable"
     ]
    }
   ],
   "source": [
    "l[2:5] = 100"
   ]
  },
  {
   "cell_type": "code",
   "execution_count": 33,
   "id": "f7701e38-1408-46c7-8c15-38bf1140a397",
   "metadata": {},
   "outputs": [
    {
     "data": {
      "text/plain": [
       "[0, 1, 100, 22, 9]"
      ]
     },
     "execution_count": 33,
     "metadata": {},
     "output_type": "execute_result"
    }
   ],
   "source": [
    "l[2:5] = [100]\n",
    "l"
   ]
  },
  {
   "cell_type": "markdown",
   "id": "d6b0a149-d185-4b44-b9e4-6eba2a4b4c07",
   "metadata": {},
   "source": [
    "### 使用 + 和 * 处理序"
   ]
  },
  {
   "cell_type": "code",
   "execution_count": 34,
   "id": "61545b4c-4044-49c3-8a72-263f8b396500",
   "metadata": {},
   "outputs": [
    {
     "data": {
      "text/plain": [
       "[1, 2, 3, 1, 2, 3, 1, 2, 3, 1, 2, 3, 1, 2, 3]"
      ]
     },
     "execution_count": 34,
     "metadata": {},
     "output_type": "execute_result"
    }
   ],
   "source": [
    "l = [1,2,3]\n",
    "l*5"
   ]
  },
  {
   "cell_type": "code",
   "execution_count": 35,
   "id": "c5c0617b-199d-4816-b5f7-afcf17dc7739",
   "metadata": {},
   "outputs": [
    {
     "data": {
      "text/plain": [
       "'abcdabcdabcdabcdabcd'"
      ]
     },
     "execution_count": 35,
     "metadata": {},
     "output_type": "execute_result"
    }
   ],
   "source": [
    "5*'abcd'"
   ]
  },
  {
   "cell_type": "code",
   "execution_count": 39,
   "id": "b844d793-b349-4442-b8e0-d8b03789e563",
   "metadata": {},
   "outputs": [
    {
     "data": {
      "text/plain": [
       "'    1'"
      ]
     },
     "execution_count": 39,
     "metadata": {},
     "output_type": "execute_result"
    }
   ],
   "source": [
    "f'{1:5}'"
   ]
  },
  {
   "cell_type": "code",
   "execution_count": 40,
   "id": "52ea084c-3d37-4242-99b3-57a70d9883f7",
   "metadata": {},
   "outputs": [
    {
     "data": {
      "text/plain": [
       "{1: 5}"
      ]
     },
     "execution_count": 40,
     "metadata": {},
     "output_type": "execute_result"
    }
   ],
   "source": [
    "{1:5}"
   ]
  },
  {
   "cell_type": "code",
   "execution_count": 42,
   "id": "e79268f5-6a18-487d-9778-ce347c76d2bb",
   "metadata": {},
   "outputs": [
    {
     "ename": "TypeError",
     "evalue": "can only concatenate list (not \"int\") to list",
     "output_type": "error",
     "traceback": [
      "\u001b[1;31m---------------------------------------------------------------------------\u001b[0m",
      "\u001b[1;31mTypeError\u001b[0m                                 Traceback (most recent call last)",
      "Cell \u001b[1;32mIn[42], line 2\u001b[0m\n\u001b[0;32m      1\u001b[0m l \u001b[38;5;241m=\u001b[39m [\u001b[38;5;241m1\u001b[39m,\u001b[38;5;241m2\u001b[39m,\u001b[38;5;241m3\u001b[39m]\n\u001b[1;32m----> 2\u001b[0m \u001b[43ml\u001b[49m\u001b[38;5;241;43m+\u001b[39;49m\u001b[38;5;241;43m5\u001b[39;49m\n",
      "\u001b[1;31mTypeError\u001b[0m: can only concatenate list (not \"int\") to list"
     ]
    }
   ],
   "source": [
    "l = [1,2,3]\n",
    "l+5  # 必须同一个序列"
   ]
  },
  {
   "cell_type": "code",
   "execution_count": 44,
   "id": "3d1f5d42-5745-4af8-9979-26bc602f9de3",
   "metadata": {},
   "outputs": [
    {
     "data": {
      "text/plain": [
       "[1, 2, 3, 5, 6, 7]"
      ]
     },
     "execution_count": 44,
     "metadata": {},
     "output_type": "execute_result"
    }
   ],
   "source": [
    "d = [5,6,7]\n",
    "\n",
    "l+d  # 拼接"
   ]
  },
  {
   "cell_type": "markdown",
   "id": "36ebc739-8932-4fd6-bad7-9c3ddb7c2712",
   "metadata": {},
   "source": [
    "### 构建嵌套列表\n",
    "\n",
    "\n",
    "#### 情况一："
   ]
  },
  {
   "cell_type": "code",
   "execution_count": 53,
   "id": "6ca9d432-d392-450b-a4e5-b7ce4108256c",
   "metadata": {},
   "outputs": [
    {
     "data": {
      "text/plain": [
       "2201771075328"
      ]
     },
     "execution_count": 53,
     "metadata": {},
     "output_type": "execute_result"
    }
   ],
   "source": [
    "board = [['_'] * 3 for i in range(3)]\n",
    "board\n",
    "\n",
    "id(board)"
   ]
  },
  {
   "cell_type": "code",
   "execution_count": 49,
   "id": "b801c46a-4f54-412d-bb5a-e0ad2ce3fb1e",
   "metadata": {},
   "outputs": [
    {
     "data": {
      "text/plain": [
       "[['_', '_', '_'], ['_', '_', '*'], ['_', '_', '_']]"
      ]
     },
     "execution_count": 49,
     "metadata": {},
     "output_type": "execute_result"
    }
   ],
   "source": [
    "board[1][2] = '*'\n",
    "board"
   ]
  },
  {
   "cell_type": "code",
   "execution_count": 50,
   "id": "dc8d7b5b-3433-4217-a92a-f1d61cda4ee6",
   "metadata": {},
   "outputs": [
    {
     "data": {
      "text/plain": [
       "[['_', '_', '_'], ['_', '_', '_'], ['_', '_', '_']]"
      ]
     },
     "execution_count": 50,
     "metadata": {},
     "output_type": "execute_result"
    }
   ],
   "source": [
    "# 等价于\n",
    "board = []\n",
    "for i in range(3):\n",
    "    row = ['_']*3\n",
    "    board.append(row)\n",
    "\n",
    "board"
   ]
  },
  {
   "cell_type": "markdown",
   "id": "148d77fc-9cbe-49c7-86c9-63d8a4f06600",
   "metadata": {},
   "source": [
    "#### 情况二："
   ]
  },
  {
   "cell_type": "code",
   "execution_count": 59,
   "id": "134eefee-bcf7-454c-8cca-1ec2b464df1d",
   "metadata": {},
   "outputs": [
    {
     "data": {
      "text/plain": [
       "[['_', '_', '_'], ['_', '_', '_'], ['_', '_', '_']]"
      ]
     },
     "execution_count": 59,
     "metadata": {},
     "output_type": "execute_result"
    }
   ],
   "source": [
    "weird_board = [['_'] * 3] * 3\n",
    "\n",
    "weird_board\n"
   ]
  },
  {
   "cell_type": "code",
   "execution_count": 60,
   "id": "82654744-cdbe-43ee-ae5c-a1a4b6cf2b50",
   "metadata": {},
   "outputs": [
    {
     "data": {
      "text/plain": [
       "2201749342464"
      ]
     },
     "execution_count": 60,
     "metadata": {},
     "output_type": "execute_result"
    }
   ],
   "source": [
    "id(weird_board)"
   ]
  },
  {
   "cell_type": "code",
   "execution_count": 61,
   "id": "aad713a0-c51a-489d-a4a6-89e65885e6e0",
   "metadata": {},
   "outputs": [
    {
     "data": {
      "text/plain": [
       "[['_', '_', '0'], ['_', '_', '0'], ['_', '_', '0']]"
      ]
     },
     "execution_count": 61,
     "metadata": {},
     "output_type": "execute_result"
    }
   ],
   "source": [
    "weird_board[1][2] = '0'\n",
    "weird_board"
   ]
  },
  {
   "cell_type": "code",
   "execution_count": 62,
   "id": "2d0ed7b6-a3b8-4a13-85e5-e74d049da187",
   "metadata": {},
   "outputs": [],
   "source": [
    "# 等价于\n",
    "\n",
    "row = ['_'] * 3 \n",
    "board = [] \n",
    "for i in range(3): \n",
    "    board.append(row)"
   ]
  },
  {
   "cell_type": "code",
   "execution_count": 63,
   "id": "bc3473da-8351-4eff-87bd-2937476745d3",
   "metadata": {},
   "outputs": [
    {
     "data": {
      "text/plain": [
       "[['_', '_', '_'], ['_', '_', '_'], ['_', '_', '_']]"
      ]
     },
     "execution_count": 63,
     "metadata": {},
     "output_type": "execute_result"
    }
   ],
   "source": [
    "board"
   ]
  },
  {
   "cell_type": "code",
   "execution_count": 64,
   "id": "1131ec14-cac3-4eb3-a39b-9ae2c0588672",
   "metadata": {},
   "outputs": [
    {
     "data": {
      "text/plain": [
       "[['_', '_', '*'], ['_', '_', '*'], ['_', '_', '*']]"
      ]
     },
     "execution_count": 64,
     "metadata": {},
     "output_type": "execute_result"
    }
   ],
   "source": [
    "board[1][2] = '*'\n",
    "board"
   ]
  },
  {
   "cell_type": "markdown",
   "id": "9d726b74-0324-47fa-b079-e8fbcf5de776",
   "metadata": {},
   "source": [
    "> 如果你不理解本节所讲的问题或解决方案，没关系。第 6 章 就是为了阐明引用和可变对象的机制和陷阱而编写的。"
   ]
  },
  {
   "cell_type": "code",
   "execution_count": 77,
   "id": "554bc318-8fde-4f47-ba25-0b7eb3eea86f",
   "metadata": {},
   "outputs": [
    {
     "data": {
      "text/plain": [
       "2201855612416"
      ]
     },
     "execution_count": 77,
     "metadata": {},
     "output_type": "execute_result"
    }
   ],
   "source": [
    "l = [1,2,3]\n",
    "id(l)"
   ]
  },
  {
   "cell_type": "code",
   "execution_count": 79,
   "id": "31d011a6-3244-4e2c-9f47-96541423398f",
   "metadata": {},
   "outputs": [],
   "source": [
    "l *=2"
   ]
  },
  {
   "cell_type": "code",
   "execution_count": 80,
   "id": "753add81-a012-47ac-9585-9368cfa7874e",
   "metadata": {},
   "outputs": [
    {
     "data": {
      "text/plain": [
       "[1, 2, 3, 1, 2, 3]"
      ]
     },
     "execution_count": 80,
     "metadata": {},
     "output_type": "execute_result"
    }
   ],
   "source": [
    "l"
   ]
  },
  {
   "cell_type": "code",
   "execution_count": 81,
   "id": "fd387f2c-0308-4a9f-a98b-8bebbb2053d0",
   "metadata": {},
   "outputs": [
    {
     "data": {
      "text/plain": [
       "2201855612416"
      ]
     },
     "execution_count": 81,
     "metadata": {},
     "output_type": "execute_result"
    }
   ],
   "source": [
    "id(l)"
   ]
  },
  {
   "cell_type": "code",
   "execution_count": 82,
   "id": "91bfda3e-8780-481f-a4f6-57c1788144b9",
   "metadata": {},
   "outputs": [
    {
     "data": {
      "text/plain": [
       "2201855657152"
      ]
     },
     "execution_count": 82,
     "metadata": {},
     "output_type": "execute_result"
    }
   ],
   "source": [
    "t = (1,2,3)\n",
    "id(t)"
   ]
  },
  {
   "cell_type": "code",
   "execution_count": 84,
   "id": "f91edd29-7af3-48c5-806c-6905b57cd25e",
   "metadata": {},
   "outputs": [],
   "source": [
    "t *=2"
   ]
  },
  {
   "cell_type": "code",
   "execution_count": 85,
   "id": "8d86f9a3-b90f-4e4c-acde-c69569795999",
   "metadata": {},
   "outputs": [
    {
     "data": {
      "text/plain": [
       "2201772336768"
      ]
     },
     "execution_count": 85,
     "metadata": {},
     "output_type": "execute_result"
    }
   ],
   "source": [
    "id(t)"
   ]
  },
  {
   "cell_type": "code",
   "execution_count": 87,
   "id": "d5e3710d-ded5-410c-a11a-3c8d26224f6f",
   "metadata": {},
   "outputs": [
    {
     "ename": "TypeError",
     "evalue": "'tuple' object does not support item assignment",
     "output_type": "error",
     "traceback": [
      "\u001b[1;31m---------------------------------------------------------------------------\u001b[0m",
      "\u001b[1;31mTypeError\u001b[0m                                 Traceback (most recent call last)",
      "Cell \u001b[1;32mIn[87], line 5\u001b[0m\n\u001b[0;32m      1\u001b[0m \u001b[38;5;66;03m# + 运算符\u001b[39;00m\n\u001b[0;32m      3\u001b[0m t \u001b[38;5;241m=\u001b[39m (\u001b[38;5;241m1\u001b[39m,\u001b[38;5;241m2\u001b[39m,[\u001b[38;5;241m30\u001b[39m,\u001b[38;5;241m40\u001b[39m])\n\u001b[1;32m----> 5\u001b[0m \u001b[43mt\u001b[49m\u001b[43m[\u001b[49m\u001b[38;5;241;43m2\u001b[39;49m\u001b[43m]\u001b[49m \u001b[38;5;241m+\u001b[39m\u001b[38;5;241m=\u001b[39m[\u001b[38;5;241m50\u001b[39m,\u001b[38;5;241m60\u001b[39m]\n",
      "\u001b[1;31mTypeError\u001b[0m: 'tuple' object does not support item assignment"
     ]
    }
   ],
   "source": [
    "# + 运算符\n",
    "\n",
    "t = (1,2,[30,40])\n",
    "\n",
    "t[2] +=[50,60]"
   ]
  },
  {
   "cell_type": "code",
   "execution_count": 89,
   "id": "ca7b2f89-9c74-4a0b-afcf-a6405989d899",
   "metadata": {},
   "outputs": [
    {
     "data": {
      "text/plain": [
       "(1, 2, [30, 40, 50, 60])"
      ]
     },
     "execution_count": 89,
     "metadata": {},
     "output_type": "execute_result"
    }
   ],
   "source": [
    "t   # 上面报错，但是执行成功"
   ]
  },
  {
   "cell_type": "code",
   "execution_count": 90,
   "id": "a1d4add3-fb47-474e-a038-f17b740d9b2d",
   "metadata": {},
   "outputs": [
    {
     "data": {
      "text/plain": [
       "['apple', 'banana', 'grape', 'raspberry']"
      ]
     },
     "execution_count": 90,
     "metadata": {},
     "output_type": "execute_result"
    }
   ],
   "source": [
    "fruits = ['grape', 'raspberry', 'apple', 'banana']\n",
    "sorted(fruits)"
   ]
  },
  {
   "cell_type": "code",
   "execution_count": 91,
   "id": "28bab812-e7d0-4eee-bfee-d5677fd6b9af",
   "metadata": {},
   "outputs": [
    {
     "data": {
      "text/plain": [
       "['grape', 'raspberry', 'apple', 'banana']"
      ]
     },
     "execution_count": 91,
     "metadata": {},
     "output_type": "execute_result"
    }
   ],
   "source": [
    "fruits"
   ]
  },
  {
   "cell_type": "code",
   "execution_count": 92,
   "id": "5f192e9a-9c05-446b-a813-f28fa5090e3c",
   "metadata": {},
   "outputs": [
    {
     "data": {
      "text/plain": [
       "['raspberry', 'grape', 'banana', 'apple']"
      ]
     },
     "execution_count": 92,
     "metadata": {},
     "output_type": "execute_result"
    }
   ],
   "source": [
    "sorted(fruits, reverse=True) # 返回降序"
   ]
  },
  {
   "cell_type": "code",
   "execution_count": 93,
   "id": "1ce9abd4-306d-4cac-8827-cb3479d6179a",
   "metadata": {},
   "outputs": [
    {
     "data": {
      "text/plain": [
       "['grape', 'raspberry', 'apple', 'banana']"
      ]
     },
     "execution_count": 93,
     "metadata": {},
     "output_type": "execute_result"
    }
   ],
   "source": [
    "fruits"
   ]
  },
  {
   "cell_type": "code",
   "execution_count": 95,
   "id": "8082ff4a-0fba-4b26-8634-e24e05b0b97d",
   "metadata": {},
   "outputs": [
    {
     "data": {
      "text/plain": [
       "['grape', 'apple', 'banana', 'raspberry']"
      ]
     },
     "execution_count": 95,
     "metadata": {},
     "output_type": "execute_result"
    }
   ],
   "source": [
    "sorted(fruits, key=len) # 根据长度排序"
   ]
  },
  {
   "cell_type": "code",
   "execution_count": 97,
   "id": "783da556-70bb-4487-b72d-1c78ac11fb79",
   "metadata": {},
   "outputs": [
    {
     "data": {
      "text/plain": [
       "['apple', 'banana', 'grape', 'raspberry']"
      ]
     },
     "execution_count": 97,
     "metadata": {},
     "output_type": "execute_result"
    }
   ],
   "source": [
    "sorted(fruits, key=str.lower)  #不区分大小写"
   ]
  },
  {
   "cell_type": "code",
   "execution_count": 102,
   "id": "c2c5e17d-0f13-4ecd-9e96-fa4f191e6be9",
   "metadata": {},
   "outputs": [
    {
     "data": {
      "text/plain": [
       "['raspberry', 'banana', 'grape', 'apple']"
      ]
     },
     "execution_count": 102,
     "metadata": {},
     "output_type": "execute_result"
    }
   ],
   "source": [
    "sorted(fruits, key=len,reverse=True)"
   ]
  },
  {
   "cell_type": "code",
   "execution_count": 103,
   "id": "92f2856d-f0d6-4fd9-9e6b-762b3e491b7e",
   "metadata": {},
   "outputs": [
    {
     "data": {
      "text/plain": [
       "['grape', 'raspberry', 'apple', 'banana']"
      ]
     },
     "execution_count": 103,
     "metadata": {},
     "output_type": "execute_result"
    }
   ],
   "source": [
    "fruits"
   ]
  },
  {
   "cell_type": "code",
   "execution_count": 104,
   "id": "7ea13813-7268-4c73-8e37-4082481052da",
   "metadata": {},
   "outputs": [],
   "source": [
    "fruits.sort()"
   ]
  },
  {
   "cell_type": "code",
   "execution_count": 105,
   "id": "ffcef857-4f3a-4ec2-83e1-d6cac59f7551",
   "metadata": {},
   "outputs": [
    {
     "data": {
      "text/plain": [
       "['apple', 'banana', 'grape', 'raspberry']"
      ]
     },
     "execution_count": 105,
     "metadata": {},
     "output_type": "execute_result"
    }
   ],
   "source": [
    "fruits"
   ]
  },
  {
   "cell_type": "markdown",
   "id": "bd48ab9f-0b02-4004-a51a-767931b60bfb",
   "metadata": {},
   "source": [
    "## 当列表不适用时\n",
    "\n",
    "### 数组\n",
    "\n",
    "如果一个列表只包含数值，使用array.array会更高效。\n",
    "\n",
    "更多操作：https://zhuanlan.zhihu.com/p/341673561"
   ]
  },
  {
   "cell_type": "code",
   "execution_count": 120,
   "id": "a5e16154-5f89-40fb-9ad6-d851511491b3",
   "metadata": {},
   "outputs": [
    {
     "name": "stdout",
     "output_type": "stream",
     "text": [
      "array('u', 'ABCab')\n",
      "A\n",
      "u\n",
      "['A', 'B', 'C', 'a', 'b']\n",
      "ABCab\n"
     ]
    }
   ],
   "source": [
    "from array import array\n",
    "test = array('u', 'ABCab')\n",
    "print(test)\n",
    "print(test[0])\n",
    "print(test.typecode)\n",
    "print(test.tolist())\n",
    "print(test.tounicode())"
   ]
  },
  {
   "cell_type": "code",
   "execution_count": 69,
   "id": "aa37c226-6ce1-45b2-b239-04c971a1dd59",
   "metadata": {},
   "outputs": [
    {
     "data": {
      "text/plain": [
       "0.2835877406973514"
      ]
     },
     "execution_count": 69,
     "metadata": {},
     "output_type": "execute_result"
    }
   ],
   "source": [
    "from array import array\n",
    "from random import random\n",
    "\n",
    "# 创建一个双精度浮点数数组\n",
    "floats = array('d',(random() for i in  range(10**7)))\n",
    "floats[0]               "
   ]
  },
  {
   "cell_type": "code",
   "execution_count": 70,
   "id": "20e49129-3ae2-422e-9126-0fdb19e17d05",
   "metadata": {},
   "outputs": [
    {
     "data": {
      "text/plain": [
       "10000000"
      ]
     },
     "execution_count": 70,
     "metadata": {},
     "output_type": "execute_result"
    }
   ],
   "source": [
    "len(floats)"
   ]
  },
  {
   "cell_type": "code",
   "execution_count": 72,
   "id": "e1bce51b-9433-47ab-9bfd-a05e22dda4aa",
   "metadata": {},
   "outputs": [],
   "source": [
    "# 把数组存入一个二进制文件中\n",
    "fp = open('./floats.bin', 'wb')\n",
    "floats.tofile(fp)\n",
    "fp.close()"
   ]
  },
  {
   "cell_type": "code",
   "execution_count": 73,
   "id": "e8647ccc-4449-4b73-b5ab-da71c5beea10",
   "metadata": {},
   "outputs": [
    {
     "data": {
      "text/plain": [
       "True"
      ]
     },
     "execution_count": 73,
     "metadata": {},
     "output_type": "execute_result"
    }
   ],
   "source": [
    "import os\n",
    "os.path.exists('./floats.bin')"
   ]
  },
  {
   "cell_type": "code",
   "execution_count": 74,
   "id": "4531c9ac-c7fc-4038-b8f8-af26cf4d2ac9",
   "metadata": {},
   "outputs": [
    {
     "data": {
      "text/plain": [
       "0.2835877406973514"
      ]
     },
     "execution_count": 74,
     "metadata": {},
     "output_type": "execute_result"
    }
   ],
   "source": [
    "# 从二进制文件中读取1000万个数\n",
    "floats2 = array('d')\n",
    "fp = open('./floats.bin', 'rb')\n",
    "floats2.fromfile(fp, 10**7)\n",
    "fp.close()\n",
    "\n",
    "floats2[0]"
   ]
  },
  {
   "cell_type": "code",
   "execution_count": 75,
   "id": "63e07591-f02e-4553-a2bd-b648421e8fea",
   "metadata": {},
   "outputs": [
    {
     "data": {
      "text/plain": [
       "True"
      ]
     },
     "execution_count": 75,
     "metadata": {},
     "output_type": "execute_result"
    }
   ],
   "source": [
    "floats2 == floats"
   ]
  },
  {
   "cell_type": "markdown",
   "id": "30321b81-dcd6-4992-b237-93b9f9fbfdd2",
   "metadata": {},
   "source": [
    "数组排序方法：  a = array.array(a.typecode, sorted(a))"
   ]
  },
  {
   "cell_type": "markdown",
   "id": "0608ff1c-3607-48cf-be56-8621c2baf8d6",
   "metadata": {},
   "source": [
    "### memoryview\n",
    "\n",
    "内置的 memoryview 类是一种共享内存的序列类型，可在不复制字节 的情况下处理数组的切片。"
   ]
  },
  {
   "cell_type": "code",
   "execution_count": 106,
   "id": "821122f0-d761-48be-a544-5a44cf1cfcb2",
   "metadata": {},
   "outputs": [],
   "source": [
    "from array import array\n",
    "\n",
    "octets = array('B',range(6))\n"
   ]
  },
  {
   "cell_type": "code",
   "execution_count": 107,
   "id": "7e754997-211b-4f0e-a4b5-d76eaf20bae2",
   "metadata": {},
   "outputs": [
    {
     "data": {
      "text/plain": [
       "array('B', [0, 1, 2, 3, 4, 5])"
      ]
     },
     "execution_count": 107,
     "metadata": {},
     "output_type": "execute_result"
    }
   ],
   "source": [
    "octets"
   ]
  },
  {
   "cell_type": "code",
   "execution_count": 121,
   "id": "9239fe60-1e99-44ef-8c75-935cf8230b12",
   "metadata": {},
   "outputs": [],
   "source": [
    "m1 = memoryview(octets) "
   ]
  },
  {
   "cell_type": "code",
   "execution_count": 122,
   "id": "f0d299cb-dd2e-4db5-930b-5877157765f9",
   "metadata": {},
   "outputs": [
    {
     "data": {
      "text/plain": [
       "[0, 1, 2, 3, 4, 5]"
      ]
     },
     "execution_count": 122,
     "metadata": {},
     "output_type": "execute_result"
    }
   ],
   "source": [
    "m1.tolist()"
   ]
  },
  {
   "cell_type": "code",
   "execution_count": 123,
   "id": "9a36bb4b-1db9-4633-aa75-218bdd547ff7",
   "metadata": {},
   "outputs": [],
   "source": [
    "m2 = m1.cast('B', [2, 3])"
   ]
  },
  {
   "cell_type": "code",
   "execution_count": 124,
   "id": "ba97c572-f9ba-4bb7-8b9c-44c0d93d6e3c",
   "metadata": {},
   "outputs": [
    {
     "data": {
      "text/plain": [
       "[[0, 1, 2], [3, 4, 5]]"
      ]
     },
     "execution_count": 124,
     "metadata": {},
     "output_type": "execute_result"
    }
   ],
   "source": [
    "m2.tolist()"
   ]
  },
  {
   "cell_type": "code",
   "execution_count": 125,
   "id": "5fba00d2-37c5-4f85-a964-375d964eea03",
   "metadata": {},
   "outputs": [],
   "source": [
    "m3 = m1.cast('B', [3, 2])"
   ]
  },
  {
   "cell_type": "code",
   "execution_count": 126,
   "id": "4b66db4c-0580-45d7-8cbd-407f5039143c",
   "metadata": {},
   "outputs": [
    {
     "data": {
      "text/plain": [
       "[[0, 1], [2, 3], [4, 5]]"
      ]
     },
     "execution_count": 126,
     "metadata": {},
     "output_type": "execute_result"
    }
   ],
   "source": [
    "m3.tolist()"
   ]
  },
  {
   "cell_type": "code",
   "execution_count": 127,
   "id": "f9a75b08-f157-4990-953c-d64aca7744dd",
   "metadata": {},
   "outputs": [],
   "source": [
    "m2[1,1] = 22"
   ]
  },
  {
   "cell_type": "code",
   "execution_count": 128,
   "id": "d735071d-3efc-453f-8e81-2b354cd595fe",
   "metadata": {},
   "outputs": [],
   "source": [
    "m3[1,1] = 33"
   ]
  },
  {
   "cell_type": "code",
   "execution_count": 129,
   "id": "f5fc3d10-35e3-4fc6-a27e-b73fc8129f67",
   "metadata": {},
   "outputs": [
    {
     "data": {
      "text/plain": [
       "array('B', [0, 1, 2, 33, 22, 5])"
      ]
     },
     "execution_count": 129,
     "metadata": {},
     "output_type": "execute_result"
    }
   ],
   "source": [
    "octets"
   ]
  },
  {
   "cell_type": "code",
   "execution_count": 155,
   "id": "0d6a3ca2-57c4-4a1a-aca1-c903f6c276af",
   "metadata": {},
   "outputs": [
    {
     "data": {
      "text/plain": [
       "5"
      ]
     },
     "execution_count": 155,
     "metadata": {},
     "output_type": "execute_result"
    }
   ],
   "source": [
    "from array import array\n",
    "numbers = array('h', [-2, -1, 0, 1, 2])\n",
    "memv = memoryview(numbers)\n",
    "len(memv)"
   ]
  },
  {
   "cell_type": "code",
   "execution_count": 156,
   "id": "d40e9f8a-98e3-4aa8-911a-e49c23867914",
   "metadata": {},
   "outputs": [
    {
     "data": {
      "text/plain": [
       "'d'"
      ]
     },
     "execution_count": 156,
     "metadata": {},
     "output_type": "execute_result"
    }
   ],
   "source": [
    "numbers1 = array('u', 'd')\n",
    "numbers1[0]"
   ]
  },
  {
   "cell_type": "code",
   "execution_count": 157,
   "id": "ba3521dd-4395-4d13-aa54-95cbb4d3202c",
   "metadata": {},
   "outputs": [],
   "source": [
    "memv_oct = memv.cast('B') # 元素转换成字节（类型代码为 'B'"
   ]
  },
  {
   "cell_type": "code",
   "execution_count": 158,
   "id": "e176e5e8-df10-4b67-9163-bee2c1e1e0a6",
   "metadata": {},
   "outputs": [
    {
     "data": {
      "text/plain": [
       "[254, 255, 255, 255, 0, 0, 1, 0, 2, 0]"
      ]
     },
     "execution_count": 158,
     "metadata": {},
     "output_type": "execute_result"
    }
   ],
   "source": [
    "memv_oct.tolist() "
   ]
  },
  {
   "cell_type": "code",
   "execution_count": 159,
   "id": "40656273-fe2f-48b2-97e2-4a0a37e25c36",
   "metadata": {},
   "outputs": [
    {
     "data": {
      "text/plain": [
       "array('h', [-2, -1, 0, 1, 2])"
      ]
     },
     "execution_count": 159,
     "metadata": {},
     "output_type": "execute_result"
    }
   ],
   "source": [
    "numbers"
   ]
  },
  {
   "cell_type": "code",
   "execution_count": 160,
   "id": "3b59d564-79db-40f1-97dd-70218290ff34",
   "metadata": {},
   "outputs": [
    {
     "data": {
      "text/plain": [
       "array('h', [-2, -1, 1024, 1, 2])"
      ]
     },
     "execution_count": 160,
     "metadata": {},
     "output_type": "execute_result"
    }
   ],
   "source": [
    "memv_oct[5] = 4 \n",
    "numbers"
   ]
  },
  {
   "cell_type": "markdown",
   "id": "895ab361-d7ea-4eae-b05f-df05d2d51bec",
   "metadata": {},
   "source": [
    "### numpy"
   ]
  },
  {
   "cell_type": "code",
   "execution_count": 162,
   "id": "e742e668-a416-469f-8978-6ec2b54e9f5f",
   "metadata": {},
   "outputs": [],
   "source": [
    "import numpy as np\n",
    "a = np.arange(12)"
   ]
  },
  {
   "cell_type": "code",
   "execution_count": 163,
   "id": "b4d433c7-9c4b-45de-a7d1-c1701822df57",
   "metadata": {},
   "outputs": [
    {
     "data": {
      "text/plain": [
       "array([ 0,  1,  2,  3,  4,  5,  6,  7,  8,  9, 10, 11])"
      ]
     },
     "execution_count": 163,
     "metadata": {},
     "output_type": "execute_result"
    }
   ],
   "source": [
    "a"
   ]
  },
  {
   "cell_type": "code",
   "execution_count": 164,
   "id": "d6abece6-f0e9-4cf4-8bd5-95d193f69040",
   "metadata": {},
   "outputs": [
    {
     "data": {
      "text/plain": [
       "numpy.ndarray"
      ]
     },
     "execution_count": 164,
     "metadata": {},
     "output_type": "execute_result"
    }
   ],
   "source": [
    "type(a)"
   ]
  },
  {
   "cell_type": "code",
   "execution_count": 165,
   "id": "ec386ac2-3be1-4520-ba38-025a8e5e10d9",
   "metadata": {},
   "outputs": [
    {
     "data": {
      "text/plain": [
       "(12,)"
      ]
     },
     "execution_count": 165,
     "metadata": {},
     "output_type": "execute_result"
    }
   ],
   "source": [
    "a.shape"
   ]
  },
  {
   "cell_type": "code",
   "execution_count": 168,
   "id": "fadf99b0-4c89-4e43-a854-0ef70e73e42a",
   "metadata": {},
   "outputs": [
    {
     "data": {
      "text/plain": [
       "array([[ 0,  1,  2,  3],\n",
       "       [ 4,  5,  6,  7],\n",
       "       [ 8,  9, 10, 11]])"
      ]
     },
     "execution_count": 168,
     "metadata": {},
     "output_type": "execute_result"
    }
   ],
   "source": [
    "a.shape = 3,4\n",
    "a"
   ]
  },
  {
   "cell_type": "code",
   "execution_count": 173,
   "id": "f84a2a5b-f535-47c7-90d3-c8e911883dfd",
   "metadata": {},
   "outputs": [
    {
     "data": {
      "text/plain": [
       "array([ 8,  9, 10, 11])"
      ]
     },
     "execution_count": 173,
     "metadata": {},
     "output_type": "execute_result"
    }
   ],
   "source": [
    "a[2]"
   ]
  },
  {
   "cell_type": "code",
   "execution_count": 174,
   "id": "28ad5f4f-524b-419c-b8c9-1bfb1ca9838f",
   "metadata": {},
   "outputs": [
    {
     "data": {
      "text/plain": [
       "array([[ 8,  9, 10, 11]])"
      ]
     },
     "execution_count": 174,
     "metadata": {},
     "output_type": "execute_result"
    }
   ],
   "source": [
    "a[2:]"
   ]
  },
  {
   "cell_type": "code",
   "execution_count": 175,
   "id": "7cbba72e-8c3b-4a01-9caf-bd54d43b7134",
   "metadata": {},
   "outputs": [
    {
     "data": {
      "text/plain": [
       "9"
      ]
     },
     "execution_count": 175,
     "metadata": {},
     "output_type": "execute_result"
    }
   ],
   "source": [
    "a[2,1]"
   ]
  },
  {
   "cell_type": "code",
   "execution_count": 176,
   "id": "61b8353a-48b4-4ac6-b7bc-37de36159723",
   "metadata": {},
   "outputs": [
    {
     "data": {
      "text/plain": [
       "array([1, 5, 9])"
      ]
     },
     "execution_count": 176,
     "metadata": {},
     "output_type": "execute_result"
    }
   ],
   "source": [
    "a[:,1]"
   ]
  },
  {
   "cell_type": "code",
   "execution_count": null,
   "id": "7bfa1342-df1f-4ae4-8b51-328eedf5e708",
   "metadata": {},
   "outputs": [],
   "source": []
  },
  {
   "cell_type": "code",
   "execution_count": 190,
   "id": "6fe77e13-8605-4f28-a662-5c3408199d12",
   "metadata": {},
   "outputs": [],
   "source": [
    "import numpy \n",
    "a = np.arange(100)\n",
    "a.shape=25,4\n",
    "np.savetxt(\"./floats-10M-lines.txt\", a,fmt ='%d')\n",
    "a"
   ]
  },
  {
   "cell_type": "code",
   "execution_count": 192,
   "id": "942a8122-cb6c-4d16-b378-3c338e04a9c9",
   "metadata": {},
   "outputs": [
    {
     "data": {
      "text/plain": [
       "array([[88., 89., 90., 91.],\n",
       "       [92., 93., 94., 95.],\n",
       "       [96., 97., 98., 99.]])"
      ]
     },
     "execution_count": 192,
     "metadata": {},
     "output_type": "execute_result"
    }
   ],
   "source": [
    "import numpy \n",
    "floats = numpy.loadtxt('floats-10M-lines.txt')\n",
    "floats[-3:]"
   ]
  },
  {
   "cell_type": "code",
   "execution_count": 193,
   "id": "03bff043-e76b-4af2-9ebf-9dda03fbb7fa",
   "metadata": {},
   "outputs": [],
   "source": [
    "floats *= .5"
   ]
  },
  {
   "cell_type": "code",
   "execution_count": 194,
   "id": "c229131a-8432-42c2-abce-fa4cc81887a4",
   "metadata": {},
   "outputs": [
    {
     "data": {
      "text/plain": [
       "array([[44. , 44.5, 45. , 45.5],\n",
       "       [46. , 46.5, 47. , 47.5],\n",
       "       [48. , 48.5, 49. , 49.5]])"
      ]
     },
     "execution_count": 194,
     "metadata": {},
     "output_type": "execute_result"
    }
   ],
   "source": [
    "floats[-3:]"
   ]
  },
  {
   "cell_type": "code",
   "execution_count": 195,
   "id": "556e0002-fff9-49f7-b7b3-06ae0c9c6c93",
   "metadata": {},
   "outputs": [
    {
     "data": {
      "text/plain": [
       "7.609999738633633e-05"
      ]
     },
     "execution_count": 195,
     "metadata": {},
     "output_type": "execute_result"
    }
   ],
   "source": [
    "from time import perf_counter as pc\n",
    "t0 = pc(); floats /= 3; pc() - t0"
   ]
  },
  {
   "cell_type": "code",
   "execution_count": 197,
   "id": "55b6c378-dbaf-4b4a-831e-d5d92542fc52",
   "metadata": {},
   "outputs": [],
   "source": [
    "numpy.save('floats-10M', floats)"
   ]
  },
  {
   "cell_type": "code",
   "execution_count": null,
   "id": "7745e979-1a8e-4fdf-b624-6e67bb8776ee",
   "metadata": {},
   "outputs": [],
   "source": [
    "floats2 = numpy.load('floats-10M.npy', 'r+')"
   ]
  },
  {
   "cell_type": "code",
   "execution_count": 198,
   "id": "a88dca34-79f5-473e-a3d6-5e7da24c6054",
   "metadata": {},
   "outputs": [
    {
     "data": {
      "text/plain": [
       "array('d', [0.3827787366669586, 0.46794518186231304, 0.5657860185104016])"
      ]
     },
     "execution_count": 198,
     "metadata": {},
     "output_type": "execute_result"
    }
   ],
   "source": [
    "floats2 *= 6\n",
    "floats2[-3:]"
   ]
  },
  {
   "cell_type": "markdown",
   "id": "e2db56d5-4018-47d7-b1d1-3a0013d84e2e",
   "metadata": {},
   "source": [
    "### 双端队列和其他队列\n",
    "\n",
    "\n",
    "- deque类实现一种线程安全的双端队列，旨在快速在两端插入和删除项。\r",
    "- \n",
    "queue提供几个同步（即线程安全）队列类，在队列填满后，阻塞插入新项，等待其他线程从队列中取出一项\n",
    "- \r\n",
    "multiprocessiong单独实现了无界SimpleQueue和有界的Queu\n",
    "- 。\r\n",
    "asyncio提供了Queue、LifoQueue、PriorityQueue和JoinableQueue，为管理异步编程任务而做了  修改。"
   ]
  },
  {
   "cell_type": "code",
   "execution_count": 199,
   "id": "484b50f8-22f2-4dcd-98a0-8d83bf5879bc",
   "metadata": {},
   "outputs": [
    {
     "data": {
      "text/plain": [
       "deque([0, 1, 2, 3, 4, 5, 6, 7, 8, 9], maxlen=10)"
      ]
     },
     "execution_count": 199,
     "metadata": {},
     "output_type": "execute_result"
    }
   ],
   "source": [
    "from collections import deque # 双端队列\n",
    "dq = deque(range(10),maxlen=10)\n",
    "dq"
   ]
  },
  {
   "cell_type": "code",
   "execution_count": 200,
   "id": "00c5d41c-591f-4e30-a1bf-41bbbf188a58",
   "metadata": {},
   "outputs": [],
   "source": [
    "dq.rotate(3) # 把 n 项从一端移到另一端"
   ]
  },
  {
   "cell_type": "code",
   "execution_count": 201,
   "id": "aa7609b5-b9af-4c2b-a336-42334fbdaeab",
   "metadata": {},
   "outputs": [
    {
     "data": {
      "text/plain": [
       "deque([7, 8, 9, 0, 1, 2, 3, 4, 5, 6], maxlen=10)"
      ]
     },
     "execution_count": 201,
     "metadata": {},
     "output_type": "execute_result"
    }
   ],
   "source": [
    "dq"
   ]
  },
  {
   "cell_type": "code",
   "execution_count": 202,
   "id": "62ee5f35-40cd-4e33-b297-a2fdb6f49c2c",
   "metadata": {},
   "outputs": [],
   "source": [
    "dq.rotate(-4) #前面4项移到最后 "
   ]
  },
  {
   "cell_type": "code",
   "execution_count": 203,
   "id": "a3319978-3ca7-4aa7-bfb0-172db0c75d6b",
   "metadata": {},
   "outputs": [
    {
     "data": {
      "text/plain": [
       "deque([1, 2, 3, 4, 5, 6, 7, 8, 9, 0], maxlen=10)"
      ]
     },
     "execution_count": 203,
     "metadata": {},
     "output_type": "execute_result"
    }
   ],
   "source": [
    "dq"
   ]
  },
  {
   "cell_type": "code",
   "execution_count": 204,
   "id": "e54950e2-9047-4541-a311-869adf360fea",
   "metadata": {},
   "outputs": [],
   "source": [
    "dq.rotate(-4)"
   ]
  },
  {
   "cell_type": "code",
   "execution_count": 205,
   "id": "36416d50-2744-4063-abda-34fd88a8756a",
   "metadata": {},
   "outputs": [
    {
     "data": {
      "text/plain": [
       "deque([5, 6, 7, 8, 9, 0, 1, 2, 3, 4], maxlen=10)"
      ]
     },
     "execution_count": 205,
     "metadata": {},
     "output_type": "execute_result"
    }
   ],
   "source": [
    "dq"
   ]
  },
  {
   "cell_type": "code",
   "execution_count": 206,
   "id": "71e6373a-b645-429d-8575-be0c3421bd29",
   "metadata": {},
   "outputs": [],
   "source": [
    "dq.appendleft(-1)  # 左追加"
   ]
  },
  {
   "cell_type": "code",
   "execution_count": 207,
   "id": "fd0a2bbc-1a88-4034-bd54-3b2c7b3edc36",
   "metadata": {},
   "outputs": [
    {
     "data": {
      "text/plain": [
       "deque([-1, 5, 6, 7, 8, 9, 0, 1, 2, 3], maxlen=10)"
      ]
     },
     "execution_count": 207,
     "metadata": {},
     "output_type": "execute_result"
    }
   ],
   "source": [
    "dq"
   ]
  },
  {
   "cell_type": "code",
   "execution_count": 208,
   "id": "92b9066b-3c20-4dd0-bce6-0ebd2b9e83e9",
   "metadata": {},
   "outputs": [
    {
     "data": {
      "text/plain": [
       "deque([-1, -1, 5, 6, 7, 8, 9, 0, 1, 2], maxlen=10)"
      ]
     },
     "execution_count": 208,
     "metadata": {},
     "output_type": "execute_result"
    }
   ],
   "source": [
    "dq.appendleft(-1)\n",
    "dq"
   ]
  },
  {
   "cell_type": "code",
   "execution_count": 209,
   "id": "acf4ff8b-4c88-4911-9f0e-f4483cf8624e",
   "metadata": {},
   "outputs": [
    {
     "data": {
      "text/plain": [
       "deque([6, 7, 8, 9, 0, 1, 2, 11, 22, 33], maxlen=10)"
      ]
     },
     "execution_count": 209,
     "metadata": {},
     "output_type": "execute_result"
    }
   ],
   "source": [
    "dq.extend([11, 22, 33])\n",
    "dq"
   ]
  },
  {
   "cell_type": "code",
   "execution_count": 210,
   "id": "8f9e2a09-084f-4825-941e-5d7d70d41743",
   "metadata": {},
   "outputs": [
    {
     "data": {
      "text/plain": [
       "deque([40, 30, 20, 10, 6, 7, 8, 9, 0, 1], maxlen=10)"
      ]
     },
     "execution_count": 210,
     "metadata": {},
     "output_type": "execute_result"
    }
   ],
   "source": [
    "dq.extendleft([10, 20, 30, 40])\n",
    "dq"
   ]
  },
  {
   "cell_type": "code",
   "execution_count": 211,
   "id": "7d774edf-50ad-4efa-9ca1-1e7db4701a71",
   "metadata": {},
   "outputs": [
    {
     "data": {
      "text/plain": [
       "deque([[1, 2, 3, 4], 40, 30, 20, 10, 6, 7, 8, 9, 0], maxlen=10)"
      ]
     },
     "execution_count": 211,
     "metadata": {},
     "output_type": "execute_result"
    }
   ],
   "source": [
    "dq.appendleft([1,2,3,4]) # 单个元素\n",
    "dq"
   ]
  },
  {
   "cell_type": "markdown",
   "id": "490788ff-3889-4a6f-9cf8-65ca21b57f47",
   "metadata": {},
   "source": [
    "### 2.6 杂谈\n",
    "元组的本质：ABC语言的compound类型是Python元组的前身。该类型还支持并行复制，也可用作字典的组合键。但是不是序列，不可迭代，不饿能通过索引获取字段，不能使用切片。  \n",
    "\n",
    "扁平序列与容器序列：  \n",
    "\n",
    "扁平序列：是不可嵌套的序列类型，只能包含简单的原子类型，例如整数、浮点数或字符。  \n",
    "容器序列：可以嵌套，包含任何类型的对象，甚至是容器类型自身。  \n",
    "\n",
    "\n",
    "大杂烩列表：  \n",
    " \n",
    "如果列表中的项不可比较，就不能排序。  \n",
    "如果元组中的每一项都是一个字段，那么每个字段就可以具有不同的类型。  \n",
    "\n",
    "\n",
    "聪明的key：  \n",
    "\n",
    "只需要定义一个单参数函数，通过它获取或计算用于排序对象的标准即可。  \n",
    "高效：key指定的函数只在处理各项时调用一次，而双参数比较函数在每次需要通过排序算法比较两项时，都需要调用一次。  \n",
    "\n",
    "甲骨文、谷歌和Timbot阴谋论：  \n",
    "\n",
    "Oracle和list.sort使用的排序算法是Timsort，一种自适应算法，可根据数据的排序方法在插入排序法和归并排序法之间切换。  \n",
    "Timsort于2002年首次在CPython使用。  \n",
    "Timsort由Tim Peters发明，称为Timbot。  "
   ]
  },
  {
   "cell_type": "code",
   "execution_count": null,
   "id": "ae00337a-84c5-4607-a03a-108f17e95210",
   "metadata": {},
   "outputs": [],
   "source": []
  }
 ],
 "metadata": {
  "kernelspec": {
   "display_name": "Python 3 (ipykernel)",
   "language": "python",
   "name": "python3"
  },
  "language_info": {
   "codemirror_mode": {
    "name": "ipython",
    "version": 3
   },
   "file_extension": ".py",
   "mimetype": "text/x-python",
   "name": "python",
   "nbconvert_exporter": "python",
   "pygments_lexer": "ipython3",
   "version": "3.10.13"
  }
 },
 "nbformat": 4,
 "nbformat_minor": 5
}
