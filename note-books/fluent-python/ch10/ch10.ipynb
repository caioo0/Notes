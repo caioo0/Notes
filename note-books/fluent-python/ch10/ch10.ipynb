{
 "cells": [
  {
   "cell_type": "markdown",
   "id": "5c96d923-965f-42b5-950b-3ad652696970",
   "metadata": {},
   "source": [
    "# 第10章  使用一等函数实现设计模式\n",
    "\n"
   ]
  }
 ],
 "metadata": {
  "kernelspec": {
   "display_name": "Python 3 (ipykernel)",
   "language": "python",
   "name": "python3"
  },
  "language_info": {
   "codemirror_mode": {
    "name": "ipython",
    "version": 3
   },
   "file_extension": ".py",
   "mimetype": "text/x-python",
   "name": "python",
   "nbconvert_exporter": "python",
   "pygments_lexer": "ipython3",
   "version": "3.10.13"
  }
 },
 "nbformat": 4,
 "nbformat_minor": 5
}
