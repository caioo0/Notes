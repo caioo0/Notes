{
 "cells": [
  {
   "cell_type": "markdown",
   "id": "9661e9cd-ddc2-4fe0-ab7c-021837df242a",
   "metadata": {},
   "source": [
    "# 第3章 字典和集合\n",
    "\n",
    "> dict是实现python的基石，dict的底层实现基于哈希表\n",
    "\n",
    "Python 的基础数据类型中的字典类型分为：无序字典 与 有序字典 两种类型\n",
    "\n",
    "无序字典: `dict()`\n",
    "\n",
    "有序字典：\n",
    "```\n",
    "import collections\n",
    "\r\n",
    "my_order_dict = collections.OrderedDict()\n",
    "```\n",
    "\n",
    "## 字典的现代句法\n"
   ]
  },
  {
   "cell_type": "code",
   "execution_count": 2,
   "id": "85935d03-3ad2-4b19-898c-df82b04abd4d",
   "metadata": {},
   "outputs": [
    {
     "data": {
      "text/plain": [
       "{'Bangladesh': 880,\n",
       " 'Brazil': 55,\n",
       " 'China': 86,\n",
       " 'India': 91,\n",
       " 'Indonesia': 62,\n",
       " 'Japan': 81,\n",
       " 'Nigeria': 234,\n",
       " 'Pakistan': 92,\n",
       " 'Russia': 7,\n",
       " 'United States': 1}"
      ]
     },
     "execution_count": 2,
     "metadata": {},
     "output_type": "execute_result"
    }
   ],
   "source": [
    "dial_codes = [\n",
    "    (880, 'Bangladesh'),\n",
    "    (55, 'Brazil'),\n",
    "    (86, 'China'),\n",
    "    (91, 'India'),\n",
    "    (62, 'Indonesia'),\n",
    "    (81, 'Japan'),\n",
    "    (234, 'Nigeria'),\n",
    "    (92, 'Pakistan'),\n",
    "    (7, 'Russia'),\n",
    "    (1, 'United States'),\n",
    "]\n",
    "# 对调键和值\n",
    "country_dial = {country: code for code, country in dial_codes}\n",
    "country_dial\n"
   ]
  },
  {
   "cell_type": "code",
   "execution_count": 4,
   "id": "b3aa937b-033c-4179-bfdc-0e0c627d7c5e",
   "metadata": {},
   "outputs": [
    {
     "data": {
      "text/plain": [
       "{880: 'BANGLADESH',\n",
       " 86: 'CHINA',\n",
       " 91: 'INDIA',\n",
       " 81: 'JAPAN',\n",
       " 234: 'NIGERIA',\n",
       " 92: 'PAKISTAN'}"
      ]
     },
     "execution_count": 4,
     "metadata": {},
     "output_type": "execute_result"
    }
   ],
   "source": [
    "{code: country.upper() for country,code in sorted(country_dial.items())  if code >70 } #再次对调排序"
   ]
  },
  {
   "cell_type": "code",
   "execution_count": 10,
   "id": "c6c3b68a-cdce-4b6c-a1fa-47d0937e06b2",
   "metadata": {},
   "outputs": [
    {
     "data": {
      "text/plain": [
       "{880: 'BANGLADESH',\n",
       " 86: 'CHINA',\n",
       " 91: 'INDIA',\n",
       " 81: 'JAPAN',\n",
       " 234: 'NIGERIA',\n",
       " 92: 'PAKISTAN'}"
      ]
     },
     "execution_count": 10,
     "metadata": {},
     "output_type": "execute_result"
    }
   ],
   "source": [
    "{code: country.upper() for code,country in sorted(dial_codes,key = lambda i:(i[1],i[0]))  if code >70 } # 同样的效果 "
   ]
  },
  {
   "cell_type": "markdown",
   "id": "35ce6cb6-4bfc-49d9-b719-036f1b07d122",
   "metadata": {},
   "source": [
    "### 映射拆包"
   ]
  },
  {
   "cell_type": "code",
   "execution_count": 11,
   "id": "f72e235d-9887-4e0b-8d7e-88e181ee5e31",
   "metadata": {},
   "outputs": [
    {
     "data": {
      "text/plain": [
       "{'x': 1, 'y': 2, 'z': 3}"
      ]
     },
     "execution_count": 11,
     "metadata": {},
     "output_type": "execute_result"
    }
   ],
   "source": [
    "def dump(**kwargs):  ## 调用函数时，不止一个参数可以使用**\n",
    "    return kwargs\n",
    "\n",
    "dump(**{'x':1},y=2,**{'z':3})"
   ]
  },
  {
   "cell_type": "code",
   "execution_count": 12,
   "id": "b3267cbf-5b21-4aab-8f86-b35cd04a60da",
   "metadata": {},
   "outputs": [
    {
     "data": {
      "text/plain": [
       "{'a': 0, 'x': 4, 'y': 2, 'z': 3}"
      ]
     },
     "execution_count": 12,
     "metadata": {},
     "output_type": "execute_result"
    }
   ],
   "source": [
    "# ** 在 dict 字面量中使用，同样可以多次使用\n",
    "\n",
    "{'a':0,**{'x':1},'y':2,**{'z':3,'x':4}}"
   ]
  },
  {
   "cell_type": "markdown",
   "id": "c7187dc7-cd0b-4acf-84e9-65f8a3c903a0",
   "metadata": {},
   "source": [
    " ### 使用  | 合并映射  \n",
    "\n",
    " 要求：python3.9"
   ]
  },
  {
   "cell_type": "code",
   "execution_count": 15,
   "id": "835463e0-8bc1-4c21-8a1c-c2264194e408",
   "metadata": {},
   "outputs": [
    {
     "data": {
      "text/plain": [
       "{'a': 2, 'b': 4, 'c': 6}"
      ]
     },
     "execution_count": 15,
     "metadata": {},
     "output_type": "execute_result"
    }
   ],
   "source": [
    "d1 = {'a':1,'b':3}\n",
    "d2 = {'a':2,'b':4,'c':6}\n",
    "\n",
    "d1 | d2  # 合并 "
   ]
  },
  {
   "cell_type": "code",
   "execution_count": 18,
   "id": "66f48d9b-bfac-4c8a-9ea9-6f62b7641428",
   "metadata": {},
   "outputs": [
    {
     "data": {
      "text/plain": [
       "{'a': 2, 'b': 4, 'c': 6}"
      ]
     },
     "execution_count": 18,
     "metadata": {},
     "output_type": "execute_result"
    }
   ],
   "source": [
    "dict(d1,**d2)  # 等同于"
   ]
  },
  {
   "cell_type": "code",
   "execution_count": 20,
   "id": "9d38033d-35ad-4fd4-94e7-9c395e148e8b",
   "metadata": {},
   "outputs": [
    {
     "data": {
      "text/plain": [
       "{'a': 2, 'b': 4, 'c': 6}"
      ]
     },
     "execution_count": 20,
     "metadata": {},
     "output_type": "execute_result"
    }
   ],
   "source": [
    "dict(list(d1.items()) + list(d2.items())) # 等同于"
   ]
  },
  {
   "cell_type": "code",
   "execution_count": 21,
   "id": "2e6d8e45-c94c-434d-932c-c674946b2daa",
   "metadata": {},
   "outputs": [
    {
     "data": {
      "text/plain": [
       "{'a': 2, 'b': 4, 'c': 6}"
      ]
     },
     "execution_count": 21,
     "metadata": {},
     "output_type": "execute_result"
    }
   ],
   "source": [
    "{**d1,**d2} # 等同于"
   ]
  },
  {
   "cell_type": "markdown",
   "id": "de47f29c-cb28-4dea-a5de-e3079be8f6d2",
   "metadata": {},
   "source": [
    "### 使用模式匹配处理映射"
   ]
  },
  {
   "cell_type": "code",
   "execution_count": 22,
   "id": "f844edef-06bd-41e2-9f19-ae20373f0cac",
   "metadata": {},
   "outputs": [],
   "source": [
    "# 从出版物记录中提取创作者的名字\n",
    "def get_creators(record: dict) -> list:\n",
    "    match record:\n",
    "        case {'type': 'book', 'api': 2, 'authors': [*names]}:  # 'authors' 键映 射一个序列的映射对象,返回列表\n",
    "            return names\n",
    "        case {'type': 'book', 'api': 1, 'author': name}: #'authors' 键映 射任何对象的映射对象，返回列表\n",
    "            return [name]\n",
    "        case {'type': 'book'}:\n",
    "            return ValueError(f\"Invalid 'book' record: {record!r}\")\n",
    "        case {'type': 'movie', 'director': name}:\n",
    "            return [name]\n",
    "        case _:\n",
    "            return ValueError(f'Invalid record: {record!r}')"
   ]
  },
  {
   "cell_type": "code",
   "execution_count": 24,
   "id": "cbc1fda3-f7aa-4630-9459-922566bbb5e3",
   "metadata": {},
   "outputs": [
    {
     "data": {
      "text/plain": [
       "['Douglas Hofstadter,ok']"
      ]
     },
     "execution_count": 24,
     "metadata": {},
     "output_type": "execute_result"
    }
   ],
   "source": [
    "b1 = dict(api=1, author='Douglas Hofstadter', type='book', title='Godel, Escher, Bach')\n",
    "get_creators(b1)"
   ]
  },
  {
   "cell_type": "code",
   "execution_count": 36,
   "id": "a5426b0e-fa4a-428a-b218-2803171cdeaf",
   "metadata": {},
   "outputs": [
    {
     "data": {
      "text/plain": [
       "['Martelli', 'Ravenscroft', 'Holden']"
      ]
     },
     "execution_count": 36,
     "metadata": {},
     "output_type": "execute_result"
    }
   ],
   "source": [
    "#Python split() 通过指定分隔符对字符串进行切片,默认空格\n",
    "b2 = dict(api=2, authors='Martelli,Ravenscroft,Holden'.split(','), type='book', title='Godel, Escher, Bach')\n",
    "get_creators(b2)"
   ]
  },
  {
   "cell_type": "code",
   "execution_count": 37,
   "id": "7cb2a271-1bab-4063-93d2-9113dacad9f3",
   "metadata": {},
   "outputs": [
    {
     "data": {
      "text/plain": [
       "['Martelli', 'Ravenscroft', 'Holden']"
      ]
     },
     "execution_count": 37,
     "metadata": {},
     "output_type": "execute_result"
    }
   ],
   "source": [
    "from collections import OrderedDict\n",
    "\n",
    "b2 = OrderedDict(api=2, type='book', title='Python in a Nutshell', authors='Martelli Ravenscroft Holden'.split())\n",
    "get_creators(b2)"
   ]
  },
  {
   "cell_type": "code",
   "execution_count": 38,
   "id": "a6bac57c-e442-49c3-a7a8-01f0526fa502",
   "metadata": {},
   "outputs": [
    {
     "data": {
      "text/plain": [
       "ValueError(\"Invalid 'book' record: {'type': 'book', 'pages': 770}\")"
      ]
     },
     "execution_count": 38,
     "metadata": {},
     "output_type": "execute_result"
    }
   ],
   "source": [
    "get_creators({'type': 'book', 'pages': 770})"
   ]
  },
  {
   "cell_type": "code",
   "execution_count": 39,
   "id": "8ddb4934-c123-48af-92ba-6e3796e32a02",
   "metadata": {},
   "outputs": [
    {
     "data": {
      "text/plain": [
       "ValueError(\"Invalid record: 'Spam, spam, spam'\")"
      ]
     },
     "execution_count": 39,
     "metadata": {},
     "output_type": "execute_result"
    }
   ],
   "source": [
    "get_creators('Spam, spam, spam')"
   ]
  },
  {
   "cell_type": "code",
   "execution_count": 40,
   "id": "893fab8e-aecd-42ac-b6ad-f0c146fde661",
   "metadata": {},
   "outputs": [
    {
     "name": "stdout",
     "output_type": "stream",
     "text": [
      "Ice cream details: {'flavor': 'vanilla', 'cost': 199}\n"
     ]
    }
   ],
   "source": [
    "food = dict(category = 'ice cream',flavor='vanilla',cost=199)\n",
    "\n",
    "match food:\n",
    "    case {'category':'ice cream', **details}:\n",
    "        print(f'Ice cream details: {details}')"
   ]
  },
  {
   "cell_type": "markdown",
   "id": "d2487bcd-5407-4708-aee2-44adb030a76a",
   "metadata": {},
   "source": [
    "### 映射类型的标准API"
   ]
  },
  {
   "cell_type": "code",
   "execution_count": 46,
   "id": "b317755e-d2f0-4950-9898-7fe2c5e4dc30",
   "metadata": {},
   "outputs": [
    {
     "data": {
      "text/plain": [
       "True"
      ]
     },
     "execution_count": 46,
     "metadata": {},
     "output_type": "execute_result"
    }
   ],
   "source": [
    "from collections import abc\n",
    "my_dict = {}\n",
    "isinstance(my_dict,abc.Mapping)"
   ]
  },
  {
   "cell_type": "code",
   "execution_count": 47,
   "id": "141dcff2-0df6-4019-9fca-4e4616dad274",
   "metadata": {},
   "outputs": [
    {
     "data": {
      "text/plain": [
       "True"
      ]
     },
     "execution_count": 47,
     "metadata": {},
     "output_type": "execute_result"
    }
   ],
   "source": [
    "isinstance(my_dict, abc.MutableMapping)"
   ]
  },
  {
   "cell_type": "code",
   "execution_count": 50,
   "id": "2a6ac38d-e2dc-4bec-8bdd-6aa6c365a941",
   "metadata": {},
   "outputs": [
    {
     "data": {
      "text/plain": [
       "-3907003130834322577"
      ]
     },
     "execution_count": 50,
     "metadata": {},
     "output_type": "execute_result"
    }
   ],
   "source": [
    "tt = (1,2,(30,40))\n",
    "hash(tt)"
   ]
  },
  {
   "cell_type": "code",
   "execution_count": 53,
   "id": "e9be73c6-8289-4614-ae34-f5401a7cb2bf",
   "metadata": {},
   "outputs": [
    {
     "ename": "TypeError",
     "evalue": "unhashable type: 'list'",
     "output_type": "error",
     "traceback": [
      "\u001b[1;31m---------------------------------------------------------------------------\u001b[0m",
      "\u001b[1;31mTypeError\u001b[0m                                 Traceback (most recent call last)",
      "Cell \u001b[1;32mIn[53], line 2\u001b[0m\n\u001b[0;32m      1\u001b[0m tl \u001b[38;5;241m=\u001b[39m (\u001b[38;5;241m1\u001b[39m, \u001b[38;5;241m2\u001b[39m, [\u001b[38;5;241m30\u001b[39m, \u001b[38;5;241m40\u001b[39m])\n\u001b[1;32m----> 2\u001b[0m \u001b[38;5;28;43mhash\u001b[39;49m\u001b[43m(\u001b[49m\u001b[43mtl\u001b[49m\u001b[43m)\u001b[49m\n",
      "\u001b[1;31mTypeError\u001b[0m: unhashable type: 'list'"
     ]
    }
   ],
   "source": [
    "tl = (1, 2, [30, 40])\n",
    "hash(tl)"
   ]
  },
  {
   "cell_type": "code",
   "execution_count": 54,
   "id": "3c944cbe-1c0c-4925-b377-86fd8ffb0ef2",
   "metadata": {},
   "outputs": [
    {
     "data": {
      "text/plain": [
       "5149391500123939311"
      ]
     },
     "execution_count": 54,
     "metadata": {},
     "output_type": "execute_result"
    }
   ],
   "source": [
    "tf = (1, 2, frozenset([30, 40])) # frozenset() 返回一个冻结的集合\n",
    "hash(tf)"
   ]
  },
  {
   "cell_type": "code",
   "execution_count": 55,
   "id": "c4a8bb61-2f74-4df1-a5ff-ca4057c8fcb8",
   "metadata": {},
   "outputs": [
    {
     "data": {
      "text/plain": [
       "frozenset({'b', 'n', 'o', 'r', 'u'})"
      ]
     },
     "execution_count": 55,
     "metadata": {},
     "output_type": "execute_result"
    }
   ],
   "source": [
    "b = frozenset('runoob')  # 创建不可变集合\n",
    "b"
   ]
  },
  {
   "cell_type": "markdown",
   "id": "b830f9be-3f40-4403-ad75-71d9ec2f7032",
   "metadata": {},
   "source": [
    "### 自动处理丢失的键"
   ]
  },
  {
   "cell_type": "code",
   "execution_count": null,
   "id": "d888d415-6910-4633-ad3d-f5d5c3908030",
   "metadata": {},
   "outputs": [],
   "source": []
  },
  {
   "cell_type": "code",
   "execution_count": null,
   "id": "d00d356d-4ede-476b-95f7-781170569f15",
   "metadata": {},
   "outputs": [],
   "source": []
  },
  {
   "cell_type": "code",
   "execution_count": null,
   "id": "3ac512da-a720-48ee-b318-f0499ff3d12a",
   "metadata": {},
   "outputs": [],
   "source": []
  }
 ],
 "metadata": {
  "kernelspec": {
   "display_name": "Python 3 (ipykernel)",
   "language": "python",
   "name": "python3"
  },
  "language_info": {
   "codemirror_mode": {
    "name": "ipython",
    "version": 3
   },
   "file_extension": ".py",
   "mimetype": "text/x-python",
   "name": "python",
   "nbconvert_exporter": "python",
   "pygments_lexer": "ipython3",
   "version": "3.10.13"
  }
 },
 "nbformat": 4,
 "nbformat_minor": 5
}
