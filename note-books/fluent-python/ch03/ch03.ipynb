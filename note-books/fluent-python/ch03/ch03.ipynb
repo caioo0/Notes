{
 "cells": [
  {
   "cell_type": "markdown",
   "id": "9661e9cd-ddc2-4fe0-ab7c-021837df242a",
   "metadata": {},
   "source": [
    "# 第3章 字典和集合\n",
    "\n",
    "> dict是实现python的基石，dict的底层实现基于哈希表\n",
    "\n",
    "Python 的基础数据类型中的字典类型分为：无序字典 与 有序字典 两种类型\n",
    "\n",
    "无序字典: `dict()`\n",
    "\n",
    "有序字典：\n",
    "```\n",
    "import collections\n",
    "\r\n",
    "my_order_dict = collections.OrderedDict()\n",
    "```\n",
    "\n",
    "## 字典的现代句法\n"
   ]
  },
  {
   "cell_type": "code",
   "execution_count": 2,
   "id": "85935d03-3ad2-4b19-898c-df82b04abd4d",
   "metadata": {},
   "outputs": [
    {
     "data": {
      "text/plain": [
       "{'Bangladesh': 880,\n",
       " 'Brazil': 55,\n",
       " 'China': 86,\n",
       " 'India': 91,\n",
       " 'Indonesia': 62,\n",
       " 'Japan': 81,\n",
       " 'Nigeria': 234,\n",
       " 'Pakistan': 92,\n",
       " 'Russia': 7,\n",
       " 'United States': 1}"
      ]
     },
     "execution_count": 2,
     "metadata": {},
     "output_type": "execute_result"
    }
   ],
   "source": [
    "dial_codes = [\n",
    "    (880, 'Bangladesh'),\n",
    "    (55, 'Brazil'),\n",
    "    (86, 'China'),\n",
    "    (91, 'India'),\n",
    "    (62, 'Indonesia'),\n",
    "    (81, 'Japan'),\n",
    "    (234, 'Nigeria'),\n",
    "    (92, 'Pakistan'),\n",
    "    (7, 'Russia'),\n",
    "    (1, 'United States'),\n",
    "]\n",
    "# 对调键和值\n",
    "country_dial = {country: code for code, country in dial_codes}\n",
    "country_dial\n"
   ]
  },
  {
   "cell_type": "code",
   "execution_count": 4,
   "id": "b3aa937b-033c-4179-bfdc-0e0c627d7c5e",
   "metadata": {},
   "outputs": [
    {
     "data": {
      "text/plain": [
       "{880: 'BANGLADESH',\n",
       " 86: 'CHINA',\n",
       " 91: 'INDIA',\n",
       " 81: 'JAPAN',\n",
       " 234: 'NIGERIA',\n",
       " 92: 'PAKISTAN'}"
      ]
     },
     "execution_count": 4,
     "metadata": {},
     "output_type": "execute_result"
    }
   ],
   "source": [
    "{code: country.upper() for country,code in sorted(country_dial.items())  if code >70 } #再次对调排序"
   ]
  },
  {
   "cell_type": "code",
   "execution_count": 10,
   "id": "c6c3b68a-cdce-4b6c-a1fa-47d0937e06b2",
   "metadata": {},
   "outputs": [
    {
     "data": {
      "text/plain": [
       "{880: 'BANGLADESH',\n",
       " 86: 'CHINA',\n",
       " 91: 'INDIA',\n",
       " 81: 'JAPAN',\n",
       " 234: 'NIGERIA',\n",
       " 92: 'PAKISTAN'}"
      ]
     },
     "execution_count": 10,
     "metadata": {},
     "output_type": "execute_result"
    }
   ],
   "source": [
    "{code: country.upper() for code,country in sorted(dial_codes,key = lambda i:(i[1],i[0]))  if code >70 } # 同样的效果 "
   ]
  },
  {
   "cell_type": "markdown",
   "id": "35ce6cb6-4bfc-49d9-b719-036f1b07d122",
   "metadata": {},
   "source": [
    "### 映射拆包"
   ]
  },
  {
   "cell_type": "code",
   "execution_count": 11,
   "id": "f72e235d-9887-4e0b-8d7e-88e181ee5e31",
   "metadata": {},
   "outputs": [
    {
     "data": {
      "text/plain": [
       "{'x': 1, 'y': 2, 'z': 3}"
      ]
     },
     "execution_count": 11,
     "metadata": {},
     "output_type": "execute_result"
    }
   ],
   "source": [
    "def dump(**kwargs):  ## 调用函数时，不止一个参数可以使用**\n",
    "    return kwargs\n",
    "\n",
    "dump(**{'x':1},y=2,**{'z':3})"
   ]
  },
  {
   "cell_type": "code",
   "execution_count": 12,
   "id": "b3267cbf-5b21-4aab-8f86-b35cd04a60da",
   "metadata": {},
   "outputs": [
    {
     "data": {
      "text/plain": [
       "{'a': 0, 'x': 4, 'y': 2, 'z': 3}"
      ]
     },
     "execution_count": 12,
     "metadata": {},
     "output_type": "execute_result"
    }
   ],
   "source": [
    "# ** 在 dict 字面量中使用，同样可以多次使用\n",
    "\n",
    "{'a':0,**{'x':1},'y':2,**{'z':3,'x':4}}"
   ]
  },
  {
   "cell_type": "markdown",
   "id": "c7187dc7-cd0b-4acf-84e9-65f8a3c903a0",
   "metadata": {},
   "source": [
    " ### 使用  | 合并映射  \n",
    "\n",
    " 要求：python3.9"
   ]
  },
  {
   "cell_type": "code",
   "execution_count": 15,
   "id": "835463e0-8bc1-4c21-8a1c-c2264194e408",
   "metadata": {},
   "outputs": [
    {
     "data": {
      "text/plain": [
       "{'a': 2, 'b': 4, 'c': 6}"
      ]
     },
     "execution_count": 15,
     "metadata": {},
     "output_type": "execute_result"
    }
   ],
   "source": [
    "d1 = {'a':1,'b':3}\n",
    "d2 = {'a':2,'b':4,'c':6}\n",
    "\n",
    "d1 | d2  # 合并 "
   ]
  },
  {
   "cell_type": "code",
   "execution_count": 18,
   "id": "66f48d9b-bfac-4c8a-9ea9-6f62b7641428",
   "metadata": {},
   "outputs": [
    {
     "data": {
      "text/plain": [
       "{'a': 2, 'b': 4, 'c': 6}"
      ]
     },
     "execution_count": 18,
     "metadata": {},
     "output_type": "execute_result"
    }
   ],
   "source": [
    "dict(d1,**d2)  # 等同于"
   ]
  },
  {
   "cell_type": "code",
   "execution_count": 20,
   "id": "9d38033d-35ad-4fd4-94e7-9c395e148e8b",
   "metadata": {},
   "outputs": [
    {
     "data": {
      "text/plain": [
       "{'a': 2, 'b': 4, 'c': 6}"
      ]
     },
     "execution_count": 20,
     "metadata": {},
     "output_type": "execute_result"
    }
   ],
   "source": [
    "dict(list(d1.items()) + list(d2.items())) # 等同于"
   ]
  },
  {
   "cell_type": "code",
   "execution_count": 21,
   "id": "2e6d8e45-c94c-434d-932c-c674946b2daa",
   "metadata": {},
   "outputs": [
    {
     "data": {
      "text/plain": [
       "{'a': 2, 'b': 4, 'c': 6}"
      ]
     },
     "execution_count": 21,
     "metadata": {},
     "output_type": "execute_result"
    }
   ],
   "source": [
    "{**d1,**d2} # 等同于"
   ]
  },
  {
   "cell_type": "markdown",
   "id": "de47f29c-cb28-4dea-a5de-e3079be8f6d2",
   "metadata": {},
   "source": [
    "### 使用模式匹配处理映射"
   ]
  },
  {
   "cell_type": "code",
   "execution_count": 22,
   "id": "f844edef-06bd-41e2-9f19-ae20373f0cac",
   "metadata": {},
   "outputs": [],
   "source": [
    "# 从出版物记录中提取创作者的名字\n",
    "def get_creators(record: dict) -> list:\n",
    "    match record:\n",
    "        case {'type': 'book', 'api': 2, 'authors': [*names]}:  # 'authors' 键映 射一个序列的映射对象,返回列表\n",
    "            return names\n",
    "        case {'type': 'book', 'api': 1, 'author': name}: #'authors' 键映 射任何对象的映射对象，返回列表\n",
    "            return [name]\n",
    "        case {'type': 'book'}:\n",
    "            return ValueError(f\"Invalid 'book' record: {record!r}\")\n",
    "        case {'type': 'movie', 'director': name}:\n",
    "            return [name]\n",
    "        case _:\n",
    "            return ValueError(f'Invalid record: {record!r}')"
   ]
  },
  {
   "cell_type": "code",
   "execution_count": 24,
   "id": "cbc1fda3-f7aa-4630-9459-922566bbb5e3",
   "metadata": {},
   "outputs": [
    {
     "data": {
      "text/plain": [
       "['Douglas Hofstadter,ok']"
      ]
     },
     "execution_count": 24,
     "metadata": {},
     "output_type": "execute_result"
    }
   ],
   "source": [
    "b1 = dict(api=1, author='Douglas Hofstadter', type='book', title='Godel, Escher, Bach')\n",
    "get_creators(b1)"
   ]
  },
  {
   "cell_type": "code",
   "execution_count": 36,
   "id": "a5426b0e-fa4a-428a-b218-2803171cdeaf",
   "metadata": {},
   "outputs": [
    {
     "data": {
      "text/plain": [
       "['Martelli', 'Ravenscroft', 'Holden']"
      ]
     },
     "execution_count": 36,
     "metadata": {},
     "output_type": "execute_result"
    }
   ],
   "source": [
    "#Python split() 通过指定分隔符对字符串进行切片,默认空格\n",
    "b2 = dict(api=2, authors='Martelli,Ravenscroft,Holden'.split(','), type='book', title='Godel, Escher, Bach')\n",
    "get_creators(b2)"
   ]
  },
  {
   "cell_type": "code",
   "execution_count": 37,
   "id": "7cb2a271-1bab-4063-93d2-9113dacad9f3",
   "metadata": {},
   "outputs": [
    {
     "data": {
      "text/plain": [
       "['Martelli', 'Ravenscroft', 'Holden']"
      ]
     },
     "execution_count": 37,
     "metadata": {},
     "output_type": "execute_result"
    }
   ],
   "source": [
    "from collections import OrderedDict\n",
    "\n",
    "b2 = OrderedDict(api=2, type='book', title='Python in a Nutshell', authors='Martelli Ravenscroft Holden'.split())\n",
    "get_creators(b2)"
   ]
  },
  {
   "cell_type": "code",
   "execution_count": 38,
   "id": "a6bac57c-e442-49c3-a7a8-01f0526fa502",
   "metadata": {},
   "outputs": [
    {
     "data": {
      "text/plain": [
       "ValueError(\"Invalid 'book' record: {'type': 'book', 'pages': 770}\")"
      ]
     },
     "execution_count": 38,
     "metadata": {},
     "output_type": "execute_result"
    }
   ],
   "source": [
    "get_creators({'type': 'book', 'pages': 770})"
   ]
  },
  {
   "cell_type": "code",
   "execution_count": 39,
   "id": "8ddb4934-c123-48af-92ba-6e3796e32a02",
   "metadata": {},
   "outputs": [
    {
     "data": {
      "text/plain": [
       "ValueError(\"Invalid record: 'Spam, spam, spam'\")"
      ]
     },
     "execution_count": 39,
     "metadata": {},
     "output_type": "execute_result"
    }
   ],
   "source": [
    "get_creators('Spam, spam, spam')"
   ]
  },
  {
   "cell_type": "code",
   "execution_count": 40,
   "id": "893fab8e-aecd-42ac-b6ad-f0c146fde661",
   "metadata": {},
   "outputs": [
    {
     "name": "stdout",
     "output_type": "stream",
     "text": [
      "Ice cream details: {'flavor': 'vanilla', 'cost': 199}\n"
     ]
    }
   ],
   "source": [
    "food = dict(category = 'ice cream',flavor='vanilla',cost=199)\n",
    "\n",
    "match food:\n",
    "    case {'category':'ice cream', **details}:\n",
    "        print(f'Ice cream details: {details}')"
   ]
  },
  {
   "cell_type": "markdown",
   "id": "d2487bcd-5407-4708-aee2-44adb030a76a",
   "metadata": {},
   "source": [
    "### 映射类型的标准API"
   ]
  },
  {
   "cell_type": "code",
   "execution_count": 46,
   "id": "b317755e-d2f0-4950-9898-7fe2c5e4dc30",
   "metadata": {},
   "outputs": [
    {
     "data": {
      "text/plain": [
       "True"
      ]
     },
     "execution_count": 46,
     "metadata": {},
     "output_type": "execute_result"
    }
   ],
   "source": [
    "from collections import abc\n",
    "my_dict = {}\n",
    "isinstance(my_dict,abc.Mapping)"
   ]
  },
  {
   "cell_type": "code",
   "execution_count": 47,
   "id": "141dcff2-0df6-4019-9fca-4e4616dad274",
   "metadata": {},
   "outputs": [
    {
     "data": {
      "text/plain": [
       "True"
      ]
     },
     "execution_count": 47,
     "metadata": {},
     "output_type": "execute_result"
    }
   ],
   "source": [
    "isinstance(my_dict, abc.MutableMapping)"
   ]
  },
  {
   "cell_type": "code",
   "execution_count": 50,
   "id": "2a6ac38d-e2dc-4bec-8bdd-6aa6c365a941",
   "metadata": {},
   "outputs": [
    {
     "data": {
      "text/plain": [
       "-3907003130834322577"
      ]
     },
     "execution_count": 50,
     "metadata": {},
     "output_type": "execute_result"
    }
   ],
   "source": [
    "tt = (1,2,(30,40))\n",
    "hash(tt)"
   ]
  },
  {
   "cell_type": "code",
   "execution_count": 53,
   "id": "e9be73c6-8289-4614-ae34-f5401a7cb2bf",
   "metadata": {},
   "outputs": [
    {
     "ename": "TypeError",
     "evalue": "unhashable type: 'list'",
     "output_type": "error",
     "traceback": [
      "\u001b[1;31m---------------------------------------------------------------------------\u001b[0m",
      "\u001b[1;31mTypeError\u001b[0m                                 Traceback (most recent call last)",
      "Cell \u001b[1;32mIn[53], line 2\u001b[0m\n\u001b[0;32m      1\u001b[0m tl \u001b[38;5;241m=\u001b[39m (\u001b[38;5;241m1\u001b[39m, \u001b[38;5;241m2\u001b[39m, [\u001b[38;5;241m30\u001b[39m, \u001b[38;5;241m40\u001b[39m])\n\u001b[1;32m----> 2\u001b[0m \u001b[38;5;28;43mhash\u001b[39;49m\u001b[43m(\u001b[49m\u001b[43mtl\u001b[49m\u001b[43m)\u001b[49m\n",
      "\u001b[1;31mTypeError\u001b[0m: unhashable type: 'list'"
     ]
    }
   ],
   "source": [
    "tl = (1, 2, [30, 40])\n",
    "hash(tl)"
   ]
  },
  {
   "cell_type": "code",
   "execution_count": 54,
   "id": "3c944cbe-1c0c-4925-b377-86fd8ffb0ef2",
   "metadata": {},
   "outputs": [
    {
     "data": {
      "text/plain": [
       "5149391500123939311"
      ]
     },
     "execution_count": 54,
     "metadata": {},
     "output_type": "execute_result"
    }
   ],
   "source": [
    "tf = (1, 2, frozenset([30, 40])) # frozenset() 返回一个冻结的集合\n",
    "hash(tf)"
   ]
  },
  {
   "cell_type": "code",
   "execution_count": 55,
   "id": "c4a8bb61-2f74-4df1-a5ff-ca4057c8fcb8",
   "metadata": {},
   "outputs": [
    {
     "data": {
      "text/plain": [
       "frozenset({'b', 'n', 'o', 'r', 'u'})"
      ]
     },
     "execution_count": 55,
     "metadata": {},
     "output_type": "execute_result"
    }
   ],
   "source": [
    "b = frozenset('runoob')  # 创建不可变集合\n",
    "b"
   ]
  },
  {
   "cell_type": "markdown",
   "id": "b830f9be-3f40-4403-ad75-71d9ec2f7032",
   "metadata": {},
   "source": [
    "### 自动处理丢失的键\n",
    "\n",
    "人为设置的值主要有两种方法：\n",
    "\n",
    "- 第一种是把普通的 dict 换成 defaultdict；\n",
    "\n",
    "- 第二种是定义 dict 或其他映射类型的子 类，实现 __missing__ 方法"
   ]
  },
  {
   "cell_type": "code",
   "execution_count": 58,
   "id": "77a7ba47-e5b2-45af-972e-8329e0aa46ef",
   "metadata": {},
   "outputs": [],
   "source": [
    "# 在查找键时把非字符串键转换成字符串\n",
    "class StrKeyDict0(dict):\n",
    "    def __missing__(self, key):\n",
    "        if isinstance(key, str):\n",
    "            raise KeyError(key)\n",
    "        return self[str(key)]\n",
    "    \n",
    "    def get(self, key, default=None):\n",
    "        try:\n",
    "            return self[key]\n",
    "        except KeyError:\n",
    "            return default\n",
    "        \n",
    "    def __contains__(self, key):\n",
    "        return key in self.keys() or str(key) in self.keys()\n"
   ]
  },
  {
   "cell_type": "code",
   "execution_count": 59,
   "id": "645d49fc-f119-45bd-9083-7ffc39f96a47",
   "metadata": {},
   "outputs": [
    {
     "data": {
      "text/plain": [
       "'two'"
      ]
     },
     "execution_count": 59,
     "metadata": {},
     "output_type": "execute_result"
    }
   ],
   "source": [
    "d = StrKeyDict0([('2', 'two'), ('4', 'four')])\n",
    "d['2']"
   ]
  },
  {
   "cell_type": "code",
   "execution_count": 60,
   "id": "c0dd5035-06e7-460b-ab2a-984dd25d7ead",
   "metadata": {},
   "outputs": [
    {
     "data": {
      "text/plain": [
       "'four'"
      ]
     },
     "execution_count": 60,
     "metadata": {},
     "output_type": "execute_result"
    }
   ],
   "source": [
    "d[4]"
   ]
  },
  {
   "cell_type": "code",
   "execution_count": 61,
   "id": "407851bc-a933-41d5-ac05-2f40aabe3f05",
   "metadata": {},
   "outputs": [
    {
     "data": {
      "text/plain": [
       "'two'"
      ]
     },
     "execution_count": 61,
     "metadata": {},
     "output_type": "execute_result"
    }
   ],
   "source": [
    "d.get('2')"
   ]
  },
  {
   "cell_type": "code",
   "execution_count": 63,
   "id": "7e216213-751a-49bf-9916-df279884e78c",
   "metadata": {},
   "outputs": [
    {
     "data": {
      "text/plain": [
       "'four'"
      ]
     },
     "execution_count": 63,
     "metadata": {},
     "output_type": "execute_result"
    }
   ],
   "source": [
    "d.get('4')"
   ]
  },
  {
   "cell_type": "code",
   "execution_count": 64,
   "id": "a72a81e4-2eb9-4268-bdbf-6c2fe0ead217",
   "metadata": {},
   "outputs": [
    {
     "data": {
      "text/plain": [
       "'N/A'"
      ]
     },
     "execution_count": 64,
     "metadata": {},
     "output_type": "execute_result"
    }
   ],
   "source": [
    "d.get(1, 'N/A')"
   ]
  },
  {
   "cell_type": "code",
   "execution_count": 77,
   "id": "e0a8ebe8-858e-40df-ad52-947e5cde5fef",
   "metadata": {},
   "outputs": [
    {
     "data": {
      "text/plain": [
       "True"
      ]
     },
     "execution_count": 77,
     "metadata": {},
     "output_type": "execute_result"
    }
   ],
   "source": [
    "2 in d"
   ]
  },
  {
   "cell_type": "code",
   "execution_count": 78,
   "id": "dfd8ff8d-619d-4e66-bc8d-ac2d9307d2f2",
   "metadata": {},
   "outputs": [
    {
     "data": {
      "text/plain": [
       "False"
      ]
     },
     "execution_count": 78,
     "metadata": {},
     "output_type": "execute_result"
    }
   ],
   "source": [
    "1 in d"
   ]
  },
  {
   "cell_type": "markdown",
   "id": "aba999b7-f1fb-4170-8265-fd468930347d",
   "metadata": {},
   "source": [
    "### dict的变体\n",
    "\n",
    "1.collections.OrderedDict  \r\n",
    "\r\n",
    "等值检查考虑  顺序\r\n",
    "方便执行重新排序操作，空间利用率、迭代速度和更新操作的性能是次     要的。\r\n",
    "从算法上看，OrderedDict处理频繁重新排序操作的效果比dict好，适合用于跟踪近期存         \n",
    "串键与Python对象之间的映射。"
   ]
  },
  {
   "cell_type": "code",
   "execution_count": null,
   "id": "1db333af-58db-43cf-9e75-8456a12d700a",
   "metadata": {},
   "outputs": [],
   "source": []
  },
  {
   "cell_type": "markdown",
   "id": "32a9549d-852c-458a-ab22-44bda64f915d",
   "metadata": {},
   "source": [
    "\n",
    "情况。\r\n",
    "2.collection     inMap\r\n",
    "\r\n",
    "存放一组映射，可作为一  个整体来搜索。\r\n",
    "查找操作按照输入映射在构造函数调用中出现的顺序执行，一旦找到指定  的键，立即结束。\r\n",
    "不复制输入映射  ，存放映射的引用。\r\n",
    "更新或插入操作只    \n",
    "影键与Python对象之间的映射。"
   ]
  },
  {
   "cell_type": "code",
   "execution_count": 81,
   "id": "a0b9a8bb-e185-4ad9-a338-26fe32d1f7d3",
   "metadata": {},
   "outputs": [],
   "source": [
    "d1 = dict(a=1, b=3)\n",
    "d2 = dict(a=2, b=4, c=6)"
   ]
  },
  {
   "cell_type": "code",
   "execution_count": 82,
   "id": "aca30b78-0618-4db4-8f11-86c45e5d6671",
   "metadata": {},
   "outputs": [
    {
     "data": {
      "text/plain": [
       "ChainMap({'a': 1, 'b': 3}, {'a': 2, 'b': 4, 'c': 6})"
      ]
     },
     "execution_count": 82,
     "metadata": {},
     "output_type": "execute_result"
    }
   ],
   "source": [
    "from collections import ChainMap\n",
    "chain = ChainMap(d1, d2)\n",
    "chain"
   ]
  },
  {
   "cell_type": "code",
   "execution_count": 84,
   "id": "12824f94-27ac-4b51-b1f9-79870d83b636",
   "metadata": {},
   "outputs": [
    {
     "data": {
      "text/plain": [
       "1"
      ]
     },
     "execution_count": 84,
     "metadata": {},
     "output_type": "execute_result"
    }
   ],
   "source": [
    "chain['a']"
   ]
  },
  {
   "cell_type": "code",
   "execution_count": 85,
   "id": "b573dfc6-2e2d-432d-af7d-3daaaa764ef2",
   "metadata": {},
   "outputs": [
    {
     "data": {
      "text/plain": [
       "6"
      ]
     },
     "execution_count": 85,
     "metadata": {},
     "output_type": "execute_result"
    }
   ],
   "source": [
    "chain['c']"
   ]
  },
  {
   "cell_type": "code",
   "execution_count": 86,
   "id": "cf319370-c9d7-4d05-bc18-0c144e95053b",
   "metadata": {},
   "outputs": [
    {
     "data": {
      "text/plain": [
       "{'a': 1, 'b': 3, 'c': -1}"
      ]
     },
     "execution_count": 86,
     "metadata": {},
     "output_type": "execute_result"
    }
   ],
   "source": [
    "chain['c'] = -1\n",
    "d1"
   ]
  },
  {
   "cell_type": "code",
   "execution_count": 87,
   "id": "7ec8eb82-9c80-48f5-9efb-9589c7494c62",
   "metadata": {},
   "outputs": [
    {
     "data": {
      "text/plain": [
       "{'a': 2, 'b': 4, 'c': 6}"
      ]
     },
     "execution_count": 87,
     "metadata": {},
     "output_type": "execute_result"
    }
   ],
   "source": [
    "d2"
   ]
  },
  {
   "cell_type": "code",
   "execution_count": 88,
   "id": "cd112c36-143f-465e-86ee-d571f34ec023",
   "metadata": {},
   "outputs": [
    {
     "ename": "SyntaxError",
     "evalue": "incomplete input (1906800348.py, line 2)",
     "output_type": "error",
     "traceback": [
      "\u001b[1;36m  Cell \u001b[1;32mIn[88], line 2\u001b[1;36m\u001b[0m\n\u001b[1;33m    pylookup = ChainMap(locals(), globals(), vars(builtins)\u001b[0m\n\u001b[1;37m                                                           ^\u001b[0m\n\u001b[1;31mSyntaxError\u001b[0m\u001b[1;31m:\u001b[0m incomplete input\n"
     ]
    }
   ],
   "source": [
    "import builtins \n",
    "pylookup = ChainMap(locals(), globals(), vars(builtins)"
   ]
  },
  {
   "cell_type": "markdown",
   "id": "4e345f15-1a73-4da7-bf4a-c0e6e4044643",
   "metadata": {},
   "source": [
    "3.collections.Counter\n",
    "\n",
    "一种对键计数的映射，更新现有的键，计数随之增加。\n",
    "\n",
    "可用于统计可哈希对象的实例数量。\n"
   ]
  },
  {
   "cell_type": "code",
   "execution_count": 89,
   "id": "0f1d8ca1-61ba-4fe9-b126-b9ef923313f0",
   "metadata": {},
   "outputs": [
    {
     "data": {
      "text/plain": [
       "Counter({'a': 5, 'b': 2, 'r': 2, 'c': 1, 'd': 1})"
      ]
     },
     "execution_count": 89,
     "metadata": {},
     "output_type": "execute_result"
    }
   ],
   "source": [
    "# 使用 Counter 统计词 中的字母数量。\n",
    "ct = collections.Counter('abracadabra')\n",
    "ct"
   ]
  },
  {
   "cell_type": "code",
   "execution_count": 91,
   "id": "3fd09920-ba86-401b-8cb6-d0ee111427bd",
   "metadata": {},
   "outputs": [
    {
     "data": {
      "text/plain": [
       "Counter({'a': 15, 'z': 6, 'b': 2, 'r': 2, 'c': 1, 'd': 1})"
      ]
     },
     "execution_count": 91,
     "metadata": {},
     "output_type": "execute_result"
    }
   ],
   "source": [
    "# 更新后再统计\n",
    "ct.update('aaaaazzz')\n",
    "ct"
   ]
  },
  {
   "cell_type": "code",
   "execution_count": 92,
   "id": "80826a68-3ce3-437f-8f26-df6fdc4461bb",
   "metadata": {},
   "outputs": [
    {
     "data": {
      "text/plain": [
       "[('a', 15), ('z', 6), ('b', 2)]"
      ]
     },
     "execution_count": 92,
     "metadata": {},
     "output_type": "execute_result"
    }
   ],
   "source": [
    "ct.most_common(3)  # 注意，'b' 和 'r' 两个键并列第三，但是 ct.most_common(3) 只 显示 3 项。"
   ]
  },
  {
   "cell_type": "markdown",
   "id": "0d1227f4-abe2-46c5-b65c-ac222b4dff66",
   "metadata": {},
   "source": [
    "\n",
    "4.shelve.Shelf\n",
    "\n",
    "持久存储字符串键与Python对象之间的映射。"
   ]
  },
  {
   "cell_type": "markdown",
   "id": "5182348c-d972-44da-86e6-b83ef53c7e83",
   "metadata": {},
   "source": [
    "### 子类应继承 UserDict 而不是 dict"
   ]
  },
  {
   "cell_type": "code",
   "execution_count": null,
   "id": "c8b29b69-7245-416d-8787-78b29235af29",
   "metadata": {},
   "outputs": [],
   "source": [
    "# StrKeyDict在插入、更新和查找时，始终把非字符串键转换为str类型\n",
    "import collections\n",
    "\n",
    "class StrKeyDict(collections.UserDict):\n",
    "    def __missing__(self, key):\n",
    "        if isinstance(key, str):\n",
    "            raise KeyError(key)\n",
    "        return self[str(key)]\n",
    "    \n",
    "    def __contains__(self, key):\n",
    "        return str(key) in self.data\n",
    "    \n",
    "    def __setitem__(self, key, item):\n",
    "        self.data[str(key)] = item\n"
   ]
  },
  {
   "cell_type": "markdown",
   "id": "d83e586f-5904-4542-827d-35b7026e3972",
   "metadata": {},
   "source": [
    "## 不可变映射"
   ]
  },
  {
   "cell_type": "code",
   "execution_count": 2,
   "id": "5975f18e-8101-4e73-8e00-0cddbe8835f2",
   "metadata": {},
   "outputs": [
    {
     "data": {
      "text/plain": [
       "'A'"
      ]
     },
     "execution_count": 2,
     "metadata": {},
     "output_type": "execute_result"
    }
   ],
   "source": [
    "from types import  MappingProxyType\n",
    "d = {1:'A'}\n",
    "d_proxy = MappingProxyType(d)\n",
    "d_proxy[1]"
   ]
  },
  {
   "cell_type": "code",
   "execution_count": 3,
   "id": "3f46e0b2-37d6-4615-8b8d-258898b4ff77",
   "metadata": {},
   "outputs": [
    {
     "ename": "TypeError",
     "evalue": "'mappingproxy' object does not support item assignment",
     "output_type": "error",
     "traceback": [
      "\u001b[1;31m---------------------------------------------------------------------------\u001b[0m",
      "\u001b[1;31mTypeError\u001b[0m                                 Traceback (most recent call last)",
      "Cell \u001b[1;32mIn[3], line 1\u001b[0m\n\u001b[1;32m----> 1\u001b[0m \u001b[43md_proxy\u001b[49m\u001b[43m[\u001b[49m\u001b[38;5;241;43m1\u001b[39;49m\u001b[43m]\u001b[49m \u001b[38;5;241m=\u001b[39m\u001b[38;5;124m'\u001b[39m\u001b[38;5;124mB\u001b[39m\u001b[38;5;124m'\u001b[39m\n\u001b[0;32m      2\u001b[0m d_proxy[\u001b[38;5;241m1\u001b[39m]\n",
      "\u001b[1;31mTypeError\u001b[0m: 'mappingproxy' object does not support item assignment"
     ]
    }
   ],
   "source": [
    "d_proxy[1] ='B'   # 不可修改，也不可新增\n",
    "d_proxy[1]"
   ]
  },
  {
   "cell_type": "code",
   "execution_count": 4,
   "id": "5c39f2ed-2d7e-4fe8-a685-ddf5d9a5f10d",
   "metadata": {},
   "outputs": [
    {
     "data": {
      "text/plain": [
       "mappingproxy({1: 'A', 2: 'B'})"
      ]
     },
     "execution_count": 4,
     "metadata": {},
     "output_type": "execute_result"
    }
   ],
   "source": [
    "d[2] = 'B'  \n",
    "d_proxy"
   ]
  },
  {
   "cell_type": "code",
   "execution_count": 5,
   "id": "b5762d1a-9305-49bf-af65-a1c52639e63c",
   "metadata": {},
   "outputs": [
    {
     "data": {
      "text/plain": [
       "'B'"
      ]
     },
     "execution_count": 5,
     "metadata": {},
     "output_type": "execute_result"
    }
   ],
   "source": [
    "d_proxy[2]"
   ]
  },
  {
   "cell_type": "markdown",
   "id": "cc5ad748-f267-458d-8981-ac235b311020",
   "metadata": {},
   "source": [
    "### 字典试图"
   ]
  },
  {
   "cell_type": "code",
   "execution_count": 7,
   "id": "e58857dc-bfea-4261-ba67-2825eb143851",
   "metadata": {},
   "outputs": [
    {
     "name": "stdout",
     "output_type": "stream",
     "text": [
      "dict_values([10, 20, 30])\n",
      "{'a': 10, 'b': 20, 'c': 30}\n",
      "3\n",
      "[10, 20, 30]\n"
     ]
    },
    {
     "ename": "TypeError",
     "evalue": "'dict_values' object is not subscriptable",
     "output_type": "error",
     "traceback": [
      "\u001b[1;31m---------------------------------------------------------------------------\u001b[0m",
      "\u001b[1;31mTypeError\u001b[0m                                 Traceback (most recent call last)",
      "Cell \u001b[1;32mIn[7], line 7\u001b[0m\n\u001b[0;32m      5\u001b[0m \u001b[38;5;28mprint\u001b[39m(\u001b[38;5;28mlen\u001b[39m(values))\n\u001b[0;32m      6\u001b[0m \u001b[38;5;28mprint\u001b[39m(\u001b[38;5;28mlist\u001b[39m(values))\n\u001b[1;32m----> 7\u001b[0m \u001b[43mvalues\u001b[49m\u001b[43m[\u001b[49m\u001b[38;5;241;43m0\u001b[39;49m\u001b[43m]\u001b[49m\n",
      "\u001b[1;31mTypeError\u001b[0m: 'dict_values' object is not subscriptable"
     ]
    }
   ],
   "source": [
    "d = dict(a =10,b=20,c=30)\n",
    "values = d.values()\n",
    "print(values)\n",
    "print(d)\n",
    "print(len(values))\n",
    "print(list(values))\n",
    "values[0]   #不能使用 [] 获取视图中的项\n"
   ]
  },
  {
   "cell_type": "code",
   "execution_count": 9,
   "id": "4ed956ea-b2db-4113-a9cd-2d0c4a6e3cac",
   "metadata": {},
   "outputs": [
    {
     "name": "stdout",
     "output_type": "stream",
     "text": [
      "{'a': 10, 'b': 20, 'c': 30, 'z': 99}\n",
      "dict_values([10, 20, 30, 99])\n"
     ]
    }
   ],
   "source": [
    "d['z'] = 99\n",
    "print(d)\n",
    "print(values)"
   ]
  },
  {
   "cell_type": "code",
   "execution_count": null,
   "id": "51563cab-c0b3-4aa7-8f13-c5648857525f",
   "metadata": {},
   "outputs": [],
   "source": []
  },
  {
   "cell_type": "code",
   "execution_count": 8,
   "id": "1e6cf0a4-0ffe-420d-b80f-b49abf3a739d",
   "metadata": {},
   "outputs": [
    {
     "data": {
      "text/plain": [
       "10"
      ]
     },
     "execution_count": 8,
     "metadata": {},
     "output_type": "execute_result"
    }
   ],
   "source": [
    "val = [10, 20, 30]\n",
    "val[0]"
   ]
  },
  {
   "cell_type": "markdown",
   "id": "4fcc6052-6989-42cc-9fc9-687caaefff8e",
   "metadata": {},
   "source": [
    "### 集合论\n",
    "\n",
    "集合指 set  和  frozenset ,集合是一组唯一的对象，自动去重"
   ]
  },
  {
   "cell_type": "code",
   "execution_count": 10,
   "id": "640de721-2e55-442f-9b44-c73168f7bf01",
   "metadata": {},
   "outputs": [
    {
     "data": {
      "text/plain": [
       "{'bacon', 'eggs', 'spam'}"
      ]
     },
     "execution_count": 10,
     "metadata": {},
     "output_type": "execute_result"
    }
   ],
   "source": [
    "l = ['spam', 'spam', 'eggs', 'spam', 'bacon', 'eggs']\n",
    "set(l)"
   ]
  },
  {
   "cell_type": "code",
   "execution_count": 11,
   "id": "5fbdb774-d220-4322-a027-643450ef0b6a",
   "metadata": {},
   "outputs": [
    {
     "data": {
      "text/plain": [
       "['spam', 'bacon', 'eggs']"
      ]
     },
     "execution_count": 11,
     "metadata": {},
     "output_type": "execute_result"
    }
   ],
   "source": [
    "list(set(l))"
   ]
  },
  {
   "cell_type": "code",
   "execution_count": 17,
   "id": "fb4114e1-1be7-43fd-8a94-58488fbde4ef",
   "metadata": {},
   "outputs": [],
   "source": [
    "dict.fromkeys(l).keys()  \n",
    "\n",
    "d = (dict.fromkeys(l).keys()) # 保留每一项首次出现的位置的顺序"
   ]
  },
  {
   "cell_type": "code",
   "execution_count": 18,
   "id": "8ee00049-14f8-4e7f-b2fd-e3560565125f",
   "metadata": {},
   "outputs": [
    {
     "data": {
      "text/plain": [
       "['spam', 'spam', 'eggs', 'spam', 'bacon', 'eggs']"
      ]
     },
     "execution_count": 18,
     "metadata": {},
     "output_type": "execute_result"
    }
   ],
   "source": [
    "l"
   ]
  },
  {
   "cell_type": "code",
   "execution_count": 21,
   "id": "839e620b-57c7-404e-9df2-360ef7546a9d",
   "metadata": {},
   "outputs": [
    {
     "data": {
      "text/plain": [
       "3"
      ]
     },
     "execution_count": 21,
     "metadata": {},
     "output_type": "execute_result"
    }
   ],
   "source": [
    "len(d & l)  # 比较两个集合中出现共同的次数"
   ]
  },
  {
   "cell_type": "code",
   "execution_count": 22,
   "id": "087fe447-d616-4f03-993c-ec40e2618cf6",
   "metadata": {},
   "outputs": [
    {
     "data": {
      "text/plain": [
       "frozenset({0, 1, 2, 3, 4, 5, 6, 7, 8, 9})"
      ]
     },
     "execution_count": 22,
     "metadata": {},
     "output_type": "execute_result"
    }
   ],
   "source": [
    "frozenset(range(10))"
   ]
  },
  {
   "cell_type": "markdown",
   "id": "5a945ac2-ae1b-484b-a822-6c3cc3d61090",
   "metadata": {},
   "source": [
    "### 集合推导式\n"
   ]
  },
  {
   "cell_type": "code",
   "execution_count": 24,
   "id": "ae9b1fba-0835-44bb-9528-9f04343266fa",
   "metadata": {},
   "outputs": [
    {
     "data": {
      "text/plain": [
       "{'#',\n",
       " '$',\n",
       " '%',\n",
       " '+',\n",
       " '<',\n",
       " '=',\n",
       " '>',\n",
       " '¢',\n",
       " '£',\n",
       " '¤',\n",
       " '¥',\n",
       " '§',\n",
       " '©',\n",
       " '¬',\n",
       " '®',\n",
       " '°',\n",
       " '±',\n",
       " 'µ',\n",
       " '¶',\n",
       " '×',\n",
       " '÷'}"
      ]
     },
     "execution_count": 24,
     "metadata": {},
     "output_type": "execute_result"
    }
   ],
   "source": [
    "from unicodedata import name\n",
    "\n",
    "{chr(i) for i in range(32, 256) if 'SIGN' in name(chr(i),'') }  # chr() 用一个范围在 range（256）内的（就是0～255）整数作参数，返回一个对应的字符。"
   ]
  },
  {
   "cell_type": "code",
   "execution_count": 25,
   "id": "d4ec052c-6cdb-4e20-8cc6-b764adf5c5e4",
   "metadata": {},
   "outputs": [
    {
     "data": {
      "text/plain": [
       "{'b', 'd'}"
      ]
     },
     "execution_count": 25,
     "metadata": {},
     "output_type": "execute_result"
    }
   ],
   "source": [
    "d1 = dict(a=1, b=2, c=3, d=4)\n",
    "d2 = dict(b=20, d=40, e=50)\n",
    "d1.keys() & d2.keys()"
   ]
  },
  {
   "cell_type": "code",
   "execution_count": 26,
   "id": "fe39cb0f-db3c-4761-a4fe-52ad76f521e5",
   "metadata": {},
   "outputs": [
    {
     "data": {
      "text/plain": [
       "{'a'}"
      ]
     },
     "execution_count": 26,
     "metadata": {},
     "output_type": "execute_result"
    }
   ],
   "source": [
    "s = {'a', 'e', 'i'}\n",
    "d1.keys() & s"
   ]
  },
  {
   "cell_type": "code",
   "execution_count": 27,
   "id": "bd4eb823-94e8-4932-9c59-b1aac6f3ef9b",
   "metadata": {},
   "outputs": [
    {
     "data": {
      "text/plain": [
       "{'a', 'b', 'c', 'd', 'e', 'i'}"
      ]
     },
     "execution_count": 27,
     "metadata": {},
     "output_type": "execute_result"
    }
   ],
   "source": [
    "d1.keys() | s"
   ]
  },
  {
   "cell_type": "code",
   "execution_count": 56,
   "id": "d888d415-6910-4633-ad3d-f5d5c3908030",
   "metadata": {},
   "outputs": [],
   "source": [
    "# http://localhost/datawhale/Relph1119/fluent-python/docs/#/contents/ch03"
   ]
  },
  {
   "cell_type": "code",
   "execution_count": null,
   "id": "d00d356d-4ede-476b-95f7-781170569f15",
   "metadata": {},
   "outputs": [],
   "source": []
  },
  {
   "cell_type": "code",
   "execution_count": null,
   "id": "3ac512da-a720-48ee-b318-f0499ff3d12a",
   "metadata": {},
   "outputs": [],
   "source": []
  }
 ],
 "metadata": {
  "kernelspec": {
   "display_name": "Python 3 (ipykernel)",
   "language": "python",
   "name": "python3"
  },
  "language_info": {
   "codemirror_mode": {
    "name": "ipython",
    "version": 3
   },
   "file_extension": ".py",
   "mimetype": "text/x-python",
   "name": "python",
   "nbconvert_exporter": "python",
   "pygments_lexer": "ipython3",
   "version": "3.10.13"
  }
 },
 "nbformat": 4,
 "nbformat_minor": 5
}
