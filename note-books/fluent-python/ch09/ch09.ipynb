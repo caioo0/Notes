{
 "cells": [
  {
   "cell_type": "markdown",
   "id": "3b685360-9aae-4f55-8b2a-66390aeaa66e",
   "metadata": {},
   "source": [
    "# 装饰器和闭包\n",
    "\n",
    "## 装饰器基础知识\n",
    "\n",
    "装饰器是一种可调用对象，其参数时另一个函数（被装饰的函数）\n",
    "\n",
    "装饰器的基本性质：\n",
    "\n",
    "- 装饰器是一个函数或其他可调用对象\n",
    "- 装饰器可以把被装饰的函数替换成别的函数\n",
    "- 装饰器在加载（导入）模块时立即执行。\n",
    "- 严格来说装饰器只是语法糖。"
   ]
  },
  {
   "cell_type": "code",
   "execution_count": 7,
   "id": "0a033bed-7c5b-4aec-b0b6-b5ad7a1d646c",
   "metadata": {},
   "outputs": [
    {
     "name": "stdout",
     "output_type": "stream",
     "text": [
      "running inner()\n"
     ]
    }
   ],
   "source": [
    "def deco(func):\n",
    "    def inner():\n",
    "        print('running inner()')\n",
    "    return inner                 # deco 返回内部函数对象inner\n",
    "\n",
    "@deco\n",
    "def target():                    # 使用deco装饰target\n",
    "    print('running target()')   \n",
    "\n",
    "target()            # 调用被装饰的 target，运行的其实是 inner"
   ]
  },
  {
   "cell_type": "markdown",
   "id": "7d5bc557-458c-4b51-94ca-abf0094a6712",
   "metadata": {},
   "source": [
    "## 何时执行装饰器"
   ]
  },
  {
   "cell_type": "code",
   "execution_count": 8,
   "id": "59714f8a-2843-47cd-9c15-51180a48d520",
   "metadata": {},
   "outputs": [
    {
     "name": "stdout",
     "output_type": "stream",
     "text": [
      "running register(<function f1 at 0x000001E19E15A200>)\n",
      "running register(<function f2 at 0x000001E19E15AE60>)\n",
      "running main()\n",
      "registry -> [<function f1 at 0x000001E19E15A200>, <function f2 at 0x000001E19E15AE60>]\n",
      "running f1()\n",
      "running f2()\n",
      "running f3()\n"
     ]
    }
   ],
   "source": [
    "registry = []  # <1>\n",
    "\n",
    "def register(func):  # <2>\n",
    "    print(f'running register({func})')  # <3>\n",
    "    registry.append(func)  # <4>\n",
    "    return func  # <5>\n",
    "\n",
    "@register  # <6>\n",
    "def f1():\n",
    "    print('running f1()')\n",
    "\n",
    "@register\n",
    "def f2():\n",
    "    print('running f2()')\n",
    "\n",
    "def f3():  # <7>\n",
    "    print('running f3()')\n",
    "\n",
    "def main():  # <8>\n",
    "    print('running main()')\n",
    "    print('registry ->', registry)\n",
    "    f1()\n",
    "    f2()\n",
    "    f3()\n",
    "\n",
    "if __name__ == '__main__':\n",
    "    main()  # <9>"
   ]
  },
  {
   "cell_type": "markdown",
   "id": "36fa14c3-11e1-4844-9311-27d8991df733",
   "metadata": {},
   "source": [
    "## 变量作用域规则"
   ]
  },
  {
   "cell_type": "code",
   "execution_count": 10,
   "id": "c13bc18f-f3ab-4c17-a3f6-2e73dddb7ea4",
   "metadata": {},
   "outputs": [
    {
     "name": "stdout",
     "output_type": "stream",
     "text": [
      "3\n",
      "6\n"
     ]
    }
   ],
   "source": [
    "b = 6\n",
    "def f2(a):\n",
    "    print(a)\n",
    "    print(b)\n",
    "\n",
    "f2(3)"
   ]
  },
  {
   "cell_type": "code",
   "execution_count": 11,
   "id": "49417aa6-e80d-47cc-b5b9-9c09e43a7285",
   "metadata": {},
   "outputs": [
    {
     "name": "stdout",
     "output_type": "stream",
     "text": [
      "3\n"
     ]
    },
    {
     "ename": "UnboundLocalError",
     "evalue": "local variable 'b' referenced before assignment",
     "output_type": "error",
     "traceback": [
      "\u001B[1;31m---------------------------------------------------------------------------\u001B[0m",
      "\u001B[1;31mUnboundLocalError\u001B[0m                         Traceback (most recent call last)",
      "Cell \u001B[1;32mIn[11], line 7\u001B[0m\n\u001B[0;32m      4\u001B[0m     \u001B[38;5;28mprint\u001B[39m(b)\n\u001B[0;32m      5\u001B[0m     b \u001B[38;5;241m=\u001B[39m \u001B[38;5;241m9\u001B[39m     \u001B[38;5;66;03m# 作用域报错\u001B[39;00m\n\u001B[1;32m----> 7\u001B[0m \u001B[43mf2\u001B[49m\u001B[43m(\u001B[49m\u001B[38;5;241;43m3\u001B[39;49m\u001B[43m)\u001B[49m\n",
      "Cell \u001B[1;32mIn[11], line 4\u001B[0m, in \u001B[0;36mf2\u001B[1;34m(a)\u001B[0m\n\u001B[0;32m      2\u001B[0m \u001B[38;5;28;01mdef\u001B[39;00m \u001B[38;5;21mf2\u001B[39m(a):\n\u001B[0;32m      3\u001B[0m     \u001B[38;5;28mprint\u001B[39m(a)\n\u001B[1;32m----> 4\u001B[0m     \u001B[38;5;28mprint\u001B[39m(\u001B[43mb\u001B[49m)\n\u001B[0;32m      5\u001B[0m     b \u001B[38;5;241m=\u001B[39m \u001B[38;5;241m9\u001B[39m\n",
      "\u001B[1;31mUnboundLocalError\u001B[0m: local variable 'b' referenced before assignment"
     ]
    }
   ],
   "source": [
    "b = 6\n",
    "def f2(a):\n",
    "    print(a)\n",
    "    print(b)\n",
    "    b = 9     # 作用域报错\n",
    "\n",
    "f2(3)"
   ]
  },
  {
   "cell_type": "markdown",
   "id": "ca05d96f-c8f8-483e-aec6-3c7432125ae3",
   "metadata": {},
   "source": [
    "## 闭包"
   ]
  },
  {
   "cell_type": "code",
   "execution_count": 16,
   "id": "8e2ac9a8-f844-4fc5-bc98-62abe876d758",
   "metadata": {},
   "outputs": [
    {
     "data": {
      "text/plain": [
       "10.0"
      ]
     },
     "execution_count": 16,
     "metadata": {},
     "output_type": "execute_result"
    }
   ],
   "source": [
    "class Averager():    # 类实现\n",
    "\n",
    "    def __init__(self):\n",
    "        self.series = []\n",
    "\n",
    "    def __call__(self,new_value):\n",
    "        self.series.append(new_value)\n",
    "        total = sum(self.series)\n",
    "        return total/ len(self.series)\n",
    "\n",
    "avg = Averager()\n",
    "avg(10)"
   ]
  },
  {
   "cell_type": "code",
   "execution_count": 17,
   "id": "a3b12465-e5c0-4bb6-b6c8-ee25b615b0fd",
   "metadata": {},
   "outputs": [
    {
     "data": {
      "text/plain": [
       "10.5"
      ]
     },
     "execution_count": 17,
     "metadata": {},
     "output_type": "execute_result"
    }
   ],
   "source": [
    "avg(11)"
   ]
  },
  {
   "cell_type": "code",
   "execution_count": 19,
   "id": "b69f18da-ad63-4d5c-bcbb-39eecdef304c",
   "metadata": {},
   "outputs": [
    {
     "data": {
      "text/plain": [
       "10.0"
      ]
     },
     "execution_count": 19,
     "metadata": {},
     "output_type": "execute_result"
    }
   ],
   "source": [
    "def make_averager():     # 高阶函数 \n",
    "    series = []                    # 闭包\n",
    "\n",
    "    def averager(new_value):\n",
    "        series.append(new_value)   # 自由变量 \n",
    "        total = sum(series)\n",
    "        return total / len(series)\n",
    "\n",
    "    return averager\n",
    "\n",
    "\n",
    "avg  = make_averager()\n",
    "\n",
    "avg(10)"
   ]
  },
  {
   "cell_type": "code",
   "execution_count": 20,
   "id": "17ce8f66-7b4a-41e8-b128-4ceefbb9c96d",
   "metadata": {},
   "outputs": [
    {
     "data": {
      "text/plain": [
       "10.5"
      ]
     },
     "execution_count": 20,
     "metadata": {},
     "output_type": "execute_result"
    }
   ],
   "source": [
    "avg(11)"
   ]
  },
  {
   "cell_type": "code",
   "execution_count": 21,
   "id": "a69899a5-b916-4d0b-81b4-9aa298b2126a",
   "metadata": {},
   "outputs": [
    {
     "data": {
      "text/plain": [
       "('new_value', 'total')"
      ]
     },
     "execution_count": 21,
     "metadata": {},
     "output_type": "execute_result"
    }
   ],
   "source": [
    "avg.__code__.co_varnames"
   ]
  },
  {
   "cell_type": "code",
   "execution_count": 22,
   "id": "4aa52b67-883a-4083-9830-7082c68dd658",
   "metadata": {},
   "outputs": [
    {
     "data": {
      "text/plain": [
       "('series',)"
      ]
     },
     "execution_count": 22,
     "metadata": {},
     "output_type": "execute_result"
    }
   ],
   "source": [
    "avg.__code__.co_freevars"
   ]
  },
  {
   "cell_type": "code",
   "execution_count": 23,
   "id": "6c68f452-de25-4eb8-8650-969af28eaf5b",
   "metadata": {},
   "outputs": [
    {
     "data": {
      "text/plain": [
       "(<cell at 0x000001E19D7EF5E0: list object at 0x000001E19DC4F300>,)"
      ]
     },
     "execution_count": 23,
     "metadata": {},
     "output_type": "execute_result"
    }
   ],
   "source": [
    "avg.__closure__"
   ]
  },
  {
   "cell_type": "code",
   "execution_count": 24,
   "id": "32337061-723c-4742-be29-e8d1a21687f9",
   "metadata": {},
   "outputs": [
    {
     "data": {
      "text/plain": [
       "[10, 11]"
      ]
     },
     "execution_count": 24,
     "metadata": {},
     "output_type": "execute_result"
    }
   ],
   "source": [
    "avg.__closure__[0].cell_contents"
   ]
  },
  {
   "cell_type": "markdown",
   "id": "1bd65ccb-9e0f-4514-9b20-fc0c268581a0",
   "metadata": {},
   "source": [
    "## nonlocal 声明\n",
    "\n",
    "nonlocal：把变量标记为自由变量，便于在函数中为变量赋予新值。"
   ]
  },
  {
   "cell_type": "code",
   "execution_count": 28,
   "id": "e33f5f5a-c0ae-4849-96f2-cd72a6808176",
   "metadata": {},
   "outputs": [
    {
     "data": {
      "text/plain": [
       "10.0"
      ]
     },
     "execution_count": 28,
     "metadata": {},
     "output_type": "execute_result"
    }
   ],
   "source": [
    "def make_averager():\n",
    "    count = 0\n",
    "    total = 0\n",
    "\n",
    "    def averager(new_value):\n",
    "        nonlocal count, total\n",
    "        count += 1\n",
    "        total +=new_value\n",
    "        return total /count \n",
    "    \n",
    "    return averager\n",
    "\n",
    "\n",
    "avg = make_averager()\n",
    "avg(10)"
   ]
  },
  {
   "cell_type": "markdown",
   "id": "78a9d9df-ec2b-4a44-b20b-757998d23357",
   "metadata": {},
   "source": [
    "## 变量查找逻辑\n",
    "\n",
    "- 如果是global x声明，则x来自模块全局作用域，并赋予那个作用域中x的值。\n",
    "- \n",
    "如果是nonlocal x声明，则x来自最近一个定义它的外层函数，并赋予那个函数中局部变量x的值\n",
    "- \n",
    "如果x是参数，或者在函数主体中赋了值，那么x就是局部变\n",
    "- 。\n",
    "如果引用了x，但是没有赋值也不是参数，则需要遵循以下\n",
    "    - 则：\n",
    "在外层函数主体的局部作用域（非局部作用域）内\n",
    "    - 找x。\n",
    "如果在外层作用域类没有找到，则从模块全局作用\n",
    "    - 内读取。\n",
    "如果在模块全局作用域内没有找到，则从__builtins__.__dict\n",
    " \n",
    "## 实现一个简单的装饰器\n",
    "\n",
    "\n",
    "一个会显示函数运行时间的简单的装饰器__中读取。"
   ]
  },
  {
   "cell_type": "code",
   "execution_count": 34,
   "id": "af7630f3-e9cb-4b2d-a268-3af3b4f7673f",
   "metadata": {},
   "outputs": [
    {
     "name": "stdout",
     "output_type": "stream",
     "text": [
      "**************************************** Calling snooze(.123)\n",
      "[0.12713100s] snooze(0.123) -> None\n",
      "**************************************** Calling factorial(6)\n",
      "[0.00000030s] factorial(1) -> 1\n",
      "[0.00000760s] factorial(2) -> 2\n",
      "[0.00001080s] factorial(3) -> 6\n",
      "[0.00001360s] factorial(4) -> 24\n",
      "[0.00001670s] factorial(5) -> 120\n",
      "[0.00002060s] factorial(6) -> 720\n",
      "6! = 720\n"
     ]
    }
   ],
   "source": [
    "import time \n",
    "\n",
    "def clock(func):\n",
    "    def clocked(*args):\n",
    "        t0 = time.perf_counter()\n",
    "        result = func(*args) \n",
    "        elapsed = time.perf_counter() - t0\n",
    "        name = func.__name__\n",
    "        arg_str = ', '.join(repr(arg) for arg in args)\n",
    "        print(f'[{elapsed:0.8f}s] {name}({arg_str}) -> {result!r}') \n",
    "        return result\n",
    "    return clocked\n",
    "\n",
    "@clock\n",
    "def snnooze(seconds):\n",
    "    time.sleep(seconds)\n",
    "\n",
    "@clock\n",
    "def factorial(n):\n",
    "    return 1 if n < 2 else n*factorial(n-1)\n",
    "\n",
    "\n",
    "if __name__ == '__main__': \n",
    "    print('*' * 40, 'Calling snooze(.123)') \n",
    "    snooze(.123) \n",
    "    print('*' * 40, 'Calling factorial(6)') \n",
    "    print('6! =', factorial(6))"
   ]
  },
  {
   "cell_type": "markdown",
   "id": "e7187cde-a96b-4223-8bf9-e6753e9df3f6",
   "metadata": {},
   "source": [
    "# 工作原理\n"
   ]
  },
  {
   "cell_type": "code",
   "execution_count": null,
   "id": "c691692b-94f5-4403-9da7-3fa36c19360f",
   "metadata": {},
   "outputs": [],
   "source": [
    "@clock \n",
    "def factorial(n): \n",
    "    return 1 if n < 2 else n*factorial(n-1)\n",
    "\n",
    "# 其实等价于以下内容\n",
    "\n",
    "def factorial(n): \n",
    "    return 1 if n < 2 else n*factorial(n-1) \n",
    "\n",
    "factorial = clock(factorial)"
   ]
  },
  {
   "cell_type": "markdown",
   "id": "530d40c3-d8e5-440c-9c5d-5235a925cd55",
   "metadata": {},
   "source": [
    "装饰器的主要作用是在每次调用被装饰的函数时计时，把运行时间、传入的参数和调用的结果打印出来。"
   ]
  },
  {
   "cell_type": "code",
   "execution_count": 2,
   "id": "bf34ac0c-401d-4d00-9d22-b88ee0dcdfbd",
   "metadata": {},
   "outputs": [],
   "source": [
    "import time\n",
    "import functools\n",
    "\n",
    "\n",
    "def clock(func):\n",
    "    @functools.wraps(func)\n",
    "    def clocked(*args, **kwargs):\n",
    "        t0 = time.perf_counter()\n",
    "        # 调用被装饰的函数\n",
    "        result = func(*args, **kwargs)\n",
    "        \n",
    "        elapsed = time.perf_counter() - t0\n",
    "        name = func.__name__\n",
    "        arg_lst = [repr(arg) for arg in args]\n",
    "        arg_lst.extend(f'{k}={v!r}' for k, v in kwargs.items())\n",
    "        arg_str = ', '.join(arg_lst)\n",
    "        print(f'[{elapsed:0.8f}s] {name}({arg_str}) -> {result!r}')\n",
    "        \n",
    "        return result\n",
    "    return clocked\n"
   ]
  },
  {
   "cell_type": "markdown",
   "id": "69f42e8d-e26e-4041-9c5d-aa2dc55a1f69",
   "metadata": {},
   "source": [
    "@clock\n",
    "def snooze(seconds):\n",
    "    time.sleep(seconds)\n",
    "\n",
    "@clock\n",
    "def factorial(n):\n",
    "    return 1 if n < 2 else n*factorial(n-1)\n"
   ]
  },
  {
   "cell_type": "code",
   "execution_count": 31,
   "id": "4e046ce1-7abe-4af3-aba8-8612e78da851",
   "metadata": {},
   "outputs": [
    {
     "name": "stdout",
     "output_type": "stream",
     "text": [
      "**************************************** Calling snooze(.123)\n",
      "[0.12899290s] snooze(0.123) -> None\n",
      "**************************************** Calling factorial(6)\n",
      "[0.00000030s] factorial(1) -> 1\n",
      "[0.00000910s] factorial(2) -> 2\n",
      "[0.00001300s] factorial(3) -> 6\n",
      "[0.00001620s] factorial(4) -> 24\n",
      "[0.00001980s] factorial(5) -> 120\n",
      "[0.00002380s] factorial(6) -> 720\n",
      "6! = 720\n"
     ]
    }
   ],
   "source": [
    "print('*' * 40, 'Calling snooze(.123)')\n",
    "snooze(.123)\n",
    "print('*' * 40, 'Calling factorial(6)')\n",
    "print('6! =', factorial(6))\n"
   ]
  },
  {
   "cell_type": "markdown",
   "id": "b16fb6b6-d7e1-4772-90ee-8328c317c0b1",
   "metadata": {},
   "source": [
    "## 标准库中的装饰器\n",
    "\n",
    "### functools.cache\n",
    "\n",
    "实现备忘功能，能把耗时的函数得到的结果保存起来，避免传入相同的参数时重复计算。"
   ]
  },
  {
   "cell_type": "code",
   "execution_count": 4,
   "id": "edcc80f0-ff72-4ec4-8e08-b13197de296f",
   "metadata": {},
   "outputs": [],
   "source": [
    "import functools\n",
    "\n",
    "\n",
    "@functools.cache\n",
    "@clock              # 上面clock函数\n",
    "def fibonacci(n):\n",
    "    if n < 2:\n",
    "        return n\n",
    "    return fibonacci(n - 2) + fibonacci(n - 1)\n"
   ]
  },
  {
   "cell_type": "code",
   "execution_count": 5,
   "id": "bf775cd4-2728-409e-a6c1-032dfd36e76d",
   "metadata": {},
   "outputs": [
    {
     "name": "stdout",
     "output_type": "stream",
     "text": [
      "[0.00000070s] fibonacci(0) -> 0\n",
      "[0.00000140s] fibonacci(1) -> 1\n",
      "[0.00028440s] fibonacci(2) -> 1\n",
      "[0.00000130s] fibonacci(3) -> 2\n",
      "[0.00031440s] fibonacci(4) -> 3\n",
      "[0.00000100s] fibonacci(5) -> 5\n",
      "[0.00034200s] fibonacci(6) -> 8\n"
     ]
    },
    {
     "data": {
      "text/plain": [
       "8"
      ]
     },
     "execution_count": 5,
     "metadata": {},
     "output_type": "execute_result"
    }
   ],
   "source": [
    "fibonacci(6)"
   ]
  },
  {
   "cell_type": "code",
   "execution_count": null,
   "id": "9d96c764-5ee5-40de-8523-4d4a573fea0f",
   "metadata": {},
   "outputs": [],
   "source": [
    "类似于：上述的叠放装饰器相当于fibonacci = functools.cache(clock(fibonacci)"
   ]
  },
  {
   "cell_type": "markdown",
   "id": "d07760f1-72cf-475b-b3af-8067c2a33515",
   "metadata": {},
   "source": [
    "## 单分派泛化函数\n",
    "\n",
    "`functools.singledispatch` 装饰器可以把整体方案拆分成多个模块，甚至可以为第三方包中无法编辑的类型提供专门的函数，将普通函数变成了泛化函数的入口，即为单分派。如果根据多个参数选择专门的函数，则是多分派。\n",
    "\n",
    "\n",
    "开发一个调试Web应用程序的工具，生成HTML，以显示不同类型的Python对象。需要满足如下功能：\n",
    "\n",
    "- 当参数为str时，内部的换行符替换为<br/>\\n，不使用<pre>标签，使用<p>。\n",
    "- 当参数为int时，以十进制和十六进制显示数（bool除外）。\n",
    "- 当参数为list时，输出一个HTML列表，根据各项的类型进行格式化。\n",
    "- 当参数为float和Decimal时，正常输出值，外加分数形式。"
   ]
  },
  {
   "cell_type": "code",
   "execution_count": 6,
   "id": "bc004ec4-8f11-4f3d-bd9f-119641cd064d",
   "metadata": {},
   "outputs": [],
   "source": [
    "from functools import singledispatch\n",
    "from collections import abc\n",
    "import fractions\n",
    "import decimal\n",
    "import html\n",
    "import numbers\n",
    "\n",
    "@singledispatch\n",
    "def htmlize(obj: object) -> str:\n",
    "    content = html.escape(repr(obj))\n",
    "    return f'<pre>{content}</pre>'\n",
    "\n",
    "@htmlize.register\n",
    "def _(text: str) -> str: \n",
    "    content = html.escape(text).replace('\\n', '<br/>\\n')\n",
    "    return f'<p>{content}</p>'\n",
    "\n",
    "@htmlize.register\n",
    "def _(seq: abc.Sequence) -> str:\n",
    "    inner = '</li>\\n<li>'.join(htmlize(item) for item in seq)\n",
    "    return '<ul>\\n<li>' + inner + '</li>\\n</ul>'\n",
    "\n",
    "@htmlize.register\n",
    "def _(n: numbers.Integral) -> str:\n",
    "    return f'<pre>{n} (0x{n:x})</pre>'\n",
    "\n",
    "@htmlize.register\n",
    "def _(n: bool) -> str:\n",
    "    return f'<pre>{n}</pre>'\n",
    "\n",
    "@htmlize.register(fractions.Fraction)\n",
    "def _(x) -> str:\n",
    "    frac = fractions.Fraction(x)\n",
    "    return f'<pre>{frac.numerator}/{frac.denominator}</pre>'\n",
    "\n",
    "@htmlize.register(decimal.Decimal)\n",
    "@htmlize.register(float)\n",
    "def _(x) -> str:\n",
    "    frac = fractions.Fraction(x).limit_denominator()\n",
    "    return f'<pre>{x} ({frac.numerator}/{frac.denominator})</pre>'\n"
   ]
  },
  {
   "cell_type": "code",
   "execution_count": 7,
   "id": "f453bf92-3916-4e0c-8a51-ae84d428c075",
   "metadata": {},
   "outputs": [
    {
     "data": {
      "text/plain": [
       "'<pre>{1, 2, 3}</pre>'"
      ]
     },
     "execution_count": 7,
     "metadata": {},
     "output_type": "execute_result"
    }
   ],
   "source": [
    "htmlize({1, 2, 3})\n"
   ]
  },
  {
   "cell_type": "code",
   "execution_count": 8,
   "id": "d06cfb7b-3679-4ea5-8427-4ffdd4d295ca",
   "metadata": {},
   "outputs": [
    {
     "data": {
      "text/plain": [
       "'<pre>&lt;built-in function abs&gt;</pre>'"
      ]
     },
     "execution_count": 8,
     "metadata": {},
     "output_type": "execute_result"
    }
   ],
   "source": [
    "htmlize(abs)"
   ]
  },
  {
   "cell_type": "code",
   "execution_count": 9,
   "id": "da42bcc8-04fe-41d1-8c4d-b58af8de7d15",
   "metadata": {},
   "outputs": [
    {
     "data": {
      "text/plain": [
       "'<p>Heimlich &amp; Co.<br/>\\n- a game</p>'"
      ]
     },
     "execution_count": 9,
     "metadata": {},
     "output_type": "execute_result"
    }
   ],
   "source": [
    "htmlize('Heimlich & Co.\\n- a game')\n"
   ]
  },
  {
   "cell_type": "code",
   "execution_count": 10,
   "id": "f84d7c06-5470-473e-97a0-eb5a9be99433",
   "metadata": {},
   "outputs": [
    {
     "data": {
      "text/plain": [
       "'<pre>42 (0x2a)</pre>'"
      ]
     },
     "execution_count": 10,
     "metadata": {},
     "output_type": "execute_result"
    }
   ],
   "source": [
    "htmlize(42)\n"
   ]
  },
  {
   "cell_type": "code",
   "execution_count": 11,
   "id": "bd34f52f-d562-4b2c-91bf-68ee2ac16965",
   "metadata": {},
   "outputs": [
    {
     "name": "stdout",
     "output_type": "stream",
     "text": [
      "<ul>\n",
      "<li><p>alpha</p></li>\n",
      "<li><pre>66 (0x42)</pre></li>\n",
      "<li><pre>{1, 2, 3}</pre></li>\n",
      "</ul>\n"
     ]
    }
   ],
   "source": [
    "print(htmlize(['alpha', 66, {3, 2, 1}]))\n"
   ]
  },
  {
   "cell_type": "code",
   "execution_count": 12,
   "id": "0837fffc-141d-4a5a-9974-0a5748a266b5",
   "metadata": {},
   "outputs": [
    {
     "data": {
      "text/plain": [
       "'<pre>True</pre>'"
      ]
     },
     "execution_count": 12,
     "metadata": {},
     "output_type": "execute_result"
    }
   ],
   "source": [
    "htmlize(True)\n"
   ]
  },
  {
   "cell_type": "code",
   "execution_count": 13,
   "id": "a32cea53-3bea-4f16-9292-2ed1a725b4bb",
   "metadata": {},
   "outputs": [
    {
     "data": {
      "text/plain": [
       "'<pre>0.02380952 (1/42)</pre>'"
      ]
     },
     "execution_count": 13,
     "metadata": {},
     "output_type": "execute_result"
    }
   ],
   "source": [
    "htmlize(decimal.Decimal('0.02380952'))\n"
   ]
  },
  {
   "cell_type": "markdown",
   "id": "1770ffdb-aadc-48a0-8ade-b7217cc0b8c5",
   "metadata": {},
   "source": [
    "## 参数化装饰器\n",
    "\n",
    "接收其他参数的装饰器：创建一个装饰器工厂函数来接收那些参数，然后再返回一个装饰器，应用到被装饰的函数上。"
   ]
  },
  {
   "cell_type": "code",
   "execution_count": 14,
   "id": "69555391-8083-4b4b-8427-39b37783a2e4",
   "metadata": {},
   "outputs": [],
   "source": [
    "import time\n",
    "\n",
    "DEFAULT_FMT = '[{elapsed:0.8f}s] {name}({args}) -> {result}'\n",
    "\n",
    "\n",
    "def clock(fmt=DEFAULT_FMT): # clock是参数化装饰器的工厂函数\n",
    "    def decorate(func):     # 真正的装饰器 \n",
    "        def clocked(*_args):  # 包装被装饰的函数 \n",
    "            t0 = time.perf_counter()\n",
    "            _result = func(*_args)  # 调用被装饰的函数\n",
    "            elapsed = time.perf_counter() - t0\n",
    "            name = func.__name__\n",
    "            args = ', '.join(repr(arg) for arg in _args) \n",
    "            result = repr(_result)  \n",
    "            print(fmt.format(**locals()))\n",
    "            return _result\n",
    "\n",
    "        return clocked \n",
    "\n",
    "    return decorate\n"
   ]
  },
  {
   "cell_type": "code",
   "execution_count": 15,
   "id": "c15de541-b57a-440e-b1d0-56c61298a698",
   "metadata": {},
   "outputs": [
    {
     "name": "stdout",
     "output_type": "stream",
     "text": [
      "[0.13265860s] snooze(0.123) -> None\n",
      "[0.12444340s] snooze(0.123) -> None\n",
      "[0.12380400s] snooze(0.123) -> None\n"
     ]
    }
   ],
   "source": [
    "@clock()\n",
    "def snooze(seconds):\n",
    "    time.sleep(seconds)\n",
    "\n",
    "\n",
    "for i in range(3):\n",
    "    snooze(.123)\n"
   ]
  },
  {
   "cell_type": "code",
   "execution_count": 16,
   "id": "431735bb-87ea-424c-a41d-29204433c419",
   "metadata": {},
   "outputs": [
    {
     "name": "stdout",
     "output_type": "stream",
     "text": [
      "snooze: 0.13264110000000073s\n",
      "snooze: 0.12490290000005189s\n",
      "snooze: 0.12560629999995854s\n"
     ]
    }
   ],
   "source": [
    "@clock('{name}: {elapsed}s')\n",
    "def snooze(seconds):\n",
    "    time.sleep(seconds)\n",
    "\n",
    "for i in range(3):\n",
    "    snooze(.123)\n"
   ]
  },
  {
   "cell_type": "code",
   "execution_count": 17,
   "id": "23d477e7-b5ed-4231-a7db-c80caf195512",
   "metadata": {},
   "outputs": [
    {
     "name": "stdout",
     "output_type": "stream",
     "text": [
      "snooze(0.123) dt=0.134s\n",
      "snooze(0.123) dt=0.124s\n",
      "snooze(0.123) dt=0.124s\n"
     ]
    }
   ],
   "source": [
    "@clock('{name}({args}) dt={elapsed:0.3f}s')\n",
    "def snooze(seconds):\n",
    "    time.sleep(seconds)\n",
    "\n",
    "for i in range(3):\n",
    "    snooze(.123)\n"
   ]
  },
  {
   "cell_type": "markdown",
   "id": "a8434d85-f03d-4151-afaa-b2f698f56d56",
   "metadata": {},
   "source": [
    "## 基于类的clock装饰器"
   ]
  },
  {
   "cell_type": "code",
   "execution_count": 19,
   "id": "92d3de62-9bb2-4a89-a53a-4bfd54aca115",
   "metadata": {},
   "outputs": [],
   "source": [
    "import time\n",
    "\n",
    "DEFAULT_FMT = '[{elapsed:0.8f}s] {name}({args}) -> {result}'\n",
    "\n",
    "class clock:\n",
    "\n",
    "    def __init__(self, fmt=DEFAULT_FMT):  \n",
    "        self.fmt = fmt\n",
    "\n",
    "    def __call__(self, func):\n",
    "        def clocked(*_args):\n",
    "            t0 = time.perf_counter()\n",
    "            _result = func(*_args)\n",
    "            elapsed = time.perf_counter() - t0\n",
    "            name = func.__name__\n",
    "            args = ', '.join(repr(arg) for arg in _args)\n",
    "            result = repr(_result)\n",
    "            print(self.fmt.format(**locals()))\n",
    "            return _result\n",
    "        return clocked\n"
   ]
  },
  {
   "cell_type": "code",
   "execution_count": null,
   "id": "605bd54e-4dcd-47cd-ada1-3088d9fd1711",
   "metadata": {},
   "outputs": [],
   "source": []
  }
 ],
 "metadata": {
  "kernelspec": {
   "display_name": "Python 3 (ipykernel)",
   "language": "python",
   "name": "python3"
  },
  "language_info": {
   "codemirror_mode": {
    "name": "ipython",
    "version": 3
   },
   "file_extension": ".py",
   "mimetype": "text/x-python",
   "name": "python",
   "nbconvert_exporter": "python",
   "pygments_lexer": "ipython3",
   "version": "3.10.13"
  }
 },
 "nbformat": 4,
 "nbformat_minor": 5
}