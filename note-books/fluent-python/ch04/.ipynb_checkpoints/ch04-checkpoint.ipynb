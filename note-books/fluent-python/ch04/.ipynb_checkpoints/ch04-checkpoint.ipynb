{
 "cells": [
  {
   "cell_type": "markdown",
   "id": "61bb30ec-8da0-4990-a865-db98d68ab460",
   "metadata": {},
   "source": [
    "# 第 4 章 Unicode 文本和字节序列\n",
    "\n",
    "> 文本给人类阅读，字节序列供计算机处理。\n",
    "\n",
    "## 字符问题 \n",
    "\r",
    "- \n",
    "字符的标识：码点，`是0~111411`1范围内的数（十进制），在Unicode标准中`以4~`6个十六进制数表示，前面加“U+”，取值范围`是U+0000~U+10FFF`F\n",
    "  \n",
    "-  \r\n",
    "字符的具体描述取决于所用的编码。编码是在码点和字节序列之间转换时使用的算\n",
    "\n",
    "把码点转换成字节序列的过程叫编码，把字节序列转换成码点的过程叫 解码法。"
   ]
  },
  {
   "cell_type": "code",
   "execution_count": 1,
   "id": "112f9363-1d9d-41e6-a373-54659e0feb09",
   "metadata": {},
   "outputs": [
    {
     "data": {
      "text/plain": [
       "4"
      ]
     },
     "execution_count": 1,
     "metadata": {},
     "output_type": "execute_result"
    }
   ],
   "source": [
    "# 编码和解码\n",
    "s = 'café'\n",
    "len(s)"
   ]
  },
  {
   "cell_type": "code",
   "execution_count": 3,
   "id": "ba6a0d70-f633-490c-9a47-8a14408a533e",
   "metadata": {},
   "outputs": [
    {
     "name": "stdout",
     "output_type": "stream",
     "text": [
      "b'caf\\xc3\\xa9'\n"
     ]
    },
    {
     "data": {
      "text/plain": [
       "5"
      ]
     },
     "execution_count": 3,
     "metadata": {},
     "output_type": "execute_result"
    }
   ],
   "source": [
    "b = s.encode('utf8')\n",
    "\n",
    "print(b)\n",
    "\n",
    "len(b)"
   ]
  },
  {
   "cell_type": "code",
   "execution_count": 4,
   "id": "aee36664-2f87-4950-8811-685a58a89d41",
   "metadata": {},
   "outputs": [
    {
     "data": {
      "text/plain": [
       "'café'"
      ]
     },
     "execution_count": 4,
     "metadata": {},
     "output_type": "execute_result"
    }
   ],
   "source": [
    "b.decode('utf8')"
   ]
  },
  {
   "cell_type": "code",
   "execution_count": 12,
   "id": "2c965cd1-3b55-49d2-a95b-36f7cf0fa345",
   "metadata": {},
   "outputs": [
    {
     "data": {
      "text/plain": [
       "99"
      ]
     },
     "execution_count": 12,
     "metadata": {},
     "output_type": "execute_result"
    }
   ],
   "source": [
    "b[0]"
   ]
  },
  {
   "cell_type": "code",
   "execution_count": 13,
   "id": "b698b88f-2537-429e-98cf-e8f133ac5b6f",
   "metadata": {},
   "outputs": [
    {
     "data": {
      "text/plain": [
       "99"
      ]
     },
     "execution_count": 13,
     "metadata": {},
     "output_type": "execute_result"
    }
   ],
   "source": [
    "ord('c')"
   ]
  },
  {
   "cell_type": "code",
   "execution_count": 19,
   "id": "474523f9-98d6-48bd-ab79-fb3a48fb12a1",
   "metadata": {},
   "outputs": [
    {
     "data": {
      "text/plain": [
       "b'caf'"
      ]
     },
     "execution_count": 19,
     "metadata": {},
     "output_type": "execute_result"
    }
   ],
   "source": [
    "b[0:3]"
   ]
  },
  {
   "cell_type": "markdown",
   "id": "975f3a98-1be8-4fa8-9468-8550ebda1b59",
   "metadata": {},
   "source": [
    "## 字节概要"
   ]
  },
  {
   "cell_type": "code",
   "execution_count": 6,
   "id": "2b69f104-77c7-4b9d-a4a1-5c3cc62e3c12",
   "metadata": {},
   "outputs": [
    {
     "data": {
      "text/plain": [
       "b'caf\\xc3\\xa9'"
      ]
     },
     "execution_count": 6,
     "metadata": {},
     "output_type": "execute_result"
    }
   ],
   "source": [
    "cafe = bytes('café', encoding='utf_8') \n",
    "cafe"
   ]
  },
  {
   "cell_type": "code",
   "execution_count": 7,
   "id": "54d58783-3350-408c-bfd0-1df5d90f46dd",
   "metadata": {},
   "outputs": [
    {
     "data": {
      "text/plain": [
       "99"
      ]
     },
     "execution_count": 7,
     "metadata": {},
     "output_type": "execute_result"
    }
   ],
   "source": [
    "cafe[0]"
   ]
  },
  {
   "cell_type": "code",
   "execution_count": 8,
   "id": "eff7b34e-ef25-40d2-8a98-75b54f658415",
   "metadata": {},
   "outputs": [
    {
     "data": {
      "text/plain": [
       "b'c'"
      ]
     },
     "execution_count": 8,
     "metadata": {},
     "output_type": "execute_result"
    }
   ],
   "source": [
    "cafe[:1]"
   ]
  },
  {
   "cell_type": "code",
   "execution_count": 9,
   "id": "709f4936-ea87-4267-919b-c0fe48e14445",
   "metadata": {},
   "outputs": [],
   "source": [
    "cafe_arr = bytearray(cafe)"
   ]
  },
  {
   "cell_type": "code",
   "execution_count": 10,
   "id": "f5720a04-b9ba-4421-91de-b3b8e7cacffa",
   "metadata": {},
   "outputs": [
    {
     "data": {
      "text/plain": [
       "bytearray(b'caf\\xc3\\xa9')"
      ]
     },
     "execution_count": 10,
     "metadata": {},
     "output_type": "execute_result"
    }
   ],
   "source": [
    "cafe_arr"
   ]
  },
  {
   "cell_type": "code",
   "execution_count": 11,
   "id": "beb4eb18-b6df-4df8-97b1-843d4fda47cc",
   "metadata": {},
   "outputs": [
    {
     "data": {
      "text/plain": [
       "bytearray(b'\\xa9')"
      ]
     },
     "execution_count": 11,
     "metadata": {},
     "output_type": "execute_result"
    }
   ],
   "source": [
    "cafe_arr[-1:]"
   ]
  },
  {
   "cell_type": "code",
   "execution_count": null,
   "id": "b8fd322a-b0ad-40a4-bf0f-ddeaa4104d32",
   "metadata": {},
   "outputs": [],
   "source": [
    "## 基本的编码解码器\n",
    "\n",
    "Python 自带超过 100 种编码解码器（codec，encoder/decoder）"
   ]
  },
  {
   "cell_type": "code",
   "execution_count": 20,
   "id": "c3477a90-5dda-4ae9-910f-ae7f6087ecc7",
   "metadata": {},
   "outputs": [
    {
     "name": "stdout",
     "output_type": "stream",
     "text": [
      "latin_1\tb'El Ni\\xf1o'\n",
      "utf_8\tb'El Ni\\xc3\\xb1o'\n",
      "utf_16\tb'\\xff\\xfeE\\x00l\\x00 \\x00N\\x00i\\x00\\xf1\\x00o\\x00'\n"
     ]
    }
   ],
   "source": [
    "for codec in ['latin_1', 'utf_8', 'utf_16']:\n",
    "    print(codec, 'El Niño'.encode(codec), sep='\\t')"
   ]
  },
  {
   "cell_type": "markdown",
   "id": "f05b62bc-32ef-4289-aae2-569da8422d11",
   "metadata": {},
   "source": [
    "## 处理编码和解码问题\n",
    "\n",
    "处理UnicodeEncodeError"
   ]
  },
  {
   "cell_type": "code",
   "execution_count": 21,
   "id": "ddbe99f0-4b3f-4838-be3f-6a49c5263da8",
   "metadata": {},
   "outputs": [
    {
     "data": {
      "text/plain": [
       "b'S\\xc4\\x81o Paulo'"
      ]
     },
     "execution_count": 21,
     "metadata": {},
     "output_type": "execute_result"
    }
   ],
   "source": [
    "# 把str编码成字节序列，有些成功，有些需要处理错误\n",
    "city = 'Sāo Paulo'\n",
    "city.encode('utf_8')\n"
   ]
  },
  {
   "cell_type": "code",
   "execution_count": 22,
   "id": "8f68fc08-d32b-4961-8664-8fa17a952975",
   "metadata": {},
   "outputs": [
    {
     "data": {
      "text/plain": [
       "b'\\xff\\xfeS\\x00\\x01\\x01o\\x00 \\x00P\\x00a\\x00u\\x00l\\x00o\\x00'"
      ]
     },
     "execution_count": 22,
     "metadata": {},
     "output_type": "execute_result"
    }
   ],
   "source": [
    "city.encode('utf_16')"
   ]
  },
  {
   "cell_type": "code",
   "execution_count": 23,
   "id": "e0375259-92e8-433b-a85e-735569a58743",
   "metadata": {},
   "outputs": [
    {
     "data": {
      "text/plain": [
       "b'So Paulo'"
      ]
     },
     "execution_count": 23,
     "metadata": {},
     "output_type": "execute_result"
    }
   ],
   "source": [
    "city.encode('iso8859_1', errors='ignore')"
   ]
  },
  {
   "cell_type": "code",
   "execution_count": 24,
   "id": "e9bc42d3-b971-4e63-ae05-4c83d0ab81d0",
   "metadata": {},
   "outputs": [
    {
     "data": {
      "text/plain": [
       "b'S?o Paulo'"
      ]
     },
     "execution_count": 24,
     "metadata": {},
     "output_type": "execute_result"
    }
   ],
   "source": [
    "city.encode('cp437', errors='replace')\n"
   ]
  },
  {
   "cell_type": "markdown",
   "id": "2bcc4900-d258-4044-9da0-2690a05e17db",
   "metadata": {},
   "source": [
    "处理UnicodeDecodeError"
   ]
  },
  {
   "cell_type": "code",
   "execution_count": 25,
   "id": "eb7213fd-4c00-406f-bbc8-7f6f4d3c0e75",
   "metadata": {},
   "outputs": [
    {
     "data": {
      "text/plain": [
       "'Montréal'"
      ]
     },
     "execution_count": 25,
     "metadata": {},
     "output_type": "execute_result"
    }
   ],
   "source": [
    "# 把字节序列解码成str，有些成功，有些需要处理错误\n",
    "octets = b'Montr\\xe9al'\n",
    "octets.decode('cp1252')"
   ]
  },
  {
   "cell_type": "code",
   "execution_count": 26,
   "id": "85590e34-0464-4a19-b010-4d00018d63cf",
   "metadata": {},
   "outputs": [
    {
     "data": {
      "text/plain": [
       "'Montrιal'"
      ]
     },
     "execution_count": 26,
     "metadata": {},
     "output_type": "execute_result"
    }
   ],
   "source": [
    "octets.decode('iso8859_7')\n"
   ]
  },
  {
   "cell_type": "code",
   "execution_count": 27,
   "id": "39ab081a-0d01-4796-b344-638a7189add5",
   "metadata": {},
   "outputs": [
    {
     "data": {
      "text/plain": [
       "'MontrИal'"
      ]
     },
     "execution_count": 27,
     "metadata": {},
     "output_type": "execute_result"
    }
   ],
   "source": [
    "octets.decode('koi8_r')\n"
   ]
  },
  {
   "cell_type": "code",
   "execution_count": 28,
   "id": "596d51b4-6a55-4e0b-af9a-23e1d5619449",
   "metadata": {},
   "outputs": [
    {
     "data": {
      "text/plain": [
       "'Montr�al'"
      ]
     },
     "execution_count": 28,
     "metadata": {},
     "output_type": "execute_result"
    }
   ],
   "source": [
    "octets.decode('utf_8', errors='replace')\n"
   ]
  },
  {
   "cell_type": "markdown",
   "id": "66cb1d1d-926f-4324-9754-b30a36e3c315",
   "metadata": {},
   "source": [
    "默认编码\n",
    "\n",
    "\n",
    "实用工具：chardetect\n",
    "\n",
    "```\n",
    "chardetect 04-text-byte.asciidoc\n",
    "```"
   ]
  },
  {
   "cell_type": "code",
   "execution_count": 32,
   "id": "38b24fc2-5126-499c-b28c-ec0951167272",
   "metadata": {},
   "outputs": [
    {
     "name": "stdout",
     "output_type": "stream",
     "text": [
      " locale.getpreferredencoding() -> 'cp936'\n",
      "                 type(my_file) -> <class '_io.TextIOWrapper'>\n",
      "              my_file.encoding -> 'cp936'\n",
      "           sys.stdout.isatty() -> False\n",
      "           sys.stdout.encoding -> 'UTF-8'\n",
      "            sys.stdin.isatty() -> False\n",
      "            sys.stdin.encoding -> 'gbk'\n",
      "           sys.stderr.isatty() -> False\n",
      "           sys.stderr.encoding -> 'UTF-8'\n",
      "      sys.getdefaultencoding() -> 'utf-8'\n",
      "   sys.getfilesystemencoding() -> 'utf-8'\n"
     ]
    }
   ],
   "source": [
    "import locale\n",
    "import sys\n",
    "\n",
    "expressions = \"\"\"\n",
    "        locale.getpreferredencoding()\n",
    "        type(my_file)\n",
    "        my_file.encoding\n",
    "        sys.stdout.isatty()\n",
    "        sys.stdout.encoding\n",
    "        sys.stdin.isatty()\n",
    "        sys.stdin.encoding\n",
    "        sys.stderr.isatty()\n",
    "        sys.stderr.encoding\n",
    "        sys.getdefaultencoding()\n",
    "        sys.getfilesystemencoding()\n",
    "    \"\"\"\n",
    "\n",
    "my_file = open('dummy', 'w')\n",
    "\n",
    "for expression in expressions.split():\n",
    "    value = eval(expression)   # eval() 函数用来执行一个字符串表达式，并返回表达式的值。\n",
    "    print(f'{expression:>30} -> {value!r}')\n"
   ]
  },
  {
   "cell_type": "code",
   "execution_count": null,
   "id": "651dce10-5c26-41eb-98f2-b66332e5127e",
   "metadata": {},
   "outputs": [],
   "source": [
    "BOM：有用的鬼符"
   ]
  },
  {
   "cell_type": "code",
   "execution_count": 33,
   "id": "94cfda39-d9da-4969-903d-7cfaf9cf3cdf",
   "metadata": {},
   "outputs": [
    {
     "data": {
      "text/plain": [
       "b'\\xff\\xfeE\\x00l\\x00 \\x00N\\x00i\\x00\\xf1\\x00o\\x00'"
      ]
     },
     "execution_count": 33,
     "metadata": {},
     "output_type": "execute_result"
    }
   ],
   "source": [
    "u16 = 'El Niño'.encode('utf_16')\n",
    "u16"
   ]
  },
  {
   "cell_type": "code",
   "execution_count": 34,
   "id": "1adb323e-7342-4b6d-88a5-cacb444d1666",
   "metadata": {},
   "outputs": [
    {
     "data": {
      "text/plain": [
       "[255, 254, 69, 0, 108, 0, 32, 0, 78, 0, 105, 0, 241, 0, 111, 0]"
      ]
     },
     "execution_count": 34,
     "metadata": {},
     "output_type": "execute_result"
    }
   ],
   "source": [
    "list(u16)"
   ]
  },
  {
   "cell_type": "markdown",
   "id": "0dc1d3e0-0287-4ace-b1c0-8d2747a1de19",
   "metadata": {},
   "source": [
    "## 处理文本文件"
   ]
  },
  {
   "cell_type": "code",
   "execution_count": 35,
   "id": "f102cb93-3aeb-4a48-894b-4a9dfae9c78f",
   "metadata": {},
   "outputs": [
    {
     "data": {
      "text/plain": [
       "4"
      ]
     },
     "execution_count": 35,
     "metadata": {},
     "output_type": "execute_result"
    }
   ],
   "source": [
    "open('cafe.txt', 'w', encoding='utf_8').write('café')"
   ]
  },
  {
   "cell_type": "code",
   "execution_count": 36,
   "id": "956076cb-325e-4e67-ad01-69b09b74e1c3",
   "metadata": {},
   "outputs": [
    {
     "data": {
      "text/plain": [
       "'caf茅'"
      ]
     },
     "execution_count": 36,
     "metadata": {},
     "output_type": "execute_result"
    }
   ],
   "source": [
    "open('cafe.txt').read()"
   ]
  },
  {
   "cell_type": "code",
   "execution_count": 38,
   "id": "4e8dbbe2-dcac-49c0-aa65-e9a89f478652",
   "metadata": {},
   "outputs": [
    {
     "data": {
      "text/plain": [
       "<_io.TextIOWrapper name='cafe.txt' mode='w' encoding='utf_8'>"
      ]
     },
     "execution_count": 38,
     "metadata": {},
     "output_type": "execute_result"
    }
   ],
   "source": [
    "fp = open('cafe.txt', 'w', encoding='utf_8')\n",
    "fp"
   ]
  },
  {
   "cell_type": "code",
   "execution_count": 39,
   "id": "62e788a5-ce2e-4b41-a1da-89fc97d71f8a",
   "metadata": {},
   "outputs": [
    {
     "data": {
      "text/plain": [
       "4"
      ]
     },
     "execution_count": 39,
     "metadata": {},
     "output_type": "execute_result"
    }
   ],
   "source": [
    "fp.write('café')"
   ]
  },
  {
   "cell_type": "code",
   "execution_count": 40,
   "id": "1a7bfd81-7a77-482c-b34f-df30a649c6f5",
   "metadata": {},
   "outputs": [],
   "source": [
    "fp.close()"
   ]
  },
  {
   "cell_type": "code",
   "execution_count": 41,
   "id": "f435e353-fa26-4ca8-abc7-1d28a9a6467f",
   "metadata": {},
   "outputs": [
    {
     "data": {
      "text/plain": [
       "5"
      ]
     },
     "execution_count": 41,
     "metadata": {},
     "output_type": "execute_result"
    }
   ],
   "source": [
    "import os\n",
    "os.stat('cafe.txt').st_size"
   ]
  },
  {
   "cell_type": "code",
   "execution_count": 42,
   "id": "7c6c6977-77a3-4ac7-bae7-49f13829eef3",
   "metadata": {},
   "outputs": [
    {
     "data": {
      "text/plain": [
       "<_io.TextIOWrapper name='cafe.txt' mode='r' encoding='cp936'>"
      ]
     },
     "execution_count": 42,
     "metadata": {},
     "output_type": "execute_result"
    }
   ],
   "source": [
    "fp2 = open('cafe.txt')\n",
    "fp2"
   ]
  },
  {
   "cell_type": "code",
   "execution_count": 43,
   "id": "eebe11bc-b55d-45e0-a219-7bf4483cc58b",
   "metadata": {},
   "outputs": [
    {
     "data": {
      "text/plain": [
       "'cp936'"
      ]
     },
     "execution_count": 43,
     "metadata": {},
     "output_type": "execute_result"
    }
   ],
   "source": [
    "fp2.encoding "
   ]
  },
  {
   "cell_type": "code",
   "execution_count": 44,
   "id": "1101eedc-5048-4bc7-ad39-ddfb70cb8e38",
   "metadata": {},
   "outputs": [
    {
     "data": {
      "text/plain": [
       "'caf茅'"
      ]
     },
     "execution_count": 44,
     "metadata": {},
     "output_type": "execute_result"
    }
   ],
   "source": [
    "fp2.read()"
   ]
  },
  {
   "cell_type": "code",
   "execution_count": 45,
   "id": "f9074021-ff2f-4d4d-8d3c-ad52f0cba0fa",
   "metadata": {},
   "outputs": [],
   "source": [
    "fp3 = open('cafe.txt', encoding='utf_8')"
   ]
  },
  {
   "cell_type": "code",
   "execution_count": 46,
   "id": "2ea30512-31e1-4863-8b85-adbe360d77d2",
   "metadata": {},
   "outputs": [
    {
     "data": {
      "text/plain": [
       "<_io.TextIOWrapper name='cafe.txt' mode='r' encoding='utf_8'>"
      ]
     },
     "execution_count": 46,
     "metadata": {},
     "output_type": "execute_result"
    }
   ],
   "source": [
    "fp3"
   ]
  },
  {
   "cell_type": "code",
   "execution_count": 47,
   "id": "2aa01fdf-2509-4066-a256-21180c4a43de",
   "metadata": {},
   "outputs": [
    {
     "data": {
      "text/plain": [
       "'café'"
      ]
     },
     "execution_count": 47,
     "metadata": {},
     "output_type": "execute_result"
    }
   ],
   "source": [
    "fp3.read()"
   ]
  },
  {
   "cell_type": "code",
   "execution_count": 48,
   "id": "b85a30bd-9c53-4e9b-a131-88188b9f167d",
   "metadata": {},
   "outputs": [
    {
     "data": {
      "text/plain": [
       "<_io.BufferedReader name='cafe.txt'>"
      ]
     },
     "execution_count": 48,
     "metadata": {},
     "output_type": "execute_result"
    }
   ],
   "source": [
    "fp4 = open('cafe.txt', 'rb')\n",
    "fp4"
   ]
  },
  {
   "cell_type": "code",
   "execution_count": 49,
   "id": "4c5d289f-ca9c-4704-bbd0-e7a098f2c667",
   "metadata": {},
   "outputs": [
    {
     "data": {
      "text/plain": [
       "b'caf\\xc3\\xa9'"
      ]
     },
     "execution_count": 49,
     "metadata": {},
     "output_type": "execute_result"
    }
   ],
   "source": [
    "fp4.read()"
   ]
  },
  {
   "cell_type": "markdown",
   "id": "65e5a290-7743-405f-91c1-48283183a20f",
   "metadata": {},
   "source": [
    "## 为了正确比较而规范化 Unicode 字 符串"
   ]
  },
  {
   "cell_type": "code",
   "execution_count": 50,
   "id": "aa1b5e80-f1bb-4fcd-bb89-0e3a3bf16829",
   "metadata": {},
   "outputs": [
    {
     "data": {
      "text/plain": [
       "('café', 'café')"
      ]
     },
     "execution_count": 50,
     "metadata": {},
     "output_type": "execute_result"
    }
   ],
   "source": [
    "s1 = 'café'\n",
    "s2 = 'cafe\\N{COMBINING ACUTE ACCENT}'  \n",
    "s1,s2"
   ]
  },
  {
   "cell_type": "code",
   "execution_count": 51,
   "id": "fe55cd3c-c5d7-4025-8689-4c24b2839b10",
   "metadata": {},
   "outputs": [
    {
     "data": {
      "text/plain": [
       "(4, 5)"
      ]
     },
     "execution_count": 51,
     "metadata": {},
     "output_type": "execute_result"
    }
   ],
   "source": [
    "len(s1), len(s2) # 但是它们的长度不同"
   ]
  },
  {
   "cell_type": "markdown",
   "id": "4c07b8e0-8247-4f82-86e1-6d867b67036f",
   "metadata": {},
   "source": [
    "按 Unicode 标准规定，'é' 和 'e\\u0301' 是标准等价物 （canonical equivalent），可以通过 unicodedata.normalize() 解决："
   ]
  },
  {
   "cell_type": "code",
   "execution_count": 54,
   "id": "526da568-da74-49da-a9fe-d17ed4d0cea7",
   "metadata": {},
   "outputs": [
    {
     "data": {
      "text/plain": [
       "(5, 5)"
      ]
     },
     "execution_count": 54,
     "metadata": {},
     "output_type": "execute_result"
    }
   ],
   "source": [
    "from unicodedata import normalize\n",
    "len(normalize('NFC', s1)), len(normalize('NFC', s2))\n"
   ]
  },
  {
   "cell_type": "code",
   "execution_count": null,
   "id": "35177581-69eb-4944-a1a9-497331164b21",
   "metadata": {},
   "outputs": [],
   "source": [
    "len(normalize('NFD', s1)), len(normalize('NFD', s2))  "
   ]
  },
  {
   "cell_type": "markdown",
   "id": "c0086cef-40f0-4654-8da9-847dfa3343cd",
   "metadata": {},
   "source": [
    "参数共有：'NFC'、'NFD'、'NFKC' 和 'NFKD' 可自行试一试其他两个"
   ]
  },
  {
   "cell_type": "code",
   "execution_count": 55,
   "id": "f006d60b-0a0e-4593-b5a6-81ee00e377e5",
   "metadata": {},
   "outputs": [
    {
     "name": "stdout",
     "output_type": "stream",
     "text": [
      "½\n"
     ]
    }
   ],
   "source": [
    "from unicodedata import normalize, name\n",
    "half = '\\N{VULGAR FRACTION ONE HALF}'\n",
    "print(half)"
   ]
  },
  {
   "cell_type": "code",
   "execution_count": 56,
   "id": "5ab5c090-9186-4d40-a21c-8bfd360bd9b6",
   "metadata": {},
   "outputs": [
    {
     "data": {
      "text/plain": [
       "'1⁄2'"
      ]
     },
     "execution_count": 56,
     "metadata": {},
     "output_type": "execute_result"
    }
   ],
   "source": [
    "normalize('NFKC', half)"
   ]
  },
  {
   "cell_type": "code",
   "execution_count": 57,
   "id": "d99609bf-2ba2-4872-b941-49cb08f7af30",
   "metadata": {},
   "outputs": [
    {
     "name": "stdout",
     "output_type": "stream",
     "text": [
      "1\tDIGIT ONE\n",
      "⁄\tFRACTION SLASH\n",
      "2\tDIGIT TWO\n"
     ]
    }
   ],
   "source": [
    "for char in normalize('NFKC', half):\n",
    "    print(char, name(char), sep='\\t')"
   ]
  },
  {
   "cell_type": "code",
   "execution_count": 58,
   "id": "c5d0e062-d588-4b76-9690-470b8c7ea7de",
   "metadata": {},
   "outputs": [
    {
     "data": {
      "text/plain": [
       "'42'"
      ]
     },
     "execution_count": 58,
     "metadata": {},
     "output_type": "execute_result"
    }
   ],
   "source": [
    "four_squared = '4²'\n",
    "normalize('NFKC', four_squared)"
   ]
  },
  {
   "cell_type": "code",
   "execution_count": 59,
   "id": "9f4c94d8-c604-45a1-a42b-6c757be2d4d7",
   "metadata": {},
   "outputs": [
    {
     "data": {
      "text/plain": [
       "('μ', 'μ')"
      ]
     },
     "execution_count": 59,
     "metadata": {},
     "output_type": "execute_result"
    }
   ],
   "source": [
    "micro = 'μ'\n",
    "micro_kc = normalize('NFKC', micro)\n",
    "micro, micro_kc"
   ]
  },
  {
   "cell_type": "code",
   "execution_count": 60,
   "id": "b24067da-0d46-418e-a215-6230b98c5325",
   "metadata": {},
   "outputs": [
    {
     "data": {
      "text/plain": [
       "(956, 956)"
      ]
     },
     "execution_count": 60,
     "metadata": {},
     "output_type": "execute_result"
    }
   ],
   "source": [
    "ord(micro), ord(micro_kc)"
   ]
  },
  {
   "cell_type": "code",
   "execution_count": 61,
   "id": "f813a45a-7bf6-48e1-bbb0-9a197dc8d197",
   "metadata": {},
   "outputs": [
    {
     "data": {
      "text/plain": [
       "('GREEK SMALL LETTER MU', 'GREEK SMALL LETTER MU')"
      ]
     },
     "execution_count": 61,
     "metadata": {},
     "output_type": "execute_result"
    }
   ],
   "source": [
    "name(micro), name(micro_kc)"
   ]
  },
  {
   "cell_type": "code",
   "execution_count": 62,
   "id": "73fc83f5-8791-4d5d-a833-270329137bb2",
   "metadata": {},
   "outputs": [
    {
     "data": {
      "text/plain": [
       "'“Herr Voß: • ½ cup of Œtker™ caffe latte • bowl of acai.”'"
      ]
     },
     "execution_count": 62,
     "metadata": {},
     "output_type": "execute_result"
    }
   ],
   "source": [
    "import unicodedata\n",
    "\n",
    "\n",
    "def shave_marks(txt):\n",
    "    \"\"\"删除所有变音符\"\"\"\n",
    "    # 把所有字符分解成基字符和组合记号\n",
    "    norm_txt = unicodedata.normalize('NFD', txt)\n",
    "    # 过滤所有组合记号\n",
    "    shaved = ''.join(c for c in norm_txt\n",
    "                     if not unicodedata.combining(c))\n",
    "    # 重组所有字符\n",
    "    return unicodedata.normalize('NFC', shaved)\n",
    "\n",
    "order = '“Herr Voß: • ½ cup of Œtker™ caffè latte • bowl of açaí.”'\n",
    "shave_marks(order)\n",
    "\n"
   ]
  },
  {
   "cell_type": "code",
   "execution_count": 63,
   "id": "436477b5-6288-4376-9135-9a96a0e40e75",
   "metadata": {},
   "outputs": [
    {
     "data": {
      "text/plain": [
       "'Ζεφυρος, Zefiro'"
      ]
     },
     "execution_count": 63,
     "metadata": {},
     "output_type": "execute_result"
    }
   ],
   "source": [
    "greek = 'Ζέφυρος, Zéfiro'\n",
    "shave_marks(greek)\n"
   ]
  },
  {
   "cell_type": "code",
   "execution_count": 64,
   "id": "594f4dda-35fb-4788-b3a8-899f7083b80e",
   "metadata": {},
   "outputs": [],
   "source": [
    "import string\n",
    "\n",
    "\n",
    "def shave_marks_latin(txt):\n",
    "    \"\"\"删除所有拉丁基字符上的变音符\"\"\"\n",
    "    norm_txt = unicodedata.normalize('NFD', txt)\n",
    "    latin_base = False\n",
    "    preserve = []\n",
    "    for c in norm_txt:\n",
    "        if unicodedata.combining(c) and latin_base:\n",
    "            continue  # 忽略拉丁基字符的变音符\n",
    "        preserve.append(c)\n",
    "        # 如果不是组合字符，那就是新的基字符\n",
    "        if not unicodedata.combining(c):\n",
    "            latin_base = c in string.ascii_letters\n",
    "    shaved = ''.join(preserve)\n",
    "    return unicodedata.normalize('NFC', shaved)\n"
   ]
  },
  {
   "cell_type": "code",
   "execution_count": 65,
   "id": "7b16acb1-5175-4913-87a6-c2485a5a8acf",
   "metadata": {},
   "outputs": [],
   "source": [
    "single_map = str.maketrans(\"\"\"‚ƒ„ˆ‹‘’“”•–—˜›\"\"\",  # <1>\n",
    "                           \"\"\"'f\"^<''\"\"---~>\"\"\")\n",
    "\n",
    "multi_map = str.maketrans({  # <2>\n",
    "    '€': 'EUR',\n",
    "    '…': '...',\n",
    "    'Æ': 'AE',\n",
    "    'æ': 'ae',\n",
    "    'Œ': 'OE',\n",
    "    'œ': 'oe',\n",
    "    '™': '(TM)',\n",
    "    '‰': '<per mille>',\n",
    "    '†': '**',\n",
    "    '‡': '***',\n",
    "})\n",
    "\n",
    "multi_map.update(single_map)  # <3>\n",
    "\n",
    "\n",
    "def dewinize(txt):\n",
    "    \"\"\"把cp1252符号替换为ASCII字符或字符序列\"\"\"\n",
    "    return txt.translate(multi_map)\n",
    "\n",
    "def asciize(txt):\n",
    "    # 去掉变音符\n",
    "    no_marks = shave_marks_latin(dewinize(txt))\n",
    "    no_marks = no_marks.replace('ß', 'ss')\n",
    "    # 使用NFKC规范化形式把字符和码点组合起来\n",
    "    return unicodedata.normalize('NFKC', no_marks)\n"
   ]
  },
  {
   "cell_type": "code",
   "execution_count": 67,
   "id": "e6f8b5e1-675d-4440-8b24-0229222975d6",
   "metadata": {},
   "outputs": [
    {
     "data": {
      "text/plain": [
       "'\"Herr Voß: - ½ cup of OEtker(TM) caffè latte - bowl of açaí.\"'"
      ]
     },
     "execution_count": 67,
     "metadata": {},
     "output_type": "execute_result"
    }
   ],
   "source": [
    "order = '“Herr Voß: • ½ cup of Œtker™ caffè latte • bowl of açaí.”'\n",
    "dewinize(order)\n",
    "\n"
   ]
  },
  {
   "cell_type": "code",
   "execution_count": 68,
   "id": "d8e4df84-aa05-4417-8882-2ab0fd4befab",
   "metadata": {},
   "outputs": [
    {
     "data": {
      "text/plain": [
       "'\"Herr Voss: - 1⁄2 cup of OEtker(TM) caffe latte - bowl of acai.\"'"
      ]
     },
     "execution_count": 68,
     "metadata": {},
     "output_type": "execute_result"
    }
   ],
   "source": [
    "asciize(order)\n"
   ]
  },
  {
   "cell_type": "markdown",
   "id": "e3911b75-4e29-4464-89b3-dec86bf56f08",
   "metadata": {},
   "source": [
    "## Unicode文本排序"
   ]
  },
  {
   "cell_type": "code",
   "execution_count": 70,
   "id": "3606763a-9ebd-4410-a81c-908c2799be86",
   "metadata": {},
   "outputs": [
    {
     "data": {
      "text/plain": [
       "['açaí', 'acerola', 'atemoia', 'cajá', 'caju']"
      ]
     },
     "execution_count": 70,
     "metadata": {},
     "output_type": "execute_result"
    }
   ],
   "source": [
    "# 巴西产水果的列表排序\n",
    "import locale\n",
    "my_locale = locale.setlocale(locale.LC_COLLATE, 'pt_BR.UTF-8')\n",
    "\n",
    "fruits = ['caju', 'atemoia', 'cajá', 'açaí', 'acerola']\n",
    "sorted(fruits, key=locale.strxfrm)\n"
   ]
  },
  {
   "cell_type": "markdown",
   "id": "7fb59a10-28a7-45c2-bf01-8b45e1260c08",
   "metadata": {},
   "source": [
    "使用 Unicode 排序算法排序\n",
    "\n",
    "!pip install pyuca\n",
    "\n",
    "Miro 建议使用 PyICU 排序 Unicode 文本"
   ]
  },
  {
   "cell_type": "code",
   "execution_count": 72,
   "id": "604c6cbe-4ccf-4a8d-837b-b3691ec91391",
   "metadata": {},
   "outputs": [
    {
     "name": "stdout",
     "output_type": "stream",
     "text": [
      "Looking in indexes: https://pypi.tuna.tsinghua.edu.cn/simple\n",
      "Collecting pyuca\n",
      "  Downloading https://pypi.tuna.tsinghua.edu.cn/packages/98/88/aeeee34d88f841aca712a8c18fbd62a33eaad8f2dbe535e87f3c829b02f9/pyuca-1.2-py2.py3-none-any.whl (1.5 MB)\n",
      "     ---------------------------------------- 1.5/1.5 MB 4.1 MB/s eta 0:00:00\n",
      "Installing collected packages: pyuca\n",
      "Successfully installed pyuca-1.2\n"
     ]
    }
   ],
   "source": [
    "!pip install pyuca"
   ]
  },
  {
   "cell_type": "code",
   "execution_count": 73,
   "id": "421cccd0-ceb7-40d3-9051-a8d04e6d6ab8",
   "metadata": {},
   "outputs": [
    {
     "data": {
      "text/plain": [
       "['açaí', 'acerola', 'atemoia', 'cajá', 'caju']"
      ]
     },
     "execution_count": 73,
     "metadata": {},
     "output_type": "execute_result"
    }
   ],
   "source": [
    "import pyuca\n",
    "coll = pyuca.Collator()\n",
    "fruits = ['caju', 'atemoia', 'cajá', 'açaí', 'acerola']\n",
    "sorted_fruits = sorted(fruits, key=coll.sort_key)\n",
    "sorted_fruits"
   ]
  },
  {
   "cell_type": "markdown",
   "id": "740746ae-a728-435d-9402-2ea0b16a98d1",
   "metadata": {},
   "source": [
    "## Unicode 数据库  \n",
    "\n",
    "\n",
    "Unicode标准提供了一个完整的数据库，不仅包括码点与字符名称之间的映射表，还包括各个字符的元数据，以及字符之间的关系。\r\n",
    "- \r\n",
    "unicodedata.name()：返回一个字符在标准中的官方  名- 称\r\n",
    "unicodedata.numeric()：返回一个字符在标准中\n",
    "的数值"
   ]
  },
  {
   "cell_type": "code",
   "execution_count": 77,
   "id": "41102699-68f5-4405-b1d6-19fc23959d25",
   "metadata": {},
   "outputs": [
    {
     "data": {
      "text/plain": [
       "'LATIN CAPITAL LETTER A'"
      ]
     },
     "execution_count": 77,
     "metadata": {},
     "output_type": "execute_result"
    }
   ],
   "source": [
    "from unicodedata import name\n",
    "\n",
    "name('A')"
   ]
  },
  {
   "cell_type": "code",
   "execution_count": 78,
   "id": "9c2c161b-6d45-4377-b2c8-4331e89d1d4a",
   "metadata": {},
   "outputs": [],
   "source": [
    "import sys\n",
    "import unicodedata\n",
    "\n",
    "START, END = ord(' '), sys.maxunicode + 1           # <1>\n",
    "\n",
    "def find(*query_words, start=START, end=END):       # <2>\n",
    "    query = {w.upper() for w in query_words}        # <3>\n",
    "    for code in range(start, end):\n",
    "        char = chr(code)                            # <4>\n",
    "        name = unicodedata.name(char, None)         # <5>\n",
    "        if name and query.issubset(name.split()):   # <6>\n",
    "            print(f'U+{code:04X}\\t{char}\\t{name}')  # <7>\n",
    "\n",
    "def main(words):\n",
    "    if words:\n",
    "        find(*words)\n",
    "    else:\n",
    "        print('Please provide words to find.')\n",
    "\n",
    "if __name__ == '__main__':\n",
    "    main(sys.argv[1:])\n"
   ]
  },
  {
   "cell_type": "code",
   "execution_count": null,
   "id": "bab8a26e-c052-4674-bd5d-81e0d47108b3",
   "metadata": {},
   "outputs": [],
   "source": []
  },
  {
   "cell_type": "code",
   "execution_count": null,
   "id": "094df291-2cb1-4795-9343-94397bb75e27",
   "metadata": {},
   "outputs": [],
   "source": [
    "\n",
    "支持str和bytes的双模式API\n",
    "\n",
    "1. 通过正则表达式"
   ]
  },
  {
   "cell_type": "code",
   "execution_count": 76,
   "id": "1a42962d-d85b-4978-861c-175154bcb8c2",
   "metadata": {},
   "outputs": [
    {
     "name": "stdout",
     "output_type": "stream",
     "text": [
      "Text\n",
      "  'Ramanujan saw ௧௭௨௯ as 1729 = 1³ + 12³ = 9³ + 10³.'\n",
      "Numbers\n",
      "  str  : ['௧௭௨௯', '1729', '1', '12', '9', '10']\n",
      "  bytes: [b'1729', b'1', b'12', b'9', b'10']\n",
      "Words\n",
      "  str  : ['Ramanujan', 'saw', '௧௭௨௯', 'as', '1729', '1³', '12³', '9³', '10³']\n",
      "  bytes: [b'Ramanujan', b'saw', b'as', b'1729', b'1', b'12', b'9', b'10']\n"
     ]
    }
   ],
   "source": [
    "import re\n",
    "\n",
    "# str类型\n",
    "re_numbers_str = re.compile(r'\\d+')\n",
    "re_words_str = re.compile(r'\\w+')\n",
    "# bytes类型\n",
    "re_numbers_bytes = re.compile(rb'\\d+')\n",
    "re_words_bytes = re.compile(rb'\\w+')\n",
    "\n",
    "text_str = (\"Ramanujan saw \\u0be7\\u0bed\\u0be8\\u0bef\"\n",
    "            \" as 1729 = 1³ + 12³ = 9³ + 10³.\")\n",
    "\n",
    "# bytes正则表达式只能搜索bytes字符串\n",
    "text_bytes = text_str.encode('utf_8')\n",
    "\n",
    "print(f'Text\\n  {text_str!r}')\n",
    "print('Numbers')\n",
    "# str模式r'\\d+'只能匹配泰米尔数值和ASCII数字\n",
    "print('  str  :', re_numbers_str.findall(text_str)) \n",
    "# bytes模式rb'\\d+'只能匹配ASCII字节中的数字\n",
    "print('  bytes:', re_numbers_bytes.findall(text_bytes))  \n",
    "print('Words')\n",
    "# str模式r'\\w+'能匹配字母、上标、泰米尔数字和ASCII数字\n",
    "print('  str  :', re_words_str.findall(text_str))  \n",
    "# bytes模式rb'\\w+'只能匹配ASCII字节中的字母和数字\n",
    "print('  bytes:', re_words_bytes.findall(text_bytes)) \n"
   ]
  },
  {
   "cell_type": "code",
   "execution_count": null,
   "id": "df8cee63-6e70-402a-8ece-71127fe39ec8",
   "metadata": {},
   "outputs": [],
   "source": [
    "2. os函数中的str和bytes\n",
    "\n",
    "\n",
    "- os模块中所有接收文件名或路径名的函数，既可以传入str参数，也可以传入bytes参数。\n",
    "- 传入str参数时，使用sys.getfilesystemencoding()获得的编码解码器自动转换参数，操作系统回显时也使用编码解码器进行解码。\n",
    "- os模块提供了特殊的编码解码函数os.fsencode(name_or_path)和os.fsdecode(name_or_path)。"
   ]
  }
 ],
 "metadata": {
  "kernelspec": {
   "display_name": "Python 3 (ipykernel)",
   "language": "python",
   "name": "python3"
  },
  "language_info": {
   "codemirror_mode": {
    "name": "ipython",
    "version": 3
   },
   "file_extension": ".py",
   "mimetype": "text/x-python",
   "name": "python",
   "nbconvert_exporter": "python",
   "pygments_lexer": "ipython3",
   "version": "3.10.13"
  }
 },
 "nbformat": 4,
 "nbformat_minor": 5
}
