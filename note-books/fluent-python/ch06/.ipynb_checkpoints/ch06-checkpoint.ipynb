{
 "cells": [
  {
   "cell_type": "markdown",
   "id": "406b9bed-78e8-461d-a2b4-c8a11338246f",
   "metadata": {},
   "source": [
    "# 第6章 对象引用、可变性和垃圾 回收\n",
    "\n",
    "\n",
    "## 浅拷贝\r\n",
    "\n",
    "- \r\n",
    "复制列表使用内置的类型构造函  数- 。\r\n",
    "使用[:]进行浅    拷- 贝。\r\n",
    "使用copy.copy函数进行  浅拷贝。"
   ]
  },
  {
   "cell_type": "code",
   "execution_count": 1,
   "id": "16780782-e76b-4c6c-bc51-072c59d19dc3",
   "metadata": {},
   "outputs": [
    {
     "name": "stdout",
     "output_type": "stream",
     "text": [
      "l1: [3, [66, 44], (7, 8, 9), 100]\n",
      "l2: [3, [66, 44], (7, 8, 9)]\n",
      "l1: [3, [66, 44, 33, 22], (7, 8, 9), 100]\n",
      "l2: [3, [66, 44, 33, 22], (7, 8, 9, 10, 11)]\n"
     ]
    }
   ],
   "source": [
    "l1 = [3, [66, 55, 44], (7, 8, 9)]\n",
    "l2 = list(l1)\n",
    "l1.append(100)\n",
    "l1[1].remove(55)\n",
    "print('l1:', l1)\n",
    "print('l2:', l2)\n",
    "l2[1] += [33, 22]\n",
    "l2[2] += (10, 11)\n",
    "print('l1:', l1)\n",
    "print('l2:', l2)\n"
   ]
  },
  {
   "cell_type": "markdown",
   "id": "2ae60527-c271-4d29-ad04-b63942e931b1",
   "metadata": {},
   "source": [
    "## 深拷贝\n",
    "\n",
    "使用copy.deepcopy函数"
   ]
  },
  {
   "cell_type": "code",
   "execution_count": 2,
   "id": "734d715d-e07f-4c1b-8e02-1277e6c0ec20",
   "metadata": {},
   "outputs": [],
   "source": [
    "# 校车乘客在途中有上有下\n",
    "class Bus:\n",
    "    def __init__(self, passengers=None):\n",
    "        if passengers is None:\n",
    "            self.passengers = []\n",
    "        else:\n",
    "            self.passengers = list(passengers)\n",
    "\n",
    "    def pick(self, name):\n",
    "        self.passengers.append(name)\n",
    "\n",
    "    def drop(self, name):\n",
    "        self.passengers.remove(name)\n"
   ]
  },
  {
   "cell_type": "code",
   "execution_count": 3,
   "id": "0e55a63a-6148-4e1b-a326-25f97978ce21",
   "metadata": {},
   "outputs": [
    {
     "data": {
      "text/plain": [
       "['Alice', 'Claire', 'David']"
      ]
     },
     "execution_count": 3,
     "metadata": {},
     "output_type": "execute_result"
    }
   ],
   "source": [
    "import copy\n",
    "bus1 = Bus(['Alice', 'Bill', 'Claire', 'David'])\n",
    "# 使用浅拷贝\n",
    "bus2 = copy.copy(bus1)\n",
    "# 使用深拷贝\n",
    "bus3 = copy.deepcopy(bus1)\n",
    "bus1.drop('Bill')\n",
    "bus2.passengers\n"
   ]
  },
  {
   "cell_type": "code",
   "execution_count": 4,
   "id": "976b0ba8-8cc6-48e6-a6f2-2f593e787101",
   "metadata": {},
   "outputs": [
    {
     "data": {
      "text/plain": [
       "['Alice', 'Bill', 'Claire', 'David']"
      ]
     },
     "execution_count": 4,
     "metadata": {},
     "output_type": "execute_result"
    }
   ],
   "source": [
    "bus3.passengers\n"
   ]
  },
  {
   "cell_type": "markdown",
   "id": "929b6770-d399-4dc1-b89e-19e254f4d356",
   "metadata": {},
   "source": [
    "## 防御可变参数"
   ]
  },
  {
   "cell_type": "code",
   "execution_count": 5,
   "id": "58c8b85c-0cfd-459f-a58e-42096e5d4985",
   "metadata": {},
   "outputs": [
    {
     "data": {
      "text/plain": [
       "['Sue', 'Maya', 'Diana']"
      ]
     },
     "execution_count": 5,
     "metadata": {},
     "output_type": "execute_result"
    }
   ],
   "source": [
    "class TwilightBus:\n",
    "    \"\"\"让乘客销声匿迹的校车\"\"\"\n",
    "\n",
    "    def __init__(self, passengers=None):\n",
    "        if passengers is None:\n",
    "            self.passengers = []  \n",
    "        else:\n",
    "            # WARN：不能直接引用变量，应使用浅拷贝\n",
    "            self.passengers = passengers\n",
    "\n",
    "    def pick(self, name):\n",
    "        self.passengers.append(name)\n",
    "\n",
    "    def drop(self, name):\n",
    "        self.passengers.remove(name)\n",
    "\n",
    "\n",
    "basketball_team = ['Sue', 'Tina', 'Maya', 'Diana', 'Pat']\n",
    "bus = TwilightBus(basketball_team)\n",
    "bus.drop('Tina')\n",
    "bus.drop('Pat')\n",
    "# 下车的学生从篮球队中消失了！\n",
    "basketball_team\n"
   ]
  },
  {
   "cell_type": "code",
   "execution_count": 6,
   "id": "9586c118-4cb6-4ec3-86fd-4f164e25aa50",
   "metadata": {},
   "outputs": [
    {
     "data": {
      "text/plain": [
       "['Sue', 'Tina', 'Maya', 'Diana', 'Pat']"
      ]
     },
     "execution_count": 6,
     "metadata": {},
     "output_type": "execute_result"
    }
   ],
   "source": [
    "# 修改后的代码\n",
    "class TwilightBus:\n",
    "    \"\"\"让乘客销声匿迹的校车\"\"\"\n",
    "\n",
    "    def __init__(self, passengers=None):\n",
    "        if passengers is None:\n",
    "            self.passengers = []  \n",
    "        else:\n",
    "            # 使用构造器的浅拷贝方式\n",
    "            self.passengers = list(passengers)  # 浅拷贝\n",
    "\n",
    "    def pick(self, name):\n",
    "        self.passengers.append(name)\n",
    "\n",
    "    def drop(self, name):\n",
    "        self.passengers.remove(name)\n",
    "\n",
    "\n",
    "basketball_team = ['Sue', 'Tina', 'Maya', 'Diana', 'Pat']\n",
    "bus = TwilightBus(basketball_team)\n",
    "bus.drop('Tina')\n",
    "bus.drop('Pat')\n",
    "\n",
    "# 仍然保留\n",
    "basketball_team\n"
   ]
  },
  {
   "cell_type": "markdown",
   "id": "a5acf861-abaf-453e-9581-20797bc82ab7",
   "metadata": {},
   "source": [
    "## del 和垃圾回收\n",
    "\n",
    "del 语句删除名称(对象的引用)，而不是对象。\n",
    "del 命令可能会导致对象被当作垃圾回收，但是仅当删除的变量保存的是对象的最后一个引用，或者无法得到对象时。重新绑定也可能会导致对象的引用数量归零，导致对象被销毁。"
   ]
  },
  {
   "cell_type": "code",
   "execution_count": 7,
   "id": "1374888e-4c4d-41f0-a66f-449f23c46c03",
   "metadata": {},
   "outputs": [
    {
     "name": "stdout",
     "output_type": "stream",
     "text": [
      "True\n",
      "True\n",
      "Gone ... with the wind...\n",
      "False\n"
     ]
    }
   ],
   "source": [
    "import weakref\n",
    " \n",
    " \n",
    "# 1. s1 和 s2 是别名，指向同一个集合，{1, 2, 3}。\n",
    "s1 = {1, 2, 3}\n",
    "s2 = s1\n",
    " \n",
    " \n",
    "# 2. 这个函数一定不能是要销毁的对象的绑定方法，否则会有一个指向对象的引用。\n",
    "def bye():\n",
    "    print('Gone ... with the wind...')\n",
    " \n",
    " \n",
    "# 3. 在 s1 引用的对象上注册 bye 回调。\n",
    "ender = weakref.finalize(s1, bye)\n",
    " \n",
    "# 4. 调用 finalize 对象之前，.alive 属性的值为 True。\n",
    "print(ender.alive)  # True\n",
    " \n",
    "# 5. del 不删除对象，而是删除对象的引用。\n",
    "del s1\n",
    "print(ender.alive)  # True\n",
    " \n",
    "# 6. 重新绑定最后一个引用 s2，让 {1, 2, 3} 无法获取。\n",
    "# 对象被销毁了，调用了 bye 回调 ender.alive 的值变成了 False。\n",
    "s2 = 'spam'  # Gone with the wind...\n",
    "print(ender.alive)  # False"
   ]
  },
  {
   "cell_type": "markdown",
   "id": "633faa38-b316-438c-83d6-f8e1a782abc8",
   "metadata": {},
   "source": [
    "\n",
    "- 平等对待所有对象：Python采用的方式是==运算符比较对象的值，而is比较引用。\n",
    "- 可变性：在Python中，用户定义的类，实例默认可变。\n",
    "- 对象析构和垃圾回收：CPython的垃圾回收主要依靠引用计数，在CPython2.0实现了分代垃圾回收机制，把引用循环中不可达的对象销毁。\n",
    "- 参数传递（共享传参）：\n",
    "- 在早期的语言中，参数传递模式有按值传递（函数得到实参的副本）和按引用传递（函数得到实参的指针）。\n",
    "- 在Python中，函数得到实参的副本，但是实参始终是引用的。"
   ]
  },
  {
   "cell_type": "code",
   "execution_count": null,
   "id": "a089d68d-6807-4866-892e-0a27006c4622",
   "metadata": {},
   "outputs": [],
   "source": []
  },
  {
   "cell_type": "code",
   "execution_count": null,
   "id": "b45a1d52-e82d-43b2-b152-d7350ccd3f9f",
   "metadata": {},
   "outputs": [],
   "source": []
  }
 ],
 "metadata": {
  "kernelspec": {
   "display_name": "Python 3 (ipykernel)",
   "language": "python",
   "name": "python3"
  },
  "language_info": {
   "codemirror_mode": {
    "name": "ipython",
    "version": 3
   },
   "file_extension": ".py",
   "mimetype": "text/x-python",
   "name": "python",
   "nbconvert_exporter": "python",
   "pygments_lexer": "ipython3",
   "version": "3.10.13"
  }
 },
 "nbformat": 4,
 "nbformat_minor": 5
}
