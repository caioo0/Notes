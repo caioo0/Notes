{
 "cells": [
  {
   "cell_type": "markdown",
   "id": "2ca60483",
   "metadata": {},
   "source": [
    "# 第四讲：A 的 LU 分解"
   ]
  },
  {
   "cell_type": "markdown",
   "id": "45e41eee",
   "metadata": {},
   "source": [
    "LU 分解是高斯消元法的进一步提升，他把一个矩阵分解为一个上三角矩阵和一个下三角矩阵\n",
    "\n",
    "\n",
    "**$AB$**的逆矩阵：\n",
    "\n",
    "$\n",
    "A \\cdot A^{-1}  = I = A^{-1} \\cdot A \\\\\n",
    "(AB) \\cdot(B^{-1}A^{-1})  = I \\\\\n",
    "则AB的逆矩阵为(B^{-1}A^{-1})\n",
    "$\n",
    "\n",
    "**$A^T$**的逆矩阵：\n",
    "\n",
    "$\n",
    "A \\cdot A^{-1}  = I = A^{-1} \\cdot A \\\\\n",
    "(AB) \\cdot(B^{-1}A^{-1})  = I \\\\\n",
    "则AB的逆矩阵为(B^{-1}A^{-1})\n",
    "$\n"
   ]
  },
  {
   "cell_type": "code",
   "execution_count": null,
   "id": "3401252e",
   "metadata": {},
   "outputs": [],
   "source": []
  }
 ],
 "metadata": {
  "kernelspec": {
   "display_name": "Python 3 (ipykernel)",
   "language": "python",
   "name": "python3"
  },
  "language_info": {
   "codemirror_mode": {
    "name": "ipython",
    "version": 3
   },
   "file_extension": ".py",
   "mimetype": "text/x-python",
   "name": "python",
   "nbconvert_exporter": "python",
   "pygments_lexer": "ipython3",
   "version": "3.8.8"
  }
 },
 "nbformat": 4,
 "nbformat_minor": 5
}
