{
 "cells": [
  {
   "cell_type": "markdown",
   "id": "35a0b457",
   "metadata": {},
   "source": [
    "# 第二讲：矩阵消元\n",
    "\n"
   ]
  },
  {
   "cell_type": "markdown",
   "id": "02ac4e9f",
   "metadata": {},
   "source": [
    "这个方法最早由[数学王子.高斯](https://zh.wikipedia.org/wiki/%E5%8D%A1%E7%88%BE%C2%B7%E5%BC%97%E9%87%8C%E5%BE%B7%E9%87%8C%E5%B8%8C%C2%B7%E9%AB%98%E6%96%AF)提出，我们以前解方程组的时候都会使用，现在来看如何使用矩阵实现消元法。"
   ]
  },
  {
   "cell_type": "markdown",
   "id": "83cf4f24",
   "metadata": {},
   "source": [
    "## 消元法(Elimination)\n",
    "\n",
    "消元法，也叫高斯消元法：是为了解线性方程组的。设有线性方程组$Ax=b$\n",
    "\n",
    "有三元方程组$\\begin{cases}x&+2y&+z&=2\\\\3x&+8y&+z&=12\\\\&4y&+z&=2\\end{cases}$,对应的矩阵形式$Ax = b$为$\\begin{bmatrix}1&2&1\\\\3&8&1\\\\0&4&1\\end{bmatrix}\\begin{bmatrix}x\\\\y\\\\z\\end{bmatrix}=\\begin{bmatrix}2\\\\12\\\\2\\end{bmatrix}$。\n",
    "\n",
    "消元法思路\n",
    "\n",
    "- 第一步，我们希望在第二个方程中消去$x$项，来操作系数矩阵$A = \\begin{bmatrix}\\underline{1}&2&1\\\\3&8&1\\\\0&4&1\\end{bmatrix}$,下划线的元素为第一步的主元(pivot):\n",
    "\n",
    "$\\begin{bmatrix}\\underline{1}&2&1\\\\3&8&1\\\\0&4&1\\end{bmatrix}\\xrightarrow{row_2-3*row_1}\\begin{bmatrix}\\underline{1}&2&1\\\\0&2&-2\\\\0&4&1\\end{bmatrix}$\n",
    "\n",
    "暂时我们先不去管$b$向量，先做完$A$的消元可以在做$b$的消元。(MATLAB等工具经常用到此算法)\n",
    "\n",
    "- 第二步，消去第三个方程中的$y$项，第二行下划线的元素为第二个主元：\n",
    "\n",
    "\n",
    "$\\begin{bmatrix}\\underline{1}&2&1\\\\0&\\underline{2}&-2\\\\0&4&1\\end{bmatrix}\\xrightarrow{row_3-2*row_2}\\begin{bmatrix}\\underline{1}&2&1\\\\0&\\underline{2}&-2\\\\0&0&\\underline{5}\\end{bmatrix}$\n",
    "\n",
    "矩阵$A$消元至此完成。\n",
    "\n",
    "> **注意：**矩阵消元的主元不能为零，如果某一个方程存在0的情况，则进行行交换，直到满足所有主元不为零；\n",
    "\n",
    "上面的例子中，如果第三个方程$z$的系数成$−4$，则会导致第二步消元后最后一行全部为零，第三个主元就不存在，至此消元不能继续进行了，下一讲中会讲到这种**不可逆**的情况。\n",
    "\n",
    "- 接下来**回代**（back substitution）: A矩阵后面几上$b$向量写成**增广矩阵**(augmented matrix)的形式：\n",
    "\n",
    "$\\left[\\begin{array}{c|c}A&b\\end{array}\\right]=\\left[\\begin{array}{ccc|c}1&2&1&2\\\\3&8&1&12\\\\0&4&1&2\\end{array}\\right]\\xrightarrow{row_2-3*row_1}\\left[\\begin{array}{ccc|c}1&2&1&2\\\\0&2&-2&6\\\\0&4&1&2\\end{array}\\right]\\xrightarrow{row_3-2*row_2}\\left[\\begin{array}{ccc|c}1&2&1&2\\\\0&2&-2&6\\\\0&0&5&-10\\end{array}\\right]$\n",
    "\n",
    "\n",
    " 代入方程组：$\\begin{cases}x&+2y&+z&=2\\\\&2y&-2z&=6\\\\&&5z&=-10\\end{cases}$ ,得结果：$x=2，y=1，z=−2$\n",
    "\n",
    "使用`scipy.linalg`求解验证结果："
   ]
  },
  {
   "cell_type": "code",
   "execution_count": 3,
   "id": "8fa4c37c",
   "metadata": {},
   "outputs": [
    {
     "name": "stdout",
     "output_type": "stream",
     "text": [
      "[ 2.  1. -2.]\n"
     ]
    }
   ],
   "source": [
    "from scipy import linalg\n",
    "import numpy as np\n",
    "a = np.array([[1,2,1],[3,8,1],[0,4,1]])\n",
    "b = np.array([2,12,2])\n",
    "x = linalg.solve(a,b)\n",
    "print(x)"
   ]
  },
  {
   "cell_type": "markdown",
   "id": "256d6b57",
   "metadata": {},
   "source": [
    "## 消元矩阵\n",
    "\n",
    "上一讲我们学习了矩阵乘以向量的方法，有三个列向量的矩阵乘以另一个向量\n",
    "\n",
    "按列的线性组合可以写作: \n",
    "\n",
    "$\\begin{bmatrix}v_1&v_2&v_3 \\end{bmatrix}\\left[\\begin{array}{c}3\\\\4\\\\5\\end{array}\\right] = 3v_1 + 4v_2 + 5v_3$\n",
    "\n",
    "按矩阵乘法的形式有：\n",
    "\n",
    "$\\begin{bmatrix}1&2&7 \\end{bmatrix} \\left[\\begin{array}{c}row_1\\\\row_2\\\\row_3\\end{array}\\right] = 1row_1 + 2row_2 +3row_3$\n",
    "\n",
    "\n",
    "可以看出这是一个行向量从左边乘以矩阵，这个行向量按行操作矩阵的行向量，并将其合成为一个矩阵行向量的线性组合。\n"
   ]
  },
  {
   "cell_type": "markdown",
   "id": "71ce4f63",
   "metadata": {},
   "source": [
    "使用上面的例子，将消元法所做的行操作写成向量乘以矩阵的形式。\n",
    "\n",
    "- 消元法第一步操作将第二行的值改为$row_2 - 3*row_1$,保持其余两行不变：\n",
    "\n",
    "$\\begin{bmatrix}1&0&0\\\\-3&1&0\\\\0&0&1\\end{bmatrix}\\begin{bmatrix}1&2&1\\\\3&8&1\\\\0&4&1\\end{bmatrix}=\\begin{bmatrix}1&2&1\\\\0&2&-2\\\\0&4&1\\end{bmatrix} (记作：E_{21},目的是将第二行第一个元素变为零)$\n",
    "\n",
    "> 单位矩阵$I=\\begin{bmatrix}1&0&0\\\\0&1&0\\\\0&0&1\\end{bmatrix}$，$I$之于矩阵运算相当于$1$之于四则运算。\n",
    "\n",
    "- 消元法第二步操作就是求$E_{32}$消元矩阵，即将第三行第二个元素变为零，则：\n",
    "\n",
    "$\\begin{bmatrix}1&0&0\\\\0&1&0\\\\0&-2&1\\end{bmatrix}\\begin{bmatrix}1&2&1\\\\0&2&-2\\\\0&4&1\\end{bmatrix}=\\begin{bmatrix}1&2&1\\\\0&2&-2\\\\0&0&5\\end{bmatrix}$\n",
    "\n",
    "> 经过变换后的$E_{21},E_{32}$被称为：[初等矩阵（elementary matrix）](https://zhuanlan.zhihu.com/p/74875538)\n",
    "\n",
    "- 最后，满足公式：$E_{32}(E_{12}A) = (E_{32}E_{21})A =U$ ,矩阵乘法不能随意变动相乘次序，但可以变动括号位置，也就是满足结合律（associative law）\n",
    "\n",
    "**置换矩阵（permutation matrix）**：一种用于置换两行的矩阵\n",
    "\n",
    "- 两行互换： \n",
    "\n",
    "$\\begin{bmatrix}0&1\\\\1&0\\end{bmatrix}\\begin{bmatrix}a&b\\\\c&d\\end{bmatrix}=\\begin{bmatrix}c&d\\\\a&b\\end{bmatrix}$\n",
    "\n",
    "- 两列互换：\n",
    "\n",
    "$\\begin{bmatrix}a&b\\\\c&d\\end{bmatrix}\\begin{bmatrix}0&1\\\\1&0\\end{bmatrix}=\\begin{bmatrix}b&a\\\\d&c\\end{bmatrix}$\n",
    "\n",
    "## 逆\n",
    "\n",
    "\n",
    "以$E_{21}$为例，$\\begin{bmatrix}\\quad ?\\quad\\end{bmatrix}\\begin{bmatrix}1&0&0\\\\-3&1&0\\\\0&0&1\\end{bmatrix}=\\begin{bmatrix}1&0&0\\\\0&1&0\\\\0&0&1\\end{bmatrix}$,如何取消这次行变换？\n",
    "\n",
    "\n",
    "根据消元法计算可，$row_2 {\\color{red}-} 3*row_1$得单位矩I，逆变换为：$row_2 {\\color{red}+} 3*row_1$，所以逆矩阵为：\n",
    "\n",
    "$\\begin{bmatrix}1&0&0\\\\3&1&0\\\\0&0&1\\end{bmatrix}$\n",
    "\n",
    "矩阵$E$得逆记作$E^{-1}$,满足公式：$E^{-1}E=I$"
   ]
  },
  {
   "cell_type": "code",
   "execution_count": null,
   "id": "5d532e1a",
   "metadata": {},
   "outputs": [],
   "source": []
  }
 ],
 "metadata": {
  "kernelspec": {
   "display_name": "Python 3 (ipykernel)",
   "language": "python",
   "name": "python3"
  },
  "language_info": {
   "codemirror_mode": {
    "name": "ipython",
    "version": 3
   },
   "file_extension": ".py",
   "mimetype": "text/x-python",
   "name": "python",
   "nbconvert_exporter": "python",
   "pygments_lexer": "ipython3",
   "version": "3.8.8"
  }
 },
 "nbformat": 4,
 "nbformat_minor": 5
}