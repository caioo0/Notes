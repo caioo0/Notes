{
 "cells": [
  {
   "cell_type": "code",
   "execution_count": null,
   "id": "881b98d3",
   "metadata": {},
   "outputs": [],
   "source": [
    "!pip install -qq -U diffusers datasets transformers accelerate ftfy pyarrow==9.0.0\n",
    "!pip install torchvision"
   ]
  },
  {
   "cell_type": "markdown",
   "id": "e823c153",
   "metadata": {},
   "source": [
    "导入数据"
   ]
  },
  {
   "cell_type": "code",
   "execution_count": 3,
   "id": "e5955891",
   "metadata": {},
   "outputs": [],
   "source": [
    "import torch\n",
    "import torchvision\n",
    "from torch import nn\n",
    "from torch.nn import functional as F\n",
    "from torch.utils.data import DataLoader\n",
    "from diffusers import DDPMScheduler,UNet2DModel\n",
    "from matplotlib import pyplot as plt"
   ]
  },
  {
   "cell_type": "code",
   "execution_count": 4,
   "id": "aff603ac",
   "metadata": {},
   "outputs": [],
   "source": [
    "device = torch.device(\"cuda\" if torch.cuda.is_available() else \"cpu\")"
   ]
  },
  {
   "cell_type": "code",
   "execution_count": 5,
   "id": "11c97c43",
   "metadata": {},
   "outputs": [
    {
     "data": {
      "text/plain": "device(type='cpu')"
     },
     "execution_count": 5,
     "metadata": {},
     "output_type": "execute_result"
    }
   ],
   "source": [
    "device"
   ]
  },
  {
   "cell_type": "code",
   "execution_count": 6,
   "id": "1fbc2612",
   "metadata": {},
   "outputs": [],
   "source": [
    "# 数据集测试\n",
    "dataset = torchvision.datasets.MNIST(root=\"mnist/\",train=True,download=True,\n",
    "                                     transform = torchvision.transforms.ToTensor())\n",
    "train_dataloader = DataLoader(dataset,batch_size=8,shuffle=True)\n",
    "X,y = next(iter(train_dataloader))"
   ]
  },
  {
   "cell_type": "code",
   "execution_count": 7,
   "id": "c65b52df",
   "metadata": {},
   "outputs": [
    {
     "name": "stdout",
     "output_type": "stream",
     "text": [
      "Input shape: torch.Size([8, 1, 28, 28])\n",
      "Labels: tensor([5, 7, 9, 5, 4, 5, 3, 3])\n"
     ]
    }
   ],
   "source": [
    "print('Input shape:',X.shape)\n",
    "print('Labels:',y)"
   ]
  },
  {
   "cell_type": "code",
   "execution_count": null,
   "id": "b5c3e03c",
   "metadata": {
    "pycharm": {
     "is_executing": true
    }
   },
   "outputs": [
    {
     "data": {
      "text/plain": "<matplotlib.image.AxesImage at 0x26b9b6e7c70>"
     },
     "execution_count": 8,
     "metadata": {},
     "output_type": "execute_result"
    }
   ],
   "source": [
    "plt.imshow(torchvision.utils.make_grid(X)[0],cmap='Greys')"
   ]
  },
  {
   "cell_type": "markdown",
   "id": "d573018d",
   "metadata": {},
   "source": [
    "扩散模型之退还过程，加噪处理"
   ]
  },
  {
   "cell_type": "code",
   "execution_count": 1,
   "id": "b9edf700",
   "metadata": {},
   "outputs": [
    {
     "ename": "NameError",
     "evalue": "name 'torch' is not defined",
     "output_type": "error",
     "traceback": [
      "\u001B[1;31m---------------------------------------------------------------------------\u001B[0m",
      "\u001B[1;31mNameError\u001B[0m                                 Traceback (most recent call last)",
      "Cell \u001B[1;32mIn[1], line 1\u001B[0m\n\u001B[1;32m----> 1\u001B[0m noise \u001B[38;5;241m=\u001B[39m \u001B[43mtorch\u001B[49m\u001B[38;5;241m.\u001B[39mrand_like(X)\n\u001B[0;32m      2\u001B[0m \u001B[38;5;28mprint\u001B[39m(noise)\n\u001B[0;32m      3\u001B[0m noise_x \u001B[38;5;241m=\u001B[39m (\u001B[38;5;241m1\u001B[39m\u001B[38;5;241m-\u001B[39mamount)\u001B[38;5;241m*\u001B[39mx \u001B[38;5;241m+\u001B[39m amount \u001B[38;5;241m*\u001B[39mnoise\n",
      "\u001B[1;31mNameError\u001B[0m: name 'torch' is not defined"
     ]
    }
   ],
   "source": [
    "noise = torch.rand_like(X)\n",
    "print(noise)\n",
    "noise_x = (1-amount)*x + amount *noise\n",
    "print(noise_x)"
   ]
  },
  {
   "cell_type": "code",
   "execution_count": null,
   "id": "bb689438",
   "metadata": {},
   "outputs": [],
   "source": [
    "def corrupt(x,amount):\n",
    "    \"\"\"根据amount为输入x加入噪声，这就是退化过程\"\"\"\n",
    "    noise = torch.rand_like(x)\n",
    "    amount = amount.view(-1,1,1,1) # 整理形状以保证广播机制不出错\n",
    "    return x*(1-amount) + noise*amount"
   ]
  },
  {
   "cell_type": "code",
   "execution_count": null,
   "id": "a07a46a5",
   "metadata": {},
   "outputs": [],
   "source": [
    "# 绘制输入数据\n",
    "fig ,ax = plt.subplots(2,1,figsize=(12,5))\n",
    "axs[0].set_title('input data')\n",
    "axs[0].imshow(torchvision.utils.make_grid(x)[0],cmap='Greys')\n",
    "\n",
    "# 加入噪声\n",
    "amount = torch.linspace(0,1,X.shape[0]) # 从0到1 -> 退化更强烈\n",
    "noise_x = corrupt(x,amount)\n",
    "\n",
    "# 绘制加噪版本的图像\n",
    "axs[1].set_title('Corrupted data (-- amount invreases -->)')\n",
    "axs[1].imshow(torchvision.utils.make_grid(noised_x)[0],cmap='Greys')"
   ]
  },
  {
   "cell_type": "code",
   "execution_count": null,
   "id": "8b5ba748",
   "metadata": {},
   "outputs": [],
   "source": []
  }
 ],
 "metadata": {
  "kernelspec": {
   "display_name": "openmmlab",
   "language": "python",
   "name": "openmmlab"
  },
  "language_info": {
   "codemirror_mode": {
    "name": "ipython",
    "version": 3
   },
   "file_extension": ".py",
   "mimetype": "text/x-python",
   "name": "python",
   "nbconvert_exporter": "python",
   "pygments_lexer": "ipython3",
   "version": "3.10.9"
  }
 },
 "nbformat": 4,
 "nbformat_minor": 5
}